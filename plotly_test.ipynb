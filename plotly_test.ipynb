{
 "cells": [
  {
   "cell_type": "code",
   "execution_count": 1,
   "metadata": {},
   "outputs": [],
   "source": [
    "import plotly.express as px \n",
    "import pandas as pd \n",
    "import numpy as np"
   ]
  },
  {
   "cell_type": "code",
   "execution_count": 2,
   "metadata": {},
   "outputs": [],
   "source": [
    "# File to Load\n",
    "csv_file = \"csv/ba_beerstyles.csv\"\n",
    "\n",
    "# file path\n",
    "beer_df = pd.read_csv(csv_file)\n"
   ]
  },
  {
   "cell_type": "code",
   "execution_count": 5,
   "metadata": {},
   "outputs": [],
   "source": [
    "fig = px.sunburst(\n",
    "    data_frame=beer_df,\n",
    "    path=[\"Glassware\", \"Category\", \"Style\"], \n",
    "    color=\"Glassware\",\n",
    "    color_discrete_sequence=px.colors.qualitative.Pastel,\n",
    "    maxdepth=-1,\n",
    ")"
   ]
  },
  {
   "cell_type": "code",
   "execution_count": 6,
   "metadata": {},
   "outputs": [
    {
     "data": {
      "application/vnd.plotly.v1+json": {
       "config": {
        "plotlyServerURL": "https://plot.ly"
       },
       "data": [
        {
         "branchvalues": "total",
         "customdata": [
          [
           "Snifter"
          ],
          [
           "Pint Glass"
          ],
          [
           "Pint Glass"
          ],
          [
           "Pint Glass"
          ],
          [
           "Tulip"
          ],
          [
           "Snifter"
          ],
          [
           "Tulip"
          ],
          [
           "Pilsener Glass"
          ],
          [
           "Pint Glass"
          ],
          [
           "Pint Glass"
          ],
          [
           "Pint Glass"
          ],
          [
           "Weizen Glass"
          ],
          [
           "Tulip"
          ],
          [
           "Goblet"
          ],
          [
           "Pilsener Glass"
          ],
          [
           "Pint Glass"
          ],
          [
           "Pint Glass"
          ],
          [
           "Tulip"
          ],
          [
           "Pint Glass"
          ],
          [
           "Pint Glass"
          ],
          [
           "Pint Glass"
          ],
          [
           "Pint Glass"
          ],
          [
           "Tulip"
          ],
          [
           "Pint Glass"
          ],
          [
           "Pilsener Glass"
          ],
          [
           "Goblet"
          ],
          [
           "Pint Glass"
          ],
          [
           "Pint Glass"
          ],
          [
           "Weizen Glass"
          ],
          [
           "Snifter"
          ],
          [
           "Pint Glass"
          ],
          [
           "Pint Glass"
          ],
          [
           "Pint Glass"
          ],
          [
           "Snifter"
          ],
          [
           "Pint Glass"
          ],
          [
           "Pint Glass"
          ],
          [
           "Pilsener Glass"
          ],
          [
           "Tulip"
          ],
          [
           "Pint Glass"
          ],
          [
           "Tulip"
          ],
          [
           "Tulip"
          ],
          [
           "Tulip"
          ],
          [
           "Weizen Glass"
          ],
          [
           "Snifter"
          ],
          [
           "Weizen Glass"
          ],
          [
           "Flute"
          ],
          [
           "Mug"
          ],
          [
           "Stange"
          ],
          [
           "Pint Glass"
          ],
          [
           "Tulip"
          ],
          [
           "Snifter"
          ],
          [
           "Tulip"
          ],
          [
           "Snifter"
          ],
          [
           "Goblet"
          ],
          [
           "Tulip"
          ],
          [
           "Tulip"
          ],
          [
           "Tulip"
          ],
          [
           "Tulip"
          ],
          [
           "Pilsener Glass"
          ],
          [
           "Tulip"
          ],
          [
           "Goblet"
          ],
          [
           "Goblet"
          ],
          [
           "Tulip"
          ],
          [
           "Pint Glass"
          ],
          [
           "Goblet"
          ],
          [
           "Flute"
          ],
          [
           "Pint Glass"
          ],
          [
           "Pilsener Glass"
          ],
          [
           "Weizen Glass"
          ],
          [
           "Goblet"
          ],
          [
           "Tulip"
          ],
          [
           "Flute"
          ],
          [
           "Pint Glass"
          ],
          [
           "Pint Glass"
          ],
          [
           "Pilsener Glass"
          ],
          [
           "Tulip"
          ],
          [
           "Goblet"
          ],
          [
           "Tulip"
          ],
          [
           "Pint Glass"
          ],
          [
           "Pint Glass"
          ],
          [
           "Pint Glass"
          ],
          [
           "Pilsener Glass"
          ],
          [
           "Tulip"
          ],
          [
           "Tulip"
          ],
          [
           "Tulip"
          ],
          [
           "Pint Glass"
          ],
          [
           "Pilsener Glass"
          ],
          [
           "Pint Glass"
          ],
          [
           "Tulip"
          ],
          [
           "Stange"
          ],
          [
           "Pint Glass"
          ],
          [
           "Tulip"
          ],
          [
           "Goblet"
          ],
          [
           "Tulip"
          ],
          [
           "Tulip"
          ],
          [
           "Goblet"
          ],
          [
           "Tulip"
          ],
          [
           "Mug"
          ],
          [
           "Pilsener Glass"
          ],
          [
           "Pilsener Glass"
          ],
          [
           "Pilsener Glass"
          ],
          [
           "Pint Glass"
          ],
          [
           "Pilsener Glass"
          ],
          [
           "Goblet"
          ],
          [
           "Pint Glass"
          ],
          [
           "Snifter"
          ],
          [
           "Pint Glass"
          ],
          [
           "Snifter"
          ],
          [
           "Pint Glass"
          ],
          [
           "Pilsener Glass"
          ],
          [
           "Tulip"
          ],
          [
           "Goblet"
          ],
          [
           "Snifter"
          ],
          [
           "Tulip"
          ],
          [
           "Pint Glass"
          ],
          [
           "Stange"
          ],
          [
           "Goblet"
          ],
          [
           "Pint Glass"
          ],
          [
           "Tulip"
          ],
          [
           "Mug"
          ],
          [
           "Pilsener Glass"
          ],
          [
           "Pint Glass"
          ],
          [
           "Flute"
          ],
          [
           "Pint Glass"
          ],
          [
           "Tulip"
          ],
          [
           "Pint Glass"
          ],
          [
           "Tulip"
          ],
          [
           "Pint Glass"
          ],
          [
           "Stange"
          ],
          [
           "Tulip"
          ],
          [
           "Flute"
          ],
          [
           "Goblet"
          ],
          [
           "Mug"
          ],
          [
           "Pilsener Glass"
          ],
          [
           "Pint Glass"
          ],
          [
           "Goblet"
          ],
          [
           "Pint Glass"
          ],
          [
           "Pilsener Glass"
          ],
          [
           "Pint Glass"
          ],
          [
           "Tulip"
          ],
          [
           "Pint Glass"
          ],
          [
           "Snifter"
          ],
          [
           "Goblet"
          ],
          [
           "Snifter"
          ],
          [
           "Tulip"
          ],
          [
           "Goblet"
          ],
          [
           "Tulip"
          ],
          [
           "Weizen Glass"
          ],
          [
           "Pilsener Glass"
          ],
          [
           "Tulip"
          ],
          [
           "Flute"
          ],
          [
           "Goblet"
          ],
          [
           "Mug"
          ],
          [
           "Pilsener Glass"
          ],
          [
           "Pint Glass"
          ],
          [
           "Snifter"
          ],
          [
           "Stange"
          ],
          [
           "Tulip"
          ],
          [
           "Weizen Glass"
          ]
         ],
         "domain": {
          "x": [
           0,
           1
          ],
          "y": [
           0,
           1
          ]
         },
         "hovertemplate": "labels=%{label}<br>count=%{value}<br>parent=%{parent}<br>id=%{id}<br>Glassware=%{customdata[0]}<extra></extra>",
         "ids": [
          "Snifter/Strong Ale/English Old Ale",
          "Pint Glass/Stout/American Stout",
          "Pint Glass/India Pale Ale/English India Pale Ale",
          "Pint Glass/India Pale Ale/New England IPA",
          "Tulip/Specialty Beer/Herb and Spice Beer",
          "Snifter/Strong Ale/American Barleywine",
          "Tulip/Bock/German Weizenbock",
          "Pilsener Glass/Dark Lager/German Schwarzbier",
          "Pint Glass/Dark Ale/German Roggenbier",
          "Pint Glass/Pale Ale/English Extra Special ",
          "Pint Glass/Pale Ale/English Pale Ale",
          "Weizen Glass/Wheat Beer/American Dark Wheat Ale",
          "Tulip/India Pale Ale/American IPA",
          "Goblet/Porter/American Imperial Porter",
          "Pilsener Glass/Pilsener & Pale Lager/American Lager",
          "Pint Glass/Stout/English Oatmeal Stout",
          "Pint Glass/Brown Ale/English Dark Mild Ale",
          "Tulip/Wild / Sour Beer/Flanders Oud Bruin ",
          "Pint Glass/Brown Ale/English Brown Ale",
          "Pint Glass/Pale Ale/English Bitter",
          "Pint Glass/Specialty Beer/Chile Beer",
          "Pint Glass/Hybrid Beer/California Common / Steam Beer",
          "Tulip/Hybrid Beer/Braggot",
          "Pint Glass/Specialty Beer/Finnish Sahti",
          "Pilsener Glass/Pilsener & Pale Lager/Bohemian Pilsener",
          "Goblet/Dark Ale/Winter Warmer",
          "Pint Glass/Pilsener & Pale Lager/American Malt Lager ",
          "Pint Glass/Pale Ale/American Pale Ale",
          "Weizen Glass/Wheat Beer/American Pale Wheat Ale",
          "Snifter/Stout/American Imperial Stout",
          "Pint Glass/Pale Ale/English Pale Mild Ale",
          "Pint Glass/Porter/English Porter",
          "Pint Glass/Stout/English Stout",
          "Snifter/Strong Ale/English Strong Ale",
          "Pint Glass/Stout/English Sweet / Milk Stout",
          "Pint Glass/Dark Lager/European Dark Lager",
          "Pilsener Glass/Pilsener & Pale Lager/European Export / Dortmunder",
          "Tulip/Strong Ale/American Imperian Red Ale",
          "Pint Glass/Brown Ale/American Brown Ale",
          "Tulip/Pale Ale/French Biere de Garde",
          "Tulip/Specialty Beer/Fruit and Field Beer",
          "Tulip/Bock/German Bock",
          "Weizen Glass/Wheat Beer/German Dunkelweizen ",
          "Snifter/Bock/German Eisbock",
          "Weizen Glass/Wheat Beer/German Hefeweizen",
          "Flute/Pilsener & Pale Lager/German Helles",
          "Mug/Pilsener & Pale Lager/German Kellerbier / Zwickelbier",
          "Stange/Pale Ale/German Kolsch",
          "Pint Glass/Pale Ale/American Blonde Ale",
          "Tulip/Wild / Sour Beer/Flanders Red Ale",
          "Snifter/Strong Ale/American Wheatwine Ale",
          "Tulip/India Pale Ale/American Imperial IPA",
          "Snifter/Strong Ale/English Barleywine",
          "Goblet/Dark Ale/Belgian Dubble",
          "Tulip/Wild / Sour Beer/Belgian Faro",
          "Tulip/Wild / Sour Beer/Belgian Fruit Lambic",
          "Tulip/Wild / Sour Beer/Belgian Gueuze",
          "Tulip/India Pale Ale/Belgian IPA",
          "Pilsener Glass/Pilsener & Pale Lager/American Light Lager",
          "Tulip/Pale Ale/Belgian Saison",
          "Goblet/Strong Ale/Belgian Strong Dark Ale",
          "Goblet/Strong Ale/Belgian Strong Pale Ale",
          "Tulip/Wild / Sour Beer/American Brett",
          "Pint Glass/Porter/American Porter",
          "Goblet/Strong Ale/Belgian Tripel ",
          "Flute/Hybrid Beer/Biere de Champagne / Biere Brut",
          "Pint Glass/Dark Lager/German Rauchbier",
          "Pilsener Glass/Specialty Beer/Japanese Happoshu",
          "Weizen Glass/Wheat Beer/German Kristalweizen",
          "Goblet/Bock/German Maibock",
          "Tulip/Bock/German Doppelbock",
          "Flute/Pilsener & Pale Lager/German Pilsner",
          "Pint Glass/Stout/Irish Dry Stout",
          "Pint Glass/Pale Ale/Irish Red Ale",
          "Pilsener Glass/Dark Lager/American Amber / Red Lager",
          "Tulip/India Pale Ale/American Brut IPA",
          "Goblet/Wheat Beer/Berliner Weisse",
          "Tulip/Specialty Beer/Scottish Gruit / Ancient Herbed Ale",
          "Pint Glass/Specialty Beer/Smoke Beer",
          "Pint Glass/Porter/Smoke Porter",
          "Pint Glass/Specialty Beer/Russian Kvass",
          "Pilsener Glass/Specialty Beer/Japanese Rice Lager",
          "Tulip/Dark Ale/American Black Ale",
          "Tulip/Dark Ale/Scottish Ale",
          "Tulip/Strong Ale/Scotch Ale / Wee Heavy",
          "Pint Glass/Pale Ale/American Amber / Red Ale",
          "Pilsener Glass/Dark Lager/Munich Dunkel Lager",
          "Pint Glass/Specialty Beer/Rye Beer",
          "Tulip/Wild / Sour Beer/American Wild Ale",
          "Stange/Brown Ale/German Altbier",
          "Pint Glass/Porter/Baltic Porter",
          "Tulip/Pale Ale/Belgian Blonde Ale",
          "Goblet/Dark Ale/Belgian Dark Ale",
          "Tulip/Wild / Sour Beer/Belgian Lambic",
          "Tulip/Pale Ale/Belgian Pale Ale",
          "Goblet/Strong Ale/Belgian Quadrupel ",
          "Tulip/Wheat Beer/Belgian Witbier ",
          "Mug/Dark Lager/German Marzen / Oktoberfest",
          "Pilsener Glass/Pilsener & Pale Lager/American Adjunt Lager",
          "Pilsener Glass/Pilsener & Pale Lager/American Imperial Pilsner",
          "Pilsener Glass/Dark Lager/Vienna Lager",
          "Pint Glass/Hybrid Beer/American Cream Ale",
          "Pilsener Glass/Pilsener & Pale Lager/European Pale Lager",
          "Goblet/Pilsener & Pale Lager/European Strong Lager",
          "Pint Glass/Stout/Foreign / Export Stout",
          "Snifter/Strong Ale/American Strong Ale",
          "Pint Glass/Porter/Robust Porter",
          "Snifter/Stout/Russian Imperial Stout",
          "Pint Glass/Specialty Beer/Low Alcohol Beer",
          "Pilsener Glass/Wild / Sour Beer/Leipzig Gose",
          "Tulip/Specialty Beer/Pumpkin Beer",
          "Goblet/Bock",
          "Snifter/Bock",
          "Tulip/Bock",
          "Pint Glass/Brown Ale",
          "Stange/Brown Ale",
          "Goblet/Dark Ale",
          "Pint Glass/Dark Ale",
          "Tulip/Dark Ale",
          "Mug/Dark Lager",
          "Pilsener Glass/Dark Lager",
          "Pint Glass/Dark Lager",
          "Flute/Hybrid Beer",
          "Pint Glass/Hybrid Beer",
          "Tulip/Hybrid Beer",
          "Pint Glass/India Pale Ale",
          "Tulip/India Pale Ale",
          "Pint Glass/Pale Ale",
          "Stange/Pale Ale",
          "Tulip/Pale Ale",
          "Flute/Pilsener & Pale Lager",
          "Goblet/Pilsener & Pale Lager",
          "Mug/Pilsener & Pale Lager",
          "Pilsener Glass/Pilsener & Pale Lager",
          "Pint Glass/Pilsener & Pale Lager",
          "Goblet/Porter",
          "Pint Glass/Porter",
          "Pilsener Glass/Specialty Beer",
          "Pint Glass/Specialty Beer",
          "Tulip/Specialty Beer",
          "Pint Glass/Stout",
          "Snifter/Stout",
          "Goblet/Strong Ale",
          "Snifter/Strong Ale",
          "Tulip/Strong Ale",
          "Goblet/Wheat Beer",
          "Tulip/Wheat Beer",
          "Weizen Glass/Wheat Beer",
          "Pilsener Glass/Wild / Sour Beer",
          "Tulip/Wild / Sour Beer",
          "Flute",
          "Goblet",
          "Mug",
          "Pilsener Glass",
          "Pint Glass",
          "Snifter",
          "Stange",
          "Tulip",
          "Weizen Glass"
         ],
         "labels": [
          "English Old Ale",
          "American Stout",
          "English India Pale Ale",
          "New England IPA",
          "Herb and Spice Beer",
          "American Barleywine",
          "German Weizenbock",
          "German Schwarzbier",
          "German Roggenbier",
          "English Extra Special ",
          "English Pale Ale",
          "American Dark Wheat Ale",
          "American IPA",
          "American Imperial Porter",
          "American Lager",
          "English Oatmeal Stout",
          "English Dark Mild Ale",
          "Flanders Oud Bruin ",
          "English Brown Ale",
          "English Bitter",
          "Chile Beer",
          "California Common / Steam Beer",
          "Braggot",
          "Finnish Sahti",
          "Bohemian Pilsener",
          "Winter Warmer",
          "American Malt Lager ",
          "American Pale Ale",
          "American Pale Wheat Ale",
          "American Imperial Stout",
          "English Pale Mild Ale",
          "English Porter",
          "English Stout",
          "English Strong Ale",
          "English Sweet / Milk Stout",
          "European Dark Lager",
          "European Export / Dortmunder",
          "American Imperian Red Ale",
          "American Brown Ale",
          "French Biere de Garde",
          "Fruit and Field Beer",
          "German Bock",
          "German Dunkelweizen ",
          "German Eisbock",
          "German Hefeweizen",
          "German Helles",
          "German Kellerbier / Zwickelbier",
          "German Kolsch",
          "American Blonde Ale",
          "Flanders Red Ale",
          "American Wheatwine Ale",
          "American Imperial IPA",
          "English Barleywine",
          "Belgian Dubble",
          "Belgian Faro",
          "Belgian Fruit Lambic",
          "Belgian Gueuze",
          "Belgian IPA",
          "American Light Lager",
          "Belgian Saison",
          "Belgian Strong Dark Ale",
          "Belgian Strong Pale Ale",
          "American Brett",
          "American Porter",
          "Belgian Tripel ",
          "Biere de Champagne / Biere Brut",
          "German Rauchbier",
          "Japanese Happoshu",
          "German Kristalweizen",
          "German Maibock",
          "German Doppelbock",
          "German Pilsner",
          "Irish Dry Stout",
          "Irish Red Ale",
          "American Amber / Red Lager",
          "American Brut IPA",
          "Berliner Weisse",
          "Scottish Gruit / Ancient Herbed Ale",
          "Smoke Beer",
          "Smoke Porter",
          "Russian Kvass",
          "Japanese Rice Lager",
          "American Black Ale",
          "Scottish Ale",
          "Scotch Ale / Wee Heavy",
          "American Amber / Red Ale",
          "Munich Dunkel Lager",
          "Rye Beer",
          "American Wild Ale",
          "German Altbier",
          "Baltic Porter",
          "Belgian Blonde Ale",
          "Belgian Dark Ale",
          "Belgian Lambic",
          "Belgian Pale Ale",
          "Belgian Quadrupel ",
          "Belgian Witbier ",
          "German Marzen / Oktoberfest",
          "American Adjunt Lager",
          "American Imperial Pilsner",
          "Vienna Lager",
          "American Cream Ale",
          "European Pale Lager",
          "European Strong Lager",
          "Foreign / Export Stout",
          "American Strong Ale",
          "Robust Porter",
          "Russian Imperial Stout",
          "Low Alcohol Beer",
          "Leipzig Gose",
          "Pumpkin Beer",
          "Bock",
          "Bock",
          "Bock",
          "Brown Ale",
          "Brown Ale",
          "Dark Ale",
          "Dark Ale",
          "Dark Ale",
          "Dark Lager",
          "Dark Lager",
          "Dark Lager",
          "Hybrid Beer",
          "Hybrid Beer",
          "Hybrid Beer",
          "India Pale Ale",
          "India Pale Ale",
          "Pale Ale",
          "Pale Ale",
          "Pale Ale",
          "Pilsener & Pale Lager",
          "Pilsener & Pale Lager",
          "Pilsener & Pale Lager",
          "Pilsener & Pale Lager",
          "Pilsener & Pale Lager",
          "Porter",
          "Porter",
          "Specialty Beer",
          "Specialty Beer",
          "Specialty Beer",
          "Stout",
          "Stout",
          "Strong Ale",
          "Strong Ale",
          "Strong Ale",
          "Wheat Beer",
          "Wheat Beer",
          "Wheat Beer",
          "Wild / Sour Beer",
          "Wild / Sour Beer",
          "Flute",
          "Goblet",
          "Mug",
          "Pilsener Glass",
          "Pint Glass",
          "Snifter",
          "Stange",
          "Tulip",
          "Weizen Glass"
         ],
         "marker": {
          "colors": [
           "rgb(102, 197, 204)",
           "rgb(246, 207, 113)",
           "rgb(246, 207, 113)",
           "rgb(246, 207, 113)",
           "rgb(248, 156, 116)",
           "rgb(102, 197, 204)",
           "rgb(248, 156, 116)",
           "rgb(220, 176, 242)",
           "rgb(246, 207, 113)",
           "rgb(246, 207, 113)",
           "rgb(246, 207, 113)",
           "rgb(135, 197, 95)",
           "rgb(248, 156, 116)",
           "rgb(158, 185, 243)",
           "rgb(220, 176, 242)",
           "rgb(246, 207, 113)",
           "rgb(246, 207, 113)",
           "rgb(248, 156, 116)",
           "rgb(246, 207, 113)",
           "rgb(246, 207, 113)",
           "rgb(246, 207, 113)",
           "rgb(246, 207, 113)",
           "rgb(248, 156, 116)",
           "rgb(246, 207, 113)",
           "rgb(220, 176, 242)",
           "rgb(158, 185, 243)",
           "rgb(246, 207, 113)",
           "rgb(246, 207, 113)",
           "rgb(135, 197, 95)",
           "rgb(102, 197, 204)",
           "rgb(246, 207, 113)",
           "rgb(246, 207, 113)",
           "rgb(246, 207, 113)",
           "rgb(102, 197, 204)",
           "rgb(246, 207, 113)",
           "rgb(246, 207, 113)",
           "rgb(220, 176, 242)",
           "rgb(248, 156, 116)",
           "rgb(246, 207, 113)",
           "rgb(248, 156, 116)",
           "rgb(248, 156, 116)",
           "rgb(248, 156, 116)",
           "rgb(135, 197, 95)",
           "rgb(102, 197, 204)",
           "rgb(135, 197, 95)",
           "rgb(254, 136, 177)",
           "rgb(201, 219, 116)",
           "rgb(139, 224, 164)",
           "rgb(246, 207, 113)",
           "rgb(248, 156, 116)",
           "rgb(102, 197, 204)",
           "rgb(248, 156, 116)",
           "rgb(102, 197, 204)",
           "rgb(158, 185, 243)",
           "rgb(248, 156, 116)",
           "rgb(248, 156, 116)",
           "rgb(248, 156, 116)",
           "rgb(248, 156, 116)",
           "rgb(220, 176, 242)",
           "rgb(248, 156, 116)",
           "rgb(158, 185, 243)",
           "rgb(158, 185, 243)",
           "rgb(248, 156, 116)",
           "rgb(246, 207, 113)",
           "rgb(158, 185, 243)",
           "rgb(254, 136, 177)",
           "rgb(246, 207, 113)",
           "rgb(220, 176, 242)",
           "rgb(135, 197, 95)",
           "rgb(158, 185, 243)",
           "rgb(248, 156, 116)",
           "rgb(254, 136, 177)",
           "rgb(246, 207, 113)",
           "rgb(246, 207, 113)",
           "rgb(220, 176, 242)",
           "rgb(248, 156, 116)",
           "rgb(158, 185, 243)",
           "rgb(248, 156, 116)",
           "rgb(246, 207, 113)",
           "rgb(246, 207, 113)",
           "rgb(246, 207, 113)",
           "rgb(220, 176, 242)",
           "rgb(248, 156, 116)",
           "rgb(248, 156, 116)",
           "rgb(248, 156, 116)",
           "rgb(246, 207, 113)",
           "rgb(220, 176, 242)",
           "rgb(246, 207, 113)",
           "rgb(248, 156, 116)",
           "rgb(139, 224, 164)",
           "rgb(246, 207, 113)",
           "rgb(248, 156, 116)",
           "rgb(158, 185, 243)",
           "rgb(248, 156, 116)",
           "rgb(248, 156, 116)",
           "rgb(158, 185, 243)",
           "rgb(248, 156, 116)",
           "rgb(201, 219, 116)",
           "rgb(220, 176, 242)",
           "rgb(220, 176, 242)",
           "rgb(220, 176, 242)",
           "rgb(246, 207, 113)",
           "rgb(220, 176, 242)",
           "rgb(158, 185, 243)",
           "rgb(246, 207, 113)",
           "rgb(102, 197, 204)",
           "rgb(246, 207, 113)",
           "rgb(102, 197, 204)",
           "rgb(246, 207, 113)",
           "rgb(220, 176, 242)",
           "rgb(248, 156, 116)",
           "rgb(158, 185, 243)",
           "rgb(102, 197, 204)",
           "rgb(248, 156, 116)",
           "rgb(246, 207, 113)",
           "rgb(139, 224, 164)",
           "rgb(158, 185, 243)",
           "rgb(246, 207, 113)",
           "rgb(248, 156, 116)",
           "rgb(201, 219, 116)",
           "rgb(220, 176, 242)",
           "rgb(246, 207, 113)",
           "rgb(254, 136, 177)",
           "rgb(246, 207, 113)",
           "rgb(248, 156, 116)",
           "rgb(246, 207, 113)",
           "rgb(248, 156, 116)",
           "rgb(246, 207, 113)",
           "rgb(139, 224, 164)",
           "rgb(248, 156, 116)",
           "rgb(254, 136, 177)",
           "rgb(158, 185, 243)",
           "rgb(201, 219, 116)",
           "rgb(220, 176, 242)",
           "rgb(246, 207, 113)",
           "rgb(158, 185, 243)",
           "rgb(246, 207, 113)",
           "rgb(220, 176, 242)",
           "rgb(246, 207, 113)",
           "rgb(248, 156, 116)",
           "rgb(246, 207, 113)",
           "rgb(102, 197, 204)",
           "rgb(158, 185, 243)",
           "rgb(102, 197, 204)",
           "rgb(248, 156, 116)",
           "rgb(158, 185, 243)",
           "rgb(248, 156, 116)",
           "rgb(135, 197, 95)",
           "rgb(220, 176, 242)",
           "rgb(248, 156, 116)",
           "rgb(254, 136, 177)",
           "rgb(158, 185, 243)",
           "rgb(201, 219, 116)",
           "rgb(220, 176, 242)",
           "rgb(246, 207, 113)",
           "rgb(102, 197, 204)",
           "rgb(139, 224, 164)",
           "rgb(248, 156, 116)",
           "rgb(135, 197, 95)"
          ]
         },
         "maxdepth": -1,
         "name": "",
         "parents": [
          "Snifter/Strong Ale",
          "Pint Glass/Stout",
          "Pint Glass/India Pale Ale",
          "Pint Glass/India Pale Ale",
          "Tulip/Specialty Beer",
          "Snifter/Strong Ale",
          "Tulip/Bock",
          "Pilsener Glass/Dark Lager",
          "Pint Glass/Dark Ale",
          "Pint Glass/Pale Ale",
          "Pint Glass/Pale Ale",
          "Weizen Glass/Wheat Beer",
          "Tulip/India Pale Ale",
          "Goblet/Porter",
          "Pilsener Glass/Pilsener & Pale Lager",
          "Pint Glass/Stout",
          "Pint Glass/Brown Ale",
          "Tulip/Wild / Sour Beer",
          "Pint Glass/Brown Ale",
          "Pint Glass/Pale Ale",
          "Pint Glass/Specialty Beer",
          "Pint Glass/Hybrid Beer",
          "Tulip/Hybrid Beer",
          "Pint Glass/Specialty Beer",
          "Pilsener Glass/Pilsener & Pale Lager",
          "Goblet/Dark Ale",
          "Pint Glass/Pilsener & Pale Lager",
          "Pint Glass/Pale Ale",
          "Weizen Glass/Wheat Beer",
          "Snifter/Stout",
          "Pint Glass/Pale Ale",
          "Pint Glass/Porter",
          "Pint Glass/Stout",
          "Snifter/Strong Ale",
          "Pint Glass/Stout",
          "Pint Glass/Dark Lager",
          "Pilsener Glass/Pilsener & Pale Lager",
          "Tulip/Strong Ale",
          "Pint Glass/Brown Ale",
          "Tulip/Pale Ale",
          "Tulip/Specialty Beer",
          "Tulip/Bock",
          "Weizen Glass/Wheat Beer",
          "Snifter/Bock",
          "Weizen Glass/Wheat Beer",
          "Flute/Pilsener & Pale Lager",
          "Mug/Pilsener & Pale Lager",
          "Stange/Pale Ale",
          "Pint Glass/Pale Ale",
          "Tulip/Wild / Sour Beer",
          "Snifter/Strong Ale",
          "Tulip/India Pale Ale",
          "Snifter/Strong Ale",
          "Goblet/Dark Ale",
          "Tulip/Wild / Sour Beer",
          "Tulip/Wild / Sour Beer",
          "Tulip/Wild / Sour Beer",
          "Tulip/India Pale Ale",
          "Pilsener Glass/Pilsener & Pale Lager",
          "Tulip/Pale Ale",
          "Goblet/Strong Ale",
          "Goblet/Strong Ale",
          "Tulip/Wild / Sour Beer",
          "Pint Glass/Porter",
          "Goblet/Strong Ale",
          "Flute/Hybrid Beer",
          "Pint Glass/Dark Lager",
          "Pilsener Glass/Specialty Beer",
          "Weizen Glass/Wheat Beer",
          "Goblet/Bock",
          "Tulip/Bock",
          "Flute/Pilsener & Pale Lager",
          "Pint Glass/Stout",
          "Pint Glass/Pale Ale",
          "Pilsener Glass/Dark Lager",
          "Tulip/India Pale Ale",
          "Goblet/Wheat Beer",
          "Tulip/Specialty Beer",
          "Pint Glass/Specialty Beer",
          "Pint Glass/Porter",
          "Pint Glass/Specialty Beer",
          "Pilsener Glass/Specialty Beer",
          "Tulip/Dark Ale",
          "Tulip/Dark Ale",
          "Tulip/Strong Ale",
          "Pint Glass/Pale Ale",
          "Pilsener Glass/Dark Lager",
          "Pint Glass/Specialty Beer",
          "Tulip/Wild / Sour Beer",
          "Stange/Brown Ale",
          "Pint Glass/Porter",
          "Tulip/Pale Ale",
          "Goblet/Dark Ale",
          "Tulip/Wild / Sour Beer",
          "Tulip/Pale Ale",
          "Goblet/Strong Ale",
          "Tulip/Wheat Beer",
          "Mug/Dark Lager",
          "Pilsener Glass/Pilsener & Pale Lager",
          "Pilsener Glass/Pilsener & Pale Lager",
          "Pilsener Glass/Dark Lager",
          "Pint Glass/Hybrid Beer",
          "Pilsener Glass/Pilsener & Pale Lager",
          "Goblet/Pilsener & Pale Lager",
          "Pint Glass/Stout",
          "Snifter/Strong Ale",
          "Pint Glass/Porter",
          "Snifter/Stout",
          "Pint Glass/Specialty Beer",
          "Pilsener Glass/Wild / Sour Beer",
          "Tulip/Specialty Beer",
          "Goblet",
          "Snifter",
          "Tulip",
          "Pint Glass",
          "Stange",
          "Goblet",
          "Pint Glass",
          "Tulip",
          "Mug",
          "Pilsener Glass",
          "Pint Glass",
          "Flute",
          "Pint Glass",
          "Tulip",
          "Pint Glass",
          "Tulip",
          "Pint Glass",
          "Stange",
          "Tulip",
          "Flute",
          "Goblet",
          "Mug",
          "Pilsener Glass",
          "Pint Glass",
          "Goblet",
          "Pint Glass",
          "Pilsener Glass",
          "Pint Glass",
          "Tulip",
          "Pint Glass",
          "Snifter",
          "Goblet",
          "Snifter",
          "Tulip",
          "Goblet",
          "Tulip",
          "Weizen Glass",
          "Pilsener Glass",
          "Tulip",
          "",
          "",
          "",
          "",
          "",
          "",
          "",
          "",
          ""
         ],
         "textinfo": "label+percent entry",
         "type": "sunburst",
         "values": [
          1,
          1,
          1,
          1,
          1,
          1,
          1,
          1,
          1,
          1,
          1,
          1,
          1,
          1,
          1,
          1,
          1,
          1,
          1,
          1,
          1,
          1,
          1,
          1,
          1,
          1,
          1,
          1,
          1,
          1,
          1,
          1,
          1,
          1,
          1,
          1,
          1,
          1,
          1,
          1,
          1,
          1,
          1,
          1,
          1,
          1,
          1,
          1,
          1,
          1,
          1,
          1,
          1,
          1,
          1,
          1,
          1,
          1,
          1,
          1,
          1,
          1,
          1,
          1,
          1,
          1,
          1,
          1,
          1,
          1,
          1,
          1,
          1,
          1,
          1,
          1,
          1,
          1,
          1,
          1,
          1,
          1,
          1,
          1,
          1,
          1,
          1,
          1,
          1,
          1,
          1,
          1,
          1,
          1,
          1,
          1,
          1,
          1,
          1,
          1,
          1,
          1,
          1,
          1,
          1,
          1,
          1,
          1,
          1,
          1,
          1,
          1,
          1,
          3,
          3,
          1,
          3,
          1,
          2,
          1,
          4,
          2,
          1,
          2,
          1,
          2,
          4,
          8,
          1,
          4,
          2,
          1,
          1,
          7,
          1,
          1,
          5,
          2,
          6,
          4,
          6,
          2,
          4,
          6,
          2,
          1,
          1,
          5,
          1,
          8,
          3,
          11,
          2,
          14,
          36,
          9,
          2,
          29,
          5
         ]
        }
       ],
       "layout": {
        "legend": {
         "tracegroupgap": 0
        },
        "margin": {
         "b": 0,
         "l": 0,
         "r": 0,
         "t": 0
        },
        "sunburstcolorway": [
         "rgb(102, 197, 204)",
         "rgb(246, 207, 113)",
         "rgb(248, 156, 116)",
         "rgb(220, 176, 242)",
         "rgb(135, 197, 95)",
         "rgb(158, 185, 243)",
         "rgb(254, 136, 177)",
         "rgb(201, 219, 116)",
         "rgb(139, 224, 164)",
         "rgb(180, 151, 231)",
         "rgb(179, 179, 179)"
        ],
        "template": {
         "data": {
          "bar": [
           {
            "error_x": {
             "color": "#2a3f5f"
            },
            "error_y": {
             "color": "#2a3f5f"
            },
            "marker": {
             "line": {
              "color": "#E5ECF6",
              "width": 0.5
             }
            },
            "type": "bar"
           }
          ],
          "barpolar": [
           {
            "marker": {
             "line": {
              "color": "#E5ECF6",
              "width": 0.5
             }
            },
            "type": "barpolar"
           }
          ],
          "carpet": [
           {
            "aaxis": {
             "endlinecolor": "#2a3f5f",
             "gridcolor": "white",
             "linecolor": "white",
             "minorgridcolor": "white",
             "startlinecolor": "#2a3f5f"
            },
            "baxis": {
             "endlinecolor": "#2a3f5f",
             "gridcolor": "white",
             "linecolor": "white",
             "minorgridcolor": "white",
             "startlinecolor": "#2a3f5f"
            },
            "type": "carpet"
           }
          ],
          "choropleth": [
           {
            "colorbar": {
             "outlinewidth": 0,
             "ticks": ""
            },
            "type": "choropleth"
           }
          ],
          "contour": [
           {
            "colorbar": {
             "outlinewidth": 0,
             "ticks": ""
            },
            "colorscale": [
             [
              0,
              "#0d0887"
             ],
             [
              0.1111111111111111,
              "#46039f"
             ],
             [
              0.2222222222222222,
              "#7201a8"
             ],
             [
              0.3333333333333333,
              "#9c179e"
             ],
             [
              0.4444444444444444,
              "#bd3786"
             ],
             [
              0.5555555555555556,
              "#d8576b"
             ],
             [
              0.6666666666666666,
              "#ed7953"
             ],
             [
              0.7777777777777778,
              "#fb9f3a"
             ],
             [
              0.8888888888888888,
              "#fdca26"
             ],
             [
              1,
              "#f0f921"
             ]
            ],
            "type": "contour"
           }
          ],
          "contourcarpet": [
           {
            "colorbar": {
             "outlinewidth": 0,
             "ticks": ""
            },
            "type": "contourcarpet"
           }
          ],
          "heatmap": [
           {
            "colorbar": {
             "outlinewidth": 0,
             "ticks": ""
            },
            "colorscale": [
             [
              0,
              "#0d0887"
             ],
             [
              0.1111111111111111,
              "#46039f"
             ],
             [
              0.2222222222222222,
              "#7201a8"
             ],
             [
              0.3333333333333333,
              "#9c179e"
             ],
             [
              0.4444444444444444,
              "#bd3786"
             ],
             [
              0.5555555555555556,
              "#d8576b"
             ],
             [
              0.6666666666666666,
              "#ed7953"
             ],
             [
              0.7777777777777778,
              "#fb9f3a"
             ],
             [
              0.8888888888888888,
              "#fdca26"
             ],
             [
              1,
              "#f0f921"
             ]
            ],
            "type": "heatmap"
           }
          ],
          "heatmapgl": [
           {
            "colorbar": {
             "outlinewidth": 0,
             "ticks": ""
            },
            "colorscale": [
             [
              0,
              "#0d0887"
             ],
             [
              0.1111111111111111,
              "#46039f"
             ],
             [
              0.2222222222222222,
              "#7201a8"
             ],
             [
              0.3333333333333333,
              "#9c179e"
             ],
             [
              0.4444444444444444,
              "#bd3786"
             ],
             [
              0.5555555555555556,
              "#d8576b"
             ],
             [
              0.6666666666666666,
              "#ed7953"
             ],
             [
              0.7777777777777778,
              "#fb9f3a"
             ],
             [
              0.8888888888888888,
              "#fdca26"
             ],
             [
              1,
              "#f0f921"
             ]
            ],
            "type": "heatmapgl"
           }
          ],
          "histogram": [
           {
            "marker": {
             "colorbar": {
              "outlinewidth": 0,
              "ticks": ""
             }
            },
            "type": "histogram"
           }
          ],
          "histogram2d": [
           {
            "colorbar": {
             "outlinewidth": 0,
             "ticks": ""
            },
            "colorscale": [
             [
              0,
              "#0d0887"
             ],
             [
              0.1111111111111111,
              "#46039f"
             ],
             [
              0.2222222222222222,
              "#7201a8"
             ],
             [
              0.3333333333333333,
              "#9c179e"
             ],
             [
              0.4444444444444444,
              "#bd3786"
             ],
             [
              0.5555555555555556,
              "#d8576b"
             ],
             [
              0.6666666666666666,
              "#ed7953"
             ],
             [
              0.7777777777777778,
              "#fb9f3a"
             ],
             [
              0.8888888888888888,
              "#fdca26"
             ],
             [
              1,
              "#f0f921"
             ]
            ],
            "type": "histogram2d"
           }
          ],
          "histogram2dcontour": [
           {
            "colorbar": {
             "outlinewidth": 0,
             "ticks": ""
            },
            "colorscale": [
             [
              0,
              "#0d0887"
             ],
             [
              0.1111111111111111,
              "#46039f"
             ],
             [
              0.2222222222222222,
              "#7201a8"
             ],
             [
              0.3333333333333333,
              "#9c179e"
             ],
             [
              0.4444444444444444,
              "#bd3786"
             ],
             [
              0.5555555555555556,
              "#d8576b"
             ],
             [
              0.6666666666666666,
              "#ed7953"
             ],
             [
              0.7777777777777778,
              "#fb9f3a"
             ],
             [
              0.8888888888888888,
              "#fdca26"
             ],
             [
              1,
              "#f0f921"
             ]
            ],
            "type": "histogram2dcontour"
           }
          ],
          "mesh3d": [
           {
            "colorbar": {
             "outlinewidth": 0,
             "ticks": ""
            },
            "type": "mesh3d"
           }
          ],
          "parcoords": [
           {
            "line": {
             "colorbar": {
              "outlinewidth": 0,
              "ticks": ""
             }
            },
            "type": "parcoords"
           }
          ],
          "pie": [
           {
            "automargin": true,
            "type": "pie"
           }
          ],
          "scatter": [
           {
            "marker": {
             "colorbar": {
              "outlinewidth": 0,
              "ticks": ""
             }
            },
            "type": "scatter"
           }
          ],
          "scatter3d": [
           {
            "line": {
             "colorbar": {
              "outlinewidth": 0,
              "ticks": ""
             }
            },
            "marker": {
             "colorbar": {
              "outlinewidth": 0,
              "ticks": ""
             }
            },
            "type": "scatter3d"
           }
          ],
          "scattercarpet": [
           {
            "marker": {
             "colorbar": {
              "outlinewidth": 0,
              "ticks": ""
             }
            },
            "type": "scattercarpet"
           }
          ],
          "scattergeo": [
           {
            "marker": {
             "colorbar": {
              "outlinewidth": 0,
              "ticks": ""
             }
            },
            "type": "scattergeo"
           }
          ],
          "scattergl": [
           {
            "marker": {
             "colorbar": {
              "outlinewidth": 0,
              "ticks": ""
             }
            },
            "type": "scattergl"
           }
          ],
          "scattermapbox": [
           {
            "marker": {
             "colorbar": {
              "outlinewidth": 0,
              "ticks": ""
             }
            },
            "type": "scattermapbox"
           }
          ],
          "scatterpolar": [
           {
            "marker": {
             "colorbar": {
              "outlinewidth": 0,
              "ticks": ""
             }
            },
            "type": "scatterpolar"
           }
          ],
          "scatterpolargl": [
           {
            "marker": {
             "colorbar": {
              "outlinewidth": 0,
              "ticks": ""
             }
            },
            "type": "scatterpolargl"
           }
          ],
          "scatterternary": [
           {
            "marker": {
             "colorbar": {
              "outlinewidth": 0,
              "ticks": ""
             }
            },
            "type": "scatterternary"
           }
          ],
          "surface": [
           {
            "colorbar": {
             "outlinewidth": 0,
             "ticks": ""
            },
            "colorscale": [
             [
              0,
              "#0d0887"
             ],
             [
              0.1111111111111111,
              "#46039f"
             ],
             [
              0.2222222222222222,
              "#7201a8"
             ],
             [
              0.3333333333333333,
              "#9c179e"
             ],
             [
              0.4444444444444444,
              "#bd3786"
             ],
             [
              0.5555555555555556,
              "#d8576b"
             ],
             [
              0.6666666666666666,
              "#ed7953"
             ],
             [
              0.7777777777777778,
              "#fb9f3a"
             ],
             [
              0.8888888888888888,
              "#fdca26"
             ],
             [
              1,
              "#f0f921"
             ]
            ],
            "type": "surface"
           }
          ],
          "table": [
           {
            "cells": {
             "fill": {
              "color": "#EBF0F8"
             },
             "line": {
              "color": "white"
             }
            },
            "header": {
             "fill": {
              "color": "#C8D4E3"
             },
             "line": {
              "color": "white"
             }
            },
            "type": "table"
           }
          ]
         },
         "layout": {
          "annotationdefaults": {
           "arrowcolor": "#2a3f5f",
           "arrowhead": 0,
           "arrowwidth": 1
          },
          "autotypenumbers": "strict",
          "coloraxis": {
           "colorbar": {
            "outlinewidth": 0,
            "ticks": ""
           }
          },
          "colorscale": {
           "diverging": [
            [
             0,
             "#8e0152"
            ],
            [
             0.1,
             "#c51b7d"
            ],
            [
             0.2,
             "#de77ae"
            ],
            [
             0.3,
             "#f1b6da"
            ],
            [
             0.4,
             "#fde0ef"
            ],
            [
             0.5,
             "#f7f7f7"
            ],
            [
             0.6,
             "#e6f5d0"
            ],
            [
             0.7,
             "#b8e186"
            ],
            [
             0.8,
             "#7fbc41"
            ],
            [
             0.9,
             "#4d9221"
            ],
            [
             1,
             "#276419"
            ]
           ],
           "sequential": [
            [
             0,
             "#0d0887"
            ],
            [
             0.1111111111111111,
             "#46039f"
            ],
            [
             0.2222222222222222,
             "#7201a8"
            ],
            [
             0.3333333333333333,
             "#9c179e"
            ],
            [
             0.4444444444444444,
             "#bd3786"
            ],
            [
             0.5555555555555556,
             "#d8576b"
            ],
            [
             0.6666666666666666,
             "#ed7953"
            ],
            [
             0.7777777777777778,
             "#fb9f3a"
            ],
            [
             0.8888888888888888,
             "#fdca26"
            ],
            [
             1,
             "#f0f921"
            ]
           ],
           "sequentialminus": [
            [
             0,
             "#0d0887"
            ],
            [
             0.1111111111111111,
             "#46039f"
            ],
            [
             0.2222222222222222,
             "#7201a8"
            ],
            [
             0.3333333333333333,
             "#9c179e"
            ],
            [
             0.4444444444444444,
             "#bd3786"
            ],
            [
             0.5555555555555556,
             "#d8576b"
            ],
            [
             0.6666666666666666,
             "#ed7953"
            ],
            [
             0.7777777777777778,
             "#fb9f3a"
            ],
            [
             0.8888888888888888,
             "#fdca26"
            ],
            [
             1,
             "#f0f921"
            ]
           ]
          },
          "colorway": [
           "#636efa",
           "#EF553B",
           "#00cc96",
           "#ab63fa",
           "#FFA15A",
           "#19d3f3",
           "#FF6692",
           "#B6E880",
           "#FF97FF",
           "#FECB52"
          ],
          "font": {
           "color": "#2a3f5f"
          },
          "geo": {
           "bgcolor": "white",
           "lakecolor": "white",
           "landcolor": "#E5ECF6",
           "showlakes": true,
           "showland": true,
           "subunitcolor": "white"
          },
          "hoverlabel": {
           "align": "left"
          },
          "hovermode": "closest",
          "mapbox": {
           "style": "light"
          },
          "paper_bgcolor": "white",
          "plot_bgcolor": "#E5ECF6",
          "polar": {
           "angularaxis": {
            "gridcolor": "white",
            "linecolor": "white",
            "ticks": ""
           },
           "bgcolor": "#E5ECF6",
           "radialaxis": {
            "gridcolor": "white",
            "linecolor": "white",
            "ticks": ""
           }
          },
          "scene": {
           "xaxis": {
            "backgroundcolor": "#E5ECF6",
            "gridcolor": "white",
            "gridwidth": 2,
            "linecolor": "white",
            "showbackground": true,
            "ticks": "",
            "zerolinecolor": "white"
           },
           "yaxis": {
            "backgroundcolor": "#E5ECF6",
            "gridcolor": "white",
            "gridwidth": 2,
            "linecolor": "white",
            "showbackground": true,
            "ticks": "",
            "zerolinecolor": "white"
           },
           "zaxis": {
            "backgroundcolor": "#E5ECF6",
            "gridcolor": "white",
            "gridwidth": 2,
            "linecolor": "white",
            "showbackground": true,
            "ticks": "",
            "zerolinecolor": "white"
           }
          },
          "shapedefaults": {
           "line": {
            "color": "#2a3f5f"
           }
          },
          "ternary": {
           "aaxis": {
            "gridcolor": "white",
            "linecolor": "white",
            "ticks": ""
           },
           "baxis": {
            "gridcolor": "white",
            "linecolor": "white",
            "ticks": ""
           },
           "bgcolor": "#E5ECF6",
           "caxis": {
            "gridcolor": "white",
            "linecolor": "white",
            "ticks": ""
           }
          },
          "title": {
           "x": 0.05
          },
          "xaxis": {
           "automargin": true,
           "gridcolor": "white",
           "linecolor": "white",
           "ticks": "",
           "title": {
            "standoff": 15
           },
           "zerolinecolor": "white",
           "zerolinewidth": 2
          },
          "yaxis": {
           "automargin": true,
           "gridcolor": "white",
           "linecolor": "white",
           "ticks": "",
           "title": {
            "standoff": 15
           },
           "zerolinecolor": "white",
           "zerolinewidth": 2
          }
         }
        }
       }
      },
      "text/html": [
       "<div>                            <div id=\"cdcc96d5-67b0-4741-8603-8aaf7bafdb16\" class=\"plotly-graph-div\" style=\"height:525px; width:100%;\"></div>            <script type=\"text/javascript\">                require([\"plotly\"], function(Plotly) {                    window.PLOTLYENV=window.PLOTLYENV || {};                                    if (document.getElementById(\"cdcc96d5-67b0-4741-8603-8aaf7bafdb16\")) {                    Plotly.newPlot(                        \"cdcc96d5-67b0-4741-8603-8aaf7bafdb16\",                        [{\"branchvalues\": \"total\", \"customdata\": [[\"Snifter\"], [\"Pint Glass\"], [\"Pint Glass\"], [\"Pint Glass\"], [\"Tulip\"], [\"Snifter\"], [\"Tulip\"], [\"Pilsener Glass\"], [\"Pint Glass\"], [\"Pint Glass\"], [\"Pint Glass\"], [\"Weizen Glass\"], [\"Tulip\"], [\"Goblet\"], [\"Pilsener Glass\"], [\"Pint Glass\"], [\"Pint Glass\"], [\"Tulip\"], [\"Pint Glass\"], [\"Pint Glass\"], [\"Pint Glass\"], [\"Pint Glass\"], [\"Tulip\"], [\"Pint Glass\"], [\"Pilsener Glass\"], [\"Goblet\"], [\"Pint Glass\"], [\"Pint Glass\"], [\"Weizen Glass\"], [\"Snifter\"], [\"Pint Glass\"], [\"Pint Glass\"], [\"Pint Glass\"], [\"Snifter\"], [\"Pint Glass\"], [\"Pint Glass\"], [\"Pilsener Glass\"], [\"Tulip\"], [\"Pint Glass\"], [\"Tulip\"], [\"Tulip\"], [\"Tulip\"], [\"Weizen Glass\"], [\"Snifter\"], [\"Weizen Glass\"], [\"Flute\"], [\"Mug\"], [\"Stange\"], [\"Pint Glass\"], [\"Tulip\"], [\"Snifter\"], [\"Tulip\"], [\"Snifter\"], [\"Goblet\"], [\"Tulip\"], [\"Tulip\"], [\"Tulip\"], [\"Tulip\"], [\"Pilsener Glass\"], [\"Tulip\"], [\"Goblet\"], [\"Goblet\"], [\"Tulip\"], [\"Pint Glass\"], [\"Goblet\"], [\"Flute\"], [\"Pint Glass\"], [\"Pilsener Glass\"], [\"Weizen Glass\"], [\"Goblet\"], [\"Tulip\"], [\"Flute\"], [\"Pint Glass\"], [\"Pint Glass\"], [\"Pilsener Glass\"], [\"Tulip\"], [\"Goblet\"], [\"Tulip\"], [\"Pint Glass\"], [\"Pint Glass\"], [\"Pint Glass\"], [\"Pilsener Glass\"], [\"Tulip\"], [\"Tulip\"], [\"Tulip\"], [\"Pint Glass\"], [\"Pilsener Glass\"], [\"Pint Glass\"], [\"Tulip\"], [\"Stange\"], [\"Pint Glass\"], [\"Tulip\"], [\"Goblet\"], [\"Tulip\"], [\"Tulip\"], [\"Goblet\"], [\"Tulip\"], [\"Mug\"], [\"Pilsener Glass\"], [\"Pilsener Glass\"], [\"Pilsener Glass\"], [\"Pint Glass\"], [\"Pilsener Glass\"], [\"Goblet\"], [\"Pint Glass\"], [\"Snifter\"], [\"Pint Glass\"], [\"Snifter\"], [\"Pint Glass\"], [\"Pilsener Glass\"], [\"Tulip\"], [\"Goblet\"], [\"Snifter\"], [\"Tulip\"], [\"Pint Glass\"], [\"Stange\"], [\"Goblet\"], [\"Pint Glass\"], [\"Tulip\"], [\"Mug\"], [\"Pilsener Glass\"], [\"Pint Glass\"], [\"Flute\"], [\"Pint Glass\"], [\"Tulip\"], [\"Pint Glass\"], [\"Tulip\"], [\"Pint Glass\"], [\"Stange\"], [\"Tulip\"], [\"Flute\"], [\"Goblet\"], [\"Mug\"], [\"Pilsener Glass\"], [\"Pint Glass\"], [\"Goblet\"], [\"Pint Glass\"], [\"Pilsener Glass\"], [\"Pint Glass\"], [\"Tulip\"], [\"Pint Glass\"], [\"Snifter\"], [\"Goblet\"], [\"Snifter\"], [\"Tulip\"], [\"Goblet\"], [\"Tulip\"], [\"Weizen Glass\"], [\"Pilsener Glass\"], [\"Tulip\"], [\"Flute\"], [\"Goblet\"], [\"Mug\"], [\"Pilsener Glass\"], [\"Pint Glass\"], [\"Snifter\"], [\"Stange\"], [\"Tulip\"], [\"Weizen Glass\"]], \"domain\": {\"x\": [0.0, 1.0], \"y\": [0.0, 1.0]}, \"hovertemplate\": \"labels=%{label}<br>count=%{value}<br>parent=%{parent}<br>id=%{id}<br>Glassware=%{customdata[0]}<extra></extra>\", \"ids\": [\"Snifter/Strong Ale/English Old Ale\", \"Pint Glass/Stout/American Stout\", \"Pint Glass/India Pale Ale/English India Pale Ale\", \"Pint Glass/India Pale Ale/New England IPA\", \"Tulip/Specialty Beer/Herb and Spice Beer\", \"Snifter/Strong Ale/American Barleywine\", \"Tulip/Bock/German Weizenbock\", \"Pilsener Glass/Dark Lager/German Schwarzbier\", \"Pint Glass/Dark Ale/German Roggenbier\", \"Pint Glass/Pale Ale/English Extra Special \", \"Pint Glass/Pale Ale/English Pale Ale\", \"Weizen Glass/Wheat Beer/American Dark Wheat Ale\", \"Tulip/India Pale Ale/American IPA\", \"Goblet/Porter/American Imperial Porter\", \"Pilsener Glass/Pilsener & Pale Lager/American Lager\", \"Pint Glass/Stout/English Oatmeal Stout\", \"Pint Glass/Brown Ale/English Dark Mild Ale\", \"Tulip/Wild / Sour Beer/Flanders Oud Bruin \", \"Pint Glass/Brown Ale/English Brown Ale\", \"Pint Glass/Pale Ale/English Bitter\", \"Pint Glass/Specialty Beer/Chile Beer\", \"Pint Glass/Hybrid Beer/California Common / Steam Beer\", \"Tulip/Hybrid Beer/Braggot\", \"Pint Glass/Specialty Beer/Finnish Sahti\", \"Pilsener Glass/Pilsener & Pale Lager/Bohemian Pilsener\", \"Goblet/Dark Ale/Winter Warmer\", \"Pint Glass/Pilsener & Pale Lager/American Malt Lager \", \"Pint Glass/Pale Ale/American Pale Ale\", \"Weizen Glass/Wheat Beer/American Pale Wheat Ale\", \"Snifter/Stout/American Imperial Stout\", \"Pint Glass/Pale Ale/English Pale Mild Ale\", \"Pint Glass/Porter/English Porter\", \"Pint Glass/Stout/English Stout\", \"Snifter/Strong Ale/English Strong Ale\", \"Pint Glass/Stout/English Sweet / Milk Stout\", \"Pint Glass/Dark Lager/European Dark Lager\", \"Pilsener Glass/Pilsener & Pale Lager/European Export / Dortmunder\", \"Tulip/Strong Ale/American Imperian Red Ale\", \"Pint Glass/Brown Ale/American Brown Ale\", \"Tulip/Pale Ale/French Biere de Garde\", \"Tulip/Specialty Beer/Fruit and Field Beer\", \"Tulip/Bock/German Bock\", \"Weizen Glass/Wheat Beer/German Dunkelweizen \", \"Snifter/Bock/German Eisbock\", \"Weizen Glass/Wheat Beer/German Hefeweizen\", \"Flute/Pilsener & Pale Lager/German Helles\", \"Mug/Pilsener & Pale Lager/German Kellerbier / Zwickelbier\", \"Stange/Pale Ale/German Kolsch\", \"Pint Glass/Pale Ale/American Blonde Ale\", \"Tulip/Wild / Sour Beer/Flanders Red Ale\", \"Snifter/Strong Ale/American Wheatwine Ale\", \"Tulip/India Pale Ale/American Imperial IPA\", \"Snifter/Strong Ale/English Barleywine\", \"Goblet/Dark Ale/Belgian Dubble\", \"Tulip/Wild / Sour Beer/Belgian Faro\", \"Tulip/Wild / Sour Beer/Belgian Fruit Lambic\", \"Tulip/Wild / Sour Beer/Belgian Gueuze\", \"Tulip/India Pale Ale/Belgian IPA\", \"Pilsener Glass/Pilsener & Pale Lager/American Light Lager\", \"Tulip/Pale Ale/Belgian Saison\", \"Goblet/Strong Ale/Belgian Strong Dark Ale\", \"Goblet/Strong Ale/Belgian Strong Pale Ale\", \"Tulip/Wild / Sour Beer/American Brett\", \"Pint Glass/Porter/American Porter\", \"Goblet/Strong Ale/Belgian Tripel \", \"Flute/Hybrid Beer/Biere de Champagne / Biere Brut\", \"Pint Glass/Dark Lager/German Rauchbier\", \"Pilsener Glass/Specialty Beer/Japanese Happoshu\", \"Weizen Glass/Wheat Beer/German Kristalweizen\", \"Goblet/Bock/German Maibock\", \"Tulip/Bock/German Doppelbock\", \"Flute/Pilsener & Pale Lager/German Pilsner\", \"Pint Glass/Stout/Irish Dry Stout\", \"Pint Glass/Pale Ale/Irish Red Ale\", \"Pilsener Glass/Dark Lager/American Amber / Red Lager\", \"Tulip/India Pale Ale/American Brut IPA\", \"Goblet/Wheat Beer/Berliner Weisse\", \"Tulip/Specialty Beer/Scottish Gruit / Ancient Herbed Ale\", \"Pint Glass/Specialty Beer/Smoke Beer\", \"Pint Glass/Porter/Smoke Porter\", \"Pint Glass/Specialty Beer/Russian Kvass\", \"Pilsener Glass/Specialty Beer/Japanese Rice Lager\", \"Tulip/Dark Ale/American Black Ale\", \"Tulip/Dark Ale/Scottish Ale\", \"Tulip/Strong Ale/Scotch Ale / Wee Heavy\", \"Pint Glass/Pale Ale/American Amber / Red Ale\", \"Pilsener Glass/Dark Lager/Munich Dunkel Lager\", \"Pint Glass/Specialty Beer/Rye Beer\", \"Tulip/Wild / Sour Beer/American Wild Ale\", \"Stange/Brown Ale/German Altbier\", \"Pint Glass/Porter/Baltic Porter\", \"Tulip/Pale Ale/Belgian Blonde Ale\", \"Goblet/Dark Ale/Belgian Dark Ale\", \"Tulip/Wild / Sour Beer/Belgian Lambic\", \"Tulip/Pale Ale/Belgian Pale Ale\", \"Goblet/Strong Ale/Belgian Quadrupel \", \"Tulip/Wheat Beer/Belgian Witbier \", \"Mug/Dark Lager/German Marzen / Oktoberfest\", \"Pilsener Glass/Pilsener & Pale Lager/American Adjunt Lager\", \"Pilsener Glass/Pilsener & Pale Lager/American Imperial Pilsner\", \"Pilsener Glass/Dark Lager/Vienna Lager\", \"Pint Glass/Hybrid Beer/American Cream Ale\", \"Pilsener Glass/Pilsener & Pale Lager/European Pale Lager\", \"Goblet/Pilsener & Pale Lager/European Strong Lager\", \"Pint Glass/Stout/Foreign / Export Stout\", \"Snifter/Strong Ale/American Strong Ale\", \"Pint Glass/Porter/Robust Porter\", \"Snifter/Stout/Russian Imperial Stout\", \"Pint Glass/Specialty Beer/Low Alcohol Beer\", \"Pilsener Glass/Wild / Sour Beer/Leipzig Gose\", \"Tulip/Specialty Beer/Pumpkin Beer\", \"Goblet/Bock\", \"Snifter/Bock\", \"Tulip/Bock\", \"Pint Glass/Brown Ale\", \"Stange/Brown Ale\", \"Goblet/Dark Ale\", \"Pint Glass/Dark Ale\", \"Tulip/Dark Ale\", \"Mug/Dark Lager\", \"Pilsener Glass/Dark Lager\", \"Pint Glass/Dark Lager\", \"Flute/Hybrid Beer\", \"Pint Glass/Hybrid Beer\", \"Tulip/Hybrid Beer\", \"Pint Glass/India Pale Ale\", \"Tulip/India Pale Ale\", \"Pint Glass/Pale Ale\", \"Stange/Pale Ale\", \"Tulip/Pale Ale\", \"Flute/Pilsener & Pale Lager\", \"Goblet/Pilsener & Pale Lager\", \"Mug/Pilsener & Pale Lager\", \"Pilsener Glass/Pilsener & Pale Lager\", \"Pint Glass/Pilsener & Pale Lager\", \"Goblet/Porter\", \"Pint Glass/Porter\", \"Pilsener Glass/Specialty Beer\", \"Pint Glass/Specialty Beer\", \"Tulip/Specialty Beer\", \"Pint Glass/Stout\", \"Snifter/Stout\", \"Goblet/Strong Ale\", \"Snifter/Strong Ale\", \"Tulip/Strong Ale\", \"Goblet/Wheat Beer\", \"Tulip/Wheat Beer\", \"Weizen Glass/Wheat Beer\", \"Pilsener Glass/Wild / Sour Beer\", \"Tulip/Wild / Sour Beer\", \"Flute\", \"Goblet\", \"Mug\", \"Pilsener Glass\", \"Pint Glass\", \"Snifter\", \"Stange\", \"Tulip\", \"Weizen Glass\"], \"labels\": [\"English Old Ale\", \"American Stout\", \"English India Pale Ale\", \"New England IPA\", \"Herb and Spice Beer\", \"American Barleywine\", \"German Weizenbock\", \"German Schwarzbier\", \"German Roggenbier\", \"English Extra Special \", \"English Pale Ale\", \"American Dark Wheat Ale\", \"American IPA\", \"American Imperial Porter\", \"American Lager\", \"English Oatmeal Stout\", \"English Dark Mild Ale\", \"Flanders Oud Bruin \", \"English Brown Ale\", \"English Bitter\", \"Chile Beer\", \"California Common / Steam Beer\", \"Braggot\", \"Finnish Sahti\", \"Bohemian Pilsener\", \"Winter Warmer\", \"American Malt Lager \", \"American Pale Ale\", \"American Pale Wheat Ale\", \"American Imperial Stout\", \"English Pale Mild Ale\", \"English Porter\", \"English Stout\", \"English Strong Ale\", \"English Sweet / Milk Stout\", \"European Dark Lager\", \"European Export / Dortmunder\", \"American Imperian Red Ale\", \"American Brown Ale\", \"French Biere de Garde\", \"Fruit and Field Beer\", \"German Bock\", \"German Dunkelweizen \", \"German Eisbock\", \"German Hefeweizen\", \"German Helles\", \"German Kellerbier / Zwickelbier\", \"German Kolsch\", \"American Blonde Ale\", \"Flanders Red Ale\", \"American Wheatwine Ale\", \"American Imperial IPA\", \"English Barleywine\", \"Belgian Dubble\", \"Belgian Faro\", \"Belgian Fruit Lambic\", \"Belgian Gueuze\", \"Belgian IPA\", \"American Light Lager\", \"Belgian Saison\", \"Belgian Strong Dark Ale\", \"Belgian Strong Pale Ale\", \"American Brett\", \"American Porter\", \"Belgian Tripel \", \"Biere de Champagne / Biere Brut\", \"German Rauchbier\", \"Japanese Happoshu\", \"German Kristalweizen\", \"German Maibock\", \"German Doppelbock\", \"German Pilsner\", \"Irish Dry Stout\", \"Irish Red Ale\", \"American Amber / Red Lager\", \"American Brut IPA\", \"Berliner Weisse\", \"Scottish Gruit / Ancient Herbed Ale\", \"Smoke Beer\", \"Smoke Porter\", \"Russian Kvass\", \"Japanese Rice Lager\", \"American Black Ale\", \"Scottish Ale\", \"Scotch Ale / Wee Heavy\", \"American Amber / Red Ale\", \"Munich Dunkel Lager\", \"Rye Beer\", \"American Wild Ale\", \"German Altbier\", \"Baltic Porter\", \"Belgian Blonde Ale\", \"Belgian Dark Ale\", \"Belgian Lambic\", \"Belgian Pale Ale\", \"Belgian Quadrupel \", \"Belgian Witbier \", \"German Marzen / Oktoberfest\", \"American Adjunt Lager\", \"American Imperial Pilsner\", \"Vienna Lager\", \"American Cream Ale\", \"European Pale Lager\", \"European Strong Lager\", \"Foreign / Export Stout\", \"American Strong Ale\", \"Robust Porter\", \"Russian Imperial Stout\", \"Low Alcohol Beer\", \"Leipzig Gose\", \"Pumpkin Beer\", \"Bock\", \"Bock\", \"Bock\", \"Brown Ale\", \"Brown Ale\", \"Dark Ale\", \"Dark Ale\", \"Dark Ale\", \"Dark Lager\", \"Dark Lager\", \"Dark Lager\", \"Hybrid Beer\", \"Hybrid Beer\", \"Hybrid Beer\", \"India Pale Ale\", \"India Pale Ale\", \"Pale Ale\", \"Pale Ale\", \"Pale Ale\", \"Pilsener & Pale Lager\", \"Pilsener & Pale Lager\", \"Pilsener & Pale Lager\", \"Pilsener & Pale Lager\", \"Pilsener & Pale Lager\", \"Porter\", \"Porter\", \"Specialty Beer\", \"Specialty Beer\", \"Specialty Beer\", \"Stout\", \"Stout\", \"Strong Ale\", \"Strong Ale\", \"Strong Ale\", \"Wheat Beer\", \"Wheat Beer\", \"Wheat Beer\", \"Wild / Sour Beer\", \"Wild / Sour Beer\", \"Flute\", \"Goblet\", \"Mug\", \"Pilsener Glass\", \"Pint Glass\", \"Snifter\", \"Stange\", \"Tulip\", \"Weizen Glass\"], \"marker\": {\"colors\": [\"rgb(102, 197, 204)\", \"rgb(246, 207, 113)\", \"rgb(246, 207, 113)\", \"rgb(246, 207, 113)\", \"rgb(248, 156, 116)\", \"rgb(102, 197, 204)\", \"rgb(248, 156, 116)\", \"rgb(220, 176, 242)\", \"rgb(246, 207, 113)\", \"rgb(246, 207, 113)\", \"rgb(246, 207, 113)\", \"rgb(135, 197, 95)\", \"rgb(248, 156, 116)\", \"rgb(158, 185, 243)\", \"rgb(220, 176, 242)\", \"rgb(246, 207, 113)\", \"rgb(246, 207, 113)\", \"rgb(248, 156, 116)\", \"rgb(246, 207, 113)\", \"rgb(246, 207, 113)\", \"rgb(246, 207, 113)\", \"rgb(246, 207, 113)\", \"rgb(248, 156, 116)\", \"rgb(246, 207, 113)\", \"rgb(220, 176, 242)\", \"rgb(158, 185, 243)\", \"rgb(246, 207, 113)\", \"rgb(246, 207, 113)\", \"rgb(135, 197, 95)\", \"rgb(102, 197, 204)\", \"rgb(246, 207, 113)\", \"rgb(246, 207, 113)\", \"rgb(246, 207, 113)\", \"rgb(102, 197, 204)\", \"rgb(246, 207, 113)\", \"rgb(246, 207, 113)\", \"rgb(220, 176, 242)\", \"rgb(248, 156, 116)\", \"rgb(246, 207, 113)\", \"rgb(248, 156, 116)\", \"rgb(248, 156, 116)\", \"rgb(248, 156, 116)\", \"rgb(135, 197, 95)\", \"rgb(102, 197, 204)\", \"rgb(135, 197, 95)\", \"rgb(254, 136, 177)\", \"rgb(201, 219, 116)\", \"rgb(139, 224, 164)\", \"rgb(246, 207, 113)\", \"rgb(248, 156, 116)\", \"rgb(102, 197, 204)\", \"rgb(248, 156, 116)\", \"rgb(102, 197, 204)\", \"rgb(158, 185, 243)\", \"rgb(248, 156, 116)\", \"rgb(248, 156, 116)\", \"rgb(248, 156, 116)\", \"rgb(248, 156, 116)\", \"rgb(220, 176, 242)\", \"rgb(248, 156, 116)\", \"rgb(158, 185, 243)\", \"rgb(158, 185, 243)\", \"rgb(248, 156, 116)\", \"rgb(246, 207, 113)\", \"rgb(158, 185, 243)\", \"rgb(254, 136, 177)\", \"rgb(246, 207, 113)\", \"rgb(220, 176, 242)\", \"rgb(135, 197, 95)\", \"rgb(158, 185, 243)\", \"rgb(248, 156, 116)\", \"rgb(254, 136, 177)\", \"rgb(246, 207, 113)\", \"rgb(246, 207, 113)\", \"rgb(220, 176, 242)\", \"rgb(248, 156, 116)\", \"rgb(158, 185, 243)\", \"rgb(248, 156, 116)\", \"rgb(246, 207, 113)\", \"rgb(246, 207, 113)\", \"rgb(246, 207, 113)\", \"rgb(220, 176, 242)\", \"rgb(248, 156, 116)\", \"rgb(248, 156, 116)\", \"rgb(248, 156, 116)\", \"rgb(246, 207, 113)\", \"rgb(220, 176, 242)\", \"rgb(246, 207, 113)\", \"rgb(248, 156, 116)\", \"rgb(139, 224, 164)\", \"rgb(246, 207, 113)\", \"rgb(248, 156, 116)\", \"rgb(158, 185, 243)\", \"rgb(248, 156, 116)\", \"rgb(248, 156, 116)\", \"rgb(158, 185, 243)\", \"rgb(248, 156, 116)\", \"rgb(201, 219, 116)\", \"rgb(220, 176, 242)\", \"rgb(220, 176, 242)\", \"rgb(220, 176, 242)\", \"rgb(246, 207, 113)\", \"rgb(220, 176, 242)\", \"rgb(158, 185, 243)\", \"rgb(246, 207, 113)\", \"rgb(102, 197, 204)\", \"rgb(246, 207, 113)\", \"rgb(102, 197, 204)\", \"rgb(246, 207, 113)\", \"rgb(220, 176, 242)\", \"rgb(248, 156, 116)\", \"rgb(158, 185, 243)\", \"rgb(102, 197, 204)\", \"rgb(248, 156, 116)\", \"rgb(246, 207, 113)\", \"rgb(139, 224, 164)\", \"rgb(158, 185, 243)\", \"rgb(246, 207, 113)\", \"rgb(248, 156, 116)\", \"rgb(201, 219, 116)\", \"rgb(220, 176, 242)\", \"rgb(246, 207, 113)\", \"rgb(254, 136, 177)\", \"rgb(246, 207, 113)\", \"rgb(248, 156, 116)\", \"rgb(246, 207, 113)\", \"rgb(248, 156, 116)\", \"rgb(246, 207, 113)\", \"rgb(139, 224, 164)\", \"rgb(248, 156, 116)\", \"rgb(254, 136, 177)\", \"rgb(158, 185, 243)\", \"rgb(201, 219, 116)\", \"rgb(220, 176, 242)\", \"rgb(246, 207, 113)\", \"rgb(158, 185, 243)\", \"rgb(246, 207, 113)\", \"rgb(220, 176, 242)\", \"rgb(246, 207, 113)\", \"rgb(248, 156, 116)\", \"rgb(246, 207, 113)\", \"rgb(102, 197, 204)\", \"rgb(158, 185, 243)\", \"rgb(102, 197, 204)\", \"rgb(248, 156, 116)\", \"rgb(158, 185, 243)\", \"rgb(248, 156, 116)\", \"rgb(135, 197, 95)\", \"rgb(220, 176, 242)\", \"rgb(248, 156, 116)\", \"rgb(254, 136, 177)\", \"rgb(158, 185, 243)\", \"rgb(201, 219, 116)\", \"rgb(220, 176, 242)\", \"rgb(246, 207, 113)\", \"rgb(102, 197, 204)\", \"rgb(139, 224, 164)\", \"rgb(248, 156, 116)\", \"rgb(135, 197, 95)\"]}, \"maxdepth\": -1, \"name\": \"\", \"parents\": [\"Snifter/Strong Ale\", \"Pint Glass/Stout\", \"Pint Glass/India Pale Ale\", \"Pint Glass/India Pale Ale\", \"Tulip/Specialty Beer\", \"Snifter/Strong Ale\", \"Tulip/Bock\", \"Pilsener Glass/Dark Lager\", \"Pint Glass/Dark Ale\", \"Pint Glass/Pale Ale\", \"Pint Glass/Pale Ale\", \"Weizen Glass/Wheat Beer\", \"Tulip/India Pale Ale\", \"Goblet/Porter\", \"Pilsener Glass/Pilsener & Pale Lager\", \"Pint Glass/Stout\", \"Pint Glass/Brown Ale\", \"Tulip/Wild / Sour Beer\", \"Pint Glass/Brown Ale\", \"Pint Glass/Pale Ale\", \"Pint Glass/Specialty Beer\", \"Pint Glass/Hybrid Beer\", \"Tulip/Hybrid Beer\", \"Pint Glass/Specialty Beer\", \"Pilsener Glass/Pilsener & Pale Lager\", \"Goblet/Dark Ale\", \"Pint Glass/Pilsener & Pale Lager\", \"Pint Glass/Pale Ale\", \"Weizen Glass/Wheat Beer\", \"Snifter/Stout\", \"Pint Glass/Pale Ale\", \"Pint Glass/Porter\", \"Pint Glass/Stout\", \"Snifter/Strong Ale\", \"Pint Glass/Stout\", \"Pint Glass/Dark Lager\", \"Pilsener Glass/Pilsener & Pale Lager\", \"Tulip/Strong Ale\", \"Pint Glass/Brown Ale\", \"Tulip/Pale Ale\", \"Tulip/Specialty Beer\", \"Tulip/Bock\", \"Weizen Glass/Wheat Beer\", \"Snifter/Bock\", \"Weizen Glass/Wheat Beer\", \"Flute/Pilsener & Pale Lager\", \"Mug/Pilsener & Pale Lager\", \"Stange/Pale Ale\", \"Pint Glass/Pale Ale\", \"Tulip/Wild / Sour Beer\", \"Snifter/Strong Ale\", \"Tulip/India Pale Ale\", \"Snifter/Strong Ale\", \"Goblet/Dark Ale\", \"Tulip/Wild / Sour Beer\", \"Tulip/Wild / Sour Beer\", \"Tulip/Wild / Sour Beer\", \"Tulip/India Pale Ale\", \"Pilsener Glass/Pilsener & Pale Lager\", \"Tulip/Pale Ale\", \"Goblet/Strong Ale\", \"Goblet/Strong Ale\", \"Tulip/Wild / Sour Beer\", \"Pint Glass/Porter\", \"Goblet/Strong Ale\", \"Flute/Hybrid Beer\", \"Pint Glass/Dark Lager\", \"Pilsener Glass/Specialty Beer\", \"Weizen Glass/Wheat Beer\", \"Goblet/Bock\", \"Tulip/Bock\", \"Flute/Pilsener & Pale Lager\", \"Pint Glass/Stout\", \"Pint Glass/Pale Ale\", \"Pilsener Glass/Dark Lager\", \"Tulip/India Pale Ale\", \"Goblet/Wheat Beer\", \"Tulip/Specialty Beer\", \"Pint Glass/Specialty Beer\", \"Pint Glass/Porter\", \"Pint Glass/Specialty Beer\", \"Pilsener Glass/Specialty Beer\", \"Tulip/Dark Ale\", \"Tulip/Dark Ale\", \"Tulip/Strong Ale\", \"Pint Glass/Pale Ale\", \"Pilsener Glass/Dark Lager\", \"Pint Glass/Specialty Beer\", \"Tulip/Wild / Sour Beer\", \"Stange/Brown Ale\", \"Pint Glass/Porter\", \"Tulip/Pale Ale\", \"Goblet/Dark Ale\", \"Tulip/Wild / Sour Beer\", \"Tulip/Pale Ale\", \"Goblet/Strong Ale\", \"Tulip/Wheat Beer\", \"Mug/Dark Lager\", \"Pilsener Glass/Pilsener & Pale Lager\", \"Pilsener Glass/Pilsener & Pale Lager\", \"Pilsener Glass/Dark Lager\", \"Pint Glass/Hybrid Beer\", \"Pilsener Glass/Pilsener & Pale Lager\", \"Goblet/Pilsener & Pale Lager\", \"Pint Glass/Stout\", \"Snifter/Strong Ale\", \"Pint Glass/Porter\", \"Snifter/Stout\", \"Pint Glass/Specialty Beer\", \"Pilsener Glass/Wild / Sour Beer\", \"Tulip/Specialty Beer\", \"Goblet\", \"Snifter\", \"Tulip\", \"Pint Glass\", \"Stange\", \"Goblet\", \"Pint Glass\", \"Tulip\", \"Mug\", \"Pilsener Glass\", \"Pint Glass\", \"Flute\", \"Pint Glass\", \"Tulip\", \"Pint Glass\", \"Tulip\", \"Pint Glass\", \"Stange\", \"Tulip\", \"Flute\", \"Goblet\", \"Mug\", \"Pilsener Glass\", \"Pint Glass\", \"Goblet\", \"Pint Glass\", \"Pilsener Glass\", \"Pint Glass\", \"Tulip\", \"Pint Glass\", \"Snifter\", \"Goblet\", \"Snifter\", \"Tulip\", \"Goblet\", \"Tulip\", \"Weizen Glass\", \"Pilsener Glass\", \"Tulip\", \"\", \"\", \"\", \"\", \"\", \"\", \"\", \"\", \"\"], \"textinfo\": \"label+percent entry\", \"type\": \"sunburst\", \"values\": [1, 1, 1, 1, 1, 1, 1, 1, 1, 1, 1, 1, 1, 1, 1, 1, 1, 1, 1, 1, 1, 1, 1, 1, 1, 1, 1, 1, 1, 1, 1, 1, 1, 1, 1, 1, 1, 1, 1, 1, 1, 1, 1, 1, 1, 1, 1, 1, 1, 1, 1, 1, 1, 1, 1, 1, 1, 1, 1, 1, 1, 1, 1, 1, 1, 1, 1, 1, 1, 1, 1, 1, 1, 1, 1, 1, 1, 1, 1, 1, 1, 1, 1, 1, 1, 1, 1, 1, 1, 1, 1, 1, 1, 1, 1, 1, 1, 1, 1, 1, 1, 1, 1, 1, 1, 1, 1, 1, 1, 1, 1, 1, 1, 3, 3, 1, 3, 1, 2, 1, 4, 2, 1, 2, 1, 2, 4, 8, 1, 4, 2, 1, 1, 7, 1, 1, 5, 2, 6, 4, 6, 2, 4, 6, 2, 1, 1, 5, 1, 8, 3, 11, 2, 14, 36, 9, 2, 29, 5]}],                        {\"legend\": {\"tracegroupgap\": 0}, \"margin\": {\"b\": 0, \"l\": 0, \"r\": 0, \"t\": 0}, \"sunburstcolorway\": [\"rgb(102, 197, 204)\", \"rgb(246, 207, 113)\", \"rgb(248, 156, 116)\", \"rgb(220, 176, 242)\", \"rgb(135, 197, 95)\", \"rgb(158, 185, 243)\", \"rgb(254, 136, 177)\", \"rgb(201, 219, 116)\", \"rgb(139, 224, 164)\", \"rgb(180, 151, 231)\", \"rgb(179, 179, 179)\"], \"template\": {\"data\": {\"bar\": [{\"error_x\": {\"color\": \"#2a3f5f\"}, \"error_y\": {\"color\": \"#2a3f5f\"}, \"marker\": {\"line\": {\"color\": \"#E5ECF6\", \"width\": 0.5}}, \"type\": \"bar\"}], \"barpolar\": [{\"marker\": {\"line\": {\"color\": \"#E5ECF6\", \"width\": 0.5}}, \"type\": \"barpolar\"}], \"carpet\": [{\"aaxis\": {\"endlinecolor\": \"#2a3f5f\", \"gridcolor\": \"white\", \"linecolor\": \"white\", \"minorgridcolor\": \"white\", \"startlinecolor\": \"#2a3f5f\"}, \"baxis\": {\"endlinecolor\": \"#2a3f5f\", \"gridcolor\": \"white\", \"linecolor\": \"white\", \"minorgridcolor\": \"white\", \"startlinecolor\": \"#2a3f5f\"}, \"type\": \"carpet\"}], \"choropleth\": [{\"colorbar\": {\"outlinewidth\": 0, \"ticks\": \"\"}, \"type\": \"choropleth\"}], \"contour\": [{\"colorbar\": {\"outlinewidth\": 0, \"ticks\": \"\"}, \"colorscale\": [[0.0, \"#0d0887\"], [0.1111111111111111, \"#46039f\"], [0.2222222222222222, \"#7201a8\"], [0.3333333333333333, \"#9c179e\"], [0.4444444444444444, \"#bd3786\"], [0.5555555555555556, \"#d8576b\"], [0.6666666666666666, \"#ed7953\"], [0.7777777777777778, \"#fb9f3a\"], [0.8888888888888888, \"#fdca26\"], [1.0, \"#f0f921\"]], \"type\": \"contour\"}], \"contourcarpet\": [{\"colorbar\": {\"outlinewidth\": 0, \"ticks\": \"\"}, \"type\": \"contourcarpet\"}], \"heatmap\": [{\"colorbar\": {\"outlinewidth\": 0, \"ticks\": \"\"}, \"colorscale\": [[0.0, \"#0d0887\"], [0.1111111111111111, \"#46039f\"], [0.2222222222222222, \"#7201a8\"], [0.3333333333333333, \"#9c179e\"], [0.4444444444444444, \"#bd3786\"], [0.5555555555555556, \"#d8576b\"], [0.6666666666666666, \"#ed7953\"], [0.7777777777777778, \"#fb9f3a\"], [0.8888888888888888, \"#fdca26\"], [1.0, \"#f0f921\"]], \"type\": \"heatmap\"}], \"heatmapgl\": [{\"colorbar\": {\"outlinewidth\": 0, \"ticks\": \"\"}, \"colorscale\": [[0.0, \"#0d0887\"], [0.1111111111111111, \"#46039f\"], [0.2222222222222222, \"#7201a8\"], [0.3333333333333333, \"#9c179e\"], [0.4444444444444444, \"#bd3786\"], [0.5555555555555556, \"#d8576b\"], [0.6666666666666666, \"#ed7953\"], [0.7777777777777778, \"#fb9f3a\"], [0.8888888888888888, \"#fdca26\"], [1.0, \"#f0f921\"]], \"type\": \"heatmapgl\"}], \"histogram\": [{\"marker\": {\"colorbar\": {\"outlinewidth\": 0, \"ticks\": \"\"}}, \"type\": \"histogram\"}], \"histogram2d\": [{\"colorbar\": {\"outlinewidth\": 0, \"ticks\": \"\"}, \"colorscale\": [[0.0, \"#0d0887\"], [0.1111111111111111, \"#46039f\"], [0.2222222222222222, \"#7201a8\"], [0.3333333333333333, \"#9c179e\"], [0.4444444444444444, \"#bd3786\"], [0.5555555555555556, \"#d8576b\"], [0.6666666666666666, \"#ed7953\"], [0.7777777777777778, \"#fb9f3a\"], [0.8888888888888888, \"#fdca26\"], [1.0, \"#f0f921\"]], \"type\": \"histogram2d\"}], \"histogram2dcontour\": [{\"colorbar\": {\"outlinewidth\": 0, \"ticks\": \"\"}, \"colorscale\": [[0.0, \"#0d0887\"], [0.1111111111111111, \"#46039f\"], [0.2222222222222222, \"#7201a8\"], [0.3333333333333333, \"#9c179e\"], [0.4444444444444444, \"#bd3786\"], [0.5555555555555556, \"#d8576b\"], [0.6666666666666666, \"#ed7953\"], [0.7777777777777778, \"#fb9f3a\"], [0.8888888888888888, \"#fdca26\"], [1.0, \"#f0f921\"]], \"type\": \"histogram2dcontour\"}], \"mesh3d\": [{\"colorbar\": {\"outlinewidth\": 0, \"ticks\": \"\"}, \"type\": \"mesh3d\"}], \"parcoords\": [{\"line\": {\"colorbar\": {\"outlinewidth\": 0, \"ticks\": \"\"}}, \"type\": \"parcoords\"}], \"pie\": [{\"automargin\": true, \"type\": \"pie\"}], \"scatter\": [{\"marker\": {\"colorbar\": {\"outlinewidth\": 0, \"ticks\": \"\"}}, \"type\": \"scatter\"}], \"scatter3d\": [{\"line\": {\"colorbar\": {\"outlinewidth\": 0, \"ticks\": \"\"}}, \"marker\": {\"colorbar\": {\"outlinewidth\": 0, \"ticks\": \"\"}}, \"type\": \"scatter3d\"}], \"scattercarpet\": [{\"marker\": {\"colorbar\": {\"outlinewidth\": 0, \"ticks\": \"\"}}, \"type\": \"scattercarpet\"}], \"scattergeo\": [{\"marker\": {\"colorbar\": {\"outlinewidth\": 0, \"ticks\": \"\"}}, \"type\": \"scattergeo\"}], \"scattergl\": [{\"marker\": {\"colorbar\": {\"outlinewidth\": 0, \"ticks\": \"\"}}, \"type\": \"scattergl\"}], \"scattermapbox\": [{\"marker\": {\"colorbar\": {\"outlinewidth\": 0, \"ticks\": \"\"}}, \"type\": \"scattermapbox\"}], \"scatterpolar\": [{\"marker\": {\"colorbar\": {\"outlinewidth\": 0, \"ticks\": \"\"}}, \"type\": \"scatterpolar\"}], \"scatterpolargl\": [{\"marker\": {\"colorbar\": {\"outlinewidth\": 0, \"ticks\": \"\"}}, \"type\": \"scatterpolargl\"}], \"scatterternary\": [{\"marker\": {\"colorbar\": {\"outlinewidth\": 0, \"ticks\": \"\"}}, \"type\": \"scatterternary\"}], \"surface\": [{\"colorbar\": {\"outlinewidth\": 0, \"ticks\": \"\"}, \"colorscale\": [[0.0, \"#0d0887\"], [0.1111111111111111, \"#46039f\"], [0.2222222222222222, \"#7201a8\"], [0.3333333333333333, \"#9c179e\"], [0.4444444444444444, \"#bd3786\"], [0.5555555555555556, \"#d8576b\"], [0.6666666666666666, \"#ed7953\"], [0.7777777777777778, \"#fb9f3a\"], [0.8888888888888888, \"#fdca26\"], [1.0, \"#f0f921\"]], \"type\": \"surface\"}], \"table\": [{\"cells\": {\"fill\": {\"color\": \"#EBF0F8\"}, \"line\": {\"color\": \"white\"}}, \"header\": {\"fill\": {\"color\": \"#C8D4E3\"}, \"line\": {\"color\": \"white\"}}, \"type\": \"table\"}]}, \"layout\": {\"annotationdefaults\": {\"arrowcolor\": \"#2a3f5f\", \"arrowhead\": 0, \"arrowwidth\": 1}, \"autotypenumbers\": \"strict\", \"coloraxis\": {\"colorbar\": {\"outlinewidth\": 0, \"ticks\": \"\"}}, \"colorscale\": {\"diverging\": [[0, \"#8e0152\"], [0.1, \"#c51b7d\"], [0.2, \"#de77ae\"], [0.3, \"#f1b6da\"], [0.4, \"#fde0ef\"], [0.5, \"#f7f7f7\"], [0.6, \"#e6f5d0\"], [0.7, \"#b8e186\"], [0.8, \"#7fbc41\"], [0.9, \"#4d9221\"], [1, \"#276419\"]], \"sequential\": [[0.0, \"#0d0887\"], [0.1111111111111111, \"#46039f\"], [0.2222222222222222, \"#7201a8\"], [0.3333333333333333, \"#9c179e\"], [0.4444444444444444, \"#bd3786\"], [0.5555555555555556, \"#d8576b\"], [0.6666666666666666, \"#ed7953\"], [0.7777777777777778, \"#fb9f3a\"], [0.8888888888888888, \"#fdca26\"], [1.0, \"#f0f921\"]], \"sequentialminus\": [[0.0, \"#0d0887\"], [0.1111111111111111, \"#46039f\"], [0.2222222222222222, \"#7201a8\"], [0.3333333333333333, \"#9c179e\"], [0.4444444444444444, \"#bd3786\"], [0.5555555555555556, \"#d8576b\"], [0.6666666666666666, \"#ed7953\"], [0.7777777777777778, \"#fb9f3a\"], [0.8888888888888888, \"#fdca26\"], [1.0, \"#f0f921\"]]}, \"colorway\": [\"#636efa\", \"#EF553B\", \"#00cc96\", \"#ab63fa\", \"#FFA15A\", \"#19d3f3\", \"#FF6692\", \"#B6E880\", \"#FF97FF\", \"#FECB52\"], \"font\": {\"color\": \"#2a3f5f\"}, \"geo\": {\"bgcolor\": \"white\", \"lakecolor\": \"white\", \"landcolor\": \"#E5ECF6\", \"showlakes\": true, \"showland\": true, \"subunitcolor\": \"white\"}, \"hoverlabel\": {\"align\": \"left\"}, \"hovermode\": \"closest\", \"mapbox\": {\"style\": \"light\"}, \"paper_bgcolor\": \"white\", \"plot_bgcolor\": \"#E5ECF6\", \"polar\": {\"angularaxis\": {\"gridcolor\": \"white\", \"linecolor\": \"white\", \"ticks\": \"\"}, \"bgcolor\": \"#E5ECF6\", \"radialaxis\": {\"gridcolor\": \"white\", \"linecolor\": \"white\", \"ticks\": \"\"}}, \"scene\": {\"xaxis\": {\"backgroundcolor\": \"#E5ECF6\", \"gridcolor\": \"white\", \"gridwidth\": 2, \"linecolor\": \"white\", \"showbackground\": true, \"ticks\": \"\", \"zerolinecolor\": \"white\"}, \"yaxis\": {\"backgroundcolor\": \"#E5ECF6\", \"gridcolor\": \"white\", \"gridwidth\": 2, \"linecolor\": \"white\", \"showbackground\": true, \"ticks\": \"\", \"zerolinecolor\": \"white\"}, \"zaxis\": {\"backgroundcolor\": \"#E5ECF6\", \"gridcolor\": \"white\", \"gridwidth\": 2, \"linecolor\": \"white\", \"showbackground\": true, \"ticks\": \"\", \"zerolinecolor\": \"white\"}}, \"shapedefaults\": {\"line\": {\"color\": \"#2a3f5f\"}}, \"ternary\": {\"aaxis\": {\"gridcolor\": \"white\", \"linecolor\": \"white\", \"ticks\": \"\"}, \"baxis\": {\"gridcolor\": \"white\", \"linecolor\": \"white\", \"ticks\": \"\"}, \"bgcolor\": \"#E5ECF6\", \"caxis\": {\"gridcolor\": \"white\", \"linecolor\": \"white\", \"ticks\": \"\"}}, \"title\": {\"x\": 0.05}, \"xaxis\": {\"automargin\": true, \"gridcolor\": \"white\", \"linecolor\": \"white\", \"ticks\": \"\", \"title\": {\"standoff\": 15}, \"zerolinecolor\": \"white\", \"zerolinewidth\": 2}, \"yaxis\": {\"automargin\": true, \"gridcolor\": \"white\", \"linecolor\": \"white\", \"ticks\": \"\", \"title\": {\"standoff\": 15}, \"zerolinecolor\": \"white\", \"zerolinewidth\": 2}}}},                        {\"responsive\": true}                    ).then(function(){\n",
       "                            \n",
       "var gd = document.getElementById('cdcc96d5-67b0-4741-8603-8aaf7bafdb16');\n",
       "var x = new MutationObserver(function (mutations, observer) {{\n",
       "        var display = window.getComputedStyle(gd).display;\n",
       "        if (!display || display === 'none') {{\n",
       "            console.log([gd, 'removed!']);\n",
       "            Plotly.purge(gd);\n",
       "            observer.disconnect();\n",
       "        }}\n",
       "}});\n",
       "\n",
       "// Listen for the removal of the full notebook cells\n",
       "var notebookContainer = gd.closest('#notebook-container');\n",
       "if (notebookContainer) {{\n",
       "    x.observe(notebookContainer, {childList: true});\n",
       "}}\n",
       "\n",
       "// Listen for the clearing of the current output cell\n",
       "var outputEl = gd.closest('.output');\n",
       "if (outputEl) {{\n",
       "    x.observe(outputEl, {childList: true});\n",
       "}}\n",
       "\n",
       "                        })                };                });            </script>        </div>"
      ]
     },
     "metadata": {},
     "output_type": "display_data"
    }
   ],
   "source": [
    "fig.update_traces(textinfo='label+percent entry')\n",
    "fig.update_layout(margin=dict(t=0, l=0, r=0, b=0))\n"
   ]
  },
  {
   "cell_type": "code",
   "execution_count": null,
   "metadata": {},
   "outputs": [],
   "source": []
  }
 ],
 "metadata": {
  "kernelspec": {
   "display_name": "Python [conda env:PyData] *",
   "language": "python",
   "name": "conda-env-PyData-py"
  },
  "language_info": {
   "codemirror_mode": {
    "name": "ipython",
    "version": 3
   },
   "file_extension": ".py",
   "mimetype": "text/x-python",
   "name": "python",
   "nbconvert_exporter": "python",
   "pygments_lexer": "ipython3",
   "version": "3.6.10"
  }
 },
 "nbformat": 4,
 "nbformat_minor": 4
}
