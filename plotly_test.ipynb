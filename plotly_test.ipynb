{
 "cells": [
  {
   "cell_type": "code",
   "execution_count": null,
   "metadata": {},
   "outputs": [],
   "source": []
  },
  {
   "cell_type": "code",
   "execution_count": 1,
   "metadata": {},
   "outputs": [],
   "source": [
    "import plotly.express as px \n",
    "import pandas as pd \n",
    "import numpy as np"
   ]
  },
  {
   "cell_type": "code",
   "execution_count": 9,
   "metadata": {},
   "outputs": [],
   "source": [
    "# File to Load\n",
    "csv_file = \"csv/usa_breweries.csv\"\n",
    "\n",
    "# file path\n",
    "beer_df = pd.read_csv(csv_file)\n"
   ]
  },
  {
   "cell_type": "code",
   "execution_count": 12,
   "metadata": {},
   "outputs": [
    {
     "ename": "ValueError",
     "evalue": "('None entries cannot have not-None children', types                              Brewery\nstate                                  nan\nname     BJ's Chicago Pizza & Brewery Inc.\nName: 7717, dtype: object)",
     "output_type": "error",
     "traceback": [
      "\u001b[0;31m---------------------------------------------------------------------------\u001b[0m",
      "\u001b[0;31mValueError\u001b[0m                                Traceback (most recent call last)",
      "\u001b[0;32m<ipython-input-12-87650832edb1>\u001b[0m in \u001b[0;36m<module>\u001b[0;34m\u001b[0m\n\u001b[1;32m      4\u001b[0m     \u001b[0mcolor\u001b[0m\u001b[0;34m=\u001b[0m\u001b[0;34m\"types\"\u001b[0m\u001b[0;34m,\u001b[0m\u001b[0;34m\u001b[0m\u001b[0;34m\u001b[0m\u001b[0m\n\u001b[1;32m      5\u001b[0m     \u001b[0mcolor_discrete_sequence\u001b[0m\u001b[0;34m=\u001b[0m\u001b[0mpx\u001b[0m\u001b[0;34m.\u001b[0m\u001b[0mcolors\u001b[0m\u001b[0;34m.\u001b[0m\u001b[0mqualitative\u001b[0m\u001b[0;34m.\u001b[0m\u001b[0mPastel\u001b[0m\u001b[0;34m,\u001b[0m\u001b[0;34m\u001b[0m\u001b[0;34m\u001b[0m\u001b[0m\n\u001b[0;32m----> 6\u001b[0;31m     \u001b[0mmaxdepth\u001b[0m\u001b[0;34m=\u001b[0m\u001b[0;34m-\u001b[0m\u001b[0;36m1\u001b[0m\u001b[0;34m,\u001b[0m\u001b[0;34m\u001b[0m\u001b[0;34m\u001b[0m\u001b[0m\n\u001b[0m\u001b[1;32m      7\u001b[0m )\n",
      "\u001b[0;32m~/opt/anaconda3/envs/PyData/lib/python3.6/site-packages/plotly/express/_chart_types.py\u001b[0m in \u001b[0;36msunburst\u001b[0;34m(data_frame, names, values, parents, path, ids, color, color_continuous_scale, range_color, color_continuous_midpoint, color_discrete_sequence, color_discrete_map, hover_name, hover_data, custom_data, labels, title, template, width, height, branchvalues, maxdepth)\u001b[0m\n\u001b[1;32m   1416\u001b[0m         \u001b[0mconstructor\u001b[0m\u001b[0;34m=\u001b[0m\u001b[0mgo\u001b[0m\u001b[0;34m.\u001b[0m\u001b[0mSunburst\u001b[0m\u001b[0;34m,\u001b[0m\u001b[0;34m\u001b[0m\u001b[0;34m\u001b[0m\u001b[0m\n\u001b[1;32m   1417\u001b[0m         \u001b[0mtrace_patch\u001b[0m\u001b[0;34m=\u001b[0m\u001b[0mdict\u001b[0m\u001b[0;34m(\u001b[0m\u001b[0mbranchvalues\u001b[0m\u001b[0;34m=\u001b[0m\u001b[0mbranchvalues\u001b[0m\u001b[0;34m,\u001b[0m \u001b[0mmaxdepth\u001b[0m\u001b[0;34m=\u001b[0m\u001b[0mmaxdepth\u001b[0m\u001b[0;34m)\u001b[0m\u001b[0;34m,\u001b[0m\u001b[0;34m\u001b[0m\u001b[0;34m\u001b[0m\u001b[0m\n\u001b[0;32m-> 1418\u001b[0;31m         \u001b[0mlayout_patch\u001b[0m\u001b[0;34m=\u001b[0m\u001b[0mlayout_patch\u001b[0m\u001b[0;34m,\u001b[0m\u001b[0;34m\u001b[0m\u001b[0;34m\u001b[0m\u001b[0m\n\u001b[0m\u001b[1;32m   1419\u001b[0m     )\n\u001b[1;32m   1420\u001b[0m \u001b[0;34m\u001b[0m\u001b[0m\n",
      "\u001b[0;32m~/opt/anaconda3/envs/PyData/lib/python3.6/site-packages/plotly/express/_core.py\u001b[0m in \u001b[0;36mmake_figure\u001b[0;34m(args, constructor, trace_patch, layout_patch)\u001b[0m\n\u001b[1;32m   1861\u001b[0m     \u001b[0margs\u001b[0m \u001b[0;34m=\u001b[0m \u001b[0mbuild_dataframe\u001b[0m\u001b[0;34m(\u001b[0m\u001b[0margs\u001b[0m\u001b[0;34m,\u001b[0m \u001b[0mconstructor\u001b[0m\u001b[0;34m)\u001b[0m\u001b[0;34m\u001b[0m\u001b[0;34m\u001b[0m\u001b[0m\n\u001b[1;32m   1862\u001b[0m     \u001b[0;32mif\u001b[0m \u001b[0mconstructor\u001b[0m \u001b[0;32min\u001b[0m \u001b[0;34m[\u001b[0m\u001b[0mgo\u001b[0m\u001b[0;34m.\u001b[0m\u001b[0mTreemap\u001b[0m\u001b[0;34m,\u001b[0m \u001b[0mgo\u001b[0m\u001b[0;34m.\u001b[0m\u001b[0mSunburst\u001b[0m\u001b[0;34m]\u001b[0m \u001b[0;32mand\u001b[0m \u001b[0margs\u001b[0m\u001b[0;34m[\u001b[0m\u001b[0;34m\"path\"\u001b[0m\u001b[0;34m]\u001b[0m \u001b[0;32mis\u001b[0m \u001b[0;32mnot\u001b[0m \u001b[0;32mNone\u001b[0m\u001b[0;34m:\u001b[0m\u001b[0;34m\u001b[0m\u001b[0;34m\u001b[0m\u001b[0m\n\u001b[0;32m-> 1863\u001b[0;31m         \u001b[0margs\u001b[0m \u001b[0;34m=\u001b[0m \u001b[0mprocess_dataframe_hierarchy\u001b[0m\u001b[0;34m(\u001b[0m\u001b[0margs\u001b[0m\u001b[0;34m)\u001b[0m\u001b[0;34m\u001b[0m\u001b[0;34m\u001b[0m\u001b[0m\n\u001b[0m\u001b[1;32m   1864\u001b[0m     \u001b[0;32mif\u001b[0m \u001b[0mconstructor\u001b[0m \u001b[0;34m==\u001b[0m \u001b[0;34m\"timeline\"\u001b[0m\u001b[0;34m:\u001b[0m\u001b[0;34m\u001b[0m\u001b[0;34m\u001b[0m\u001b[0m\n\u001b[1;32m   1865\u001b[0m         \u001b[0mconstructor\u001b[0m \u001b[0;34m=\u001b[0m \u001b[0mgo\u001b[0m\u001b[0;34m.\u001b[0m\u001b[0mBar\u001b[0m\u001b[0;34m\u001b[0m\u001b[0;34m\u001b[0m\u001b[0m\n",
      "\u001b[0;32m~/opt/anaconda3/envs/PyData/lib/python3.6/site-packages/plotly/express/_core.py\u001b[0m in \u001b[0;36mprocess_dataframe_hierarchy\u001b[0;34m(args)\u001b[0m\n\u001b[1;32m   1500\u001b[0m     \u001b[0mdf\u001b[0m \u001b[0;34m=\u001b[0m \u001b[0margs\u001b[0m\u001b[0;34m[\u001b[0m\u001b[0;34m\"data_frame\"\u001b[0m\u001b[0;34m]\u001b[0m\u001b[0;34m\u001b[0m\u001b[0;34m\u001b[0m\u001b[0m\n\u001b[1;32m   1501\u001b[0m     \u001b[0mpath\u001b[0m \u001b[0;34m=\u001b[0m \u001b[0margs\u001b[0m\u001b[0;34m[\u001b[0m\u001b[0;34m\"path\"\u001b[0m\u001b[0;34m]\u001b[0m\u001b[0;34m[\u001b[0m\u001b[0;34m:\u001b[0m\u001b[0;34m:\u001b[0m\u001b[0;34m-\u001b[0m\u001b[0;36m1\u001b[0m\u001b[0;34m]\u001b[0m\u001b[0;34m\u001b[0m\u001b[0;34m\u001b[0m\u001b[0m\n\u001b[0;32m-> 1502\u001b[0;31m     \u001b[0m_check_dataframe_all_leaves\u001b[0m\u001b[0;34m(\u001b[0m\u001b[0mdf\u001b[0m\u001b[0;34m[\u001b[0m\u001b[0mpath\u001b[0m\u001b[0;34m[\u001b[0m\u001b[0;34m:\u001b[0m\u001b[0;34m:\u001b[0m\u001b[0;34m-\u001b[0m\u001b[0;36m1\u001b[0m\u001b[0;34m]\u001b[0m\u001b[0;34m]\u001b[0m\u001b[0;34m)\u001b[0m\u001b[0;34m\u001b[0m\u001b[0;34m\u001b[0m\u001b[0m\n\u001b[0m\u001b[1;32m   1503\u001b[0m     \u001b[0mdiscrete_color\u001b[0m \u001b[0;34m=\u001b[0m \u001b[0;32mFalse\u001b[0m\u001b[0;34m\u001b[0m\u001b[0;34m\u001b[0m\u001b[0m\n\u001b[1;32m   1504\u001b[0m \u001b[0;34m\u001b[0m\u001b[0m\n",
      "\u001b[0;32m~/opt/anaconda3/envs/PyData/lib/python3.6/site-packages/plotly/express/_core.py\u001b[0m in \u001b[0;36m_check_dataframe_all_leaves\u001b[0;34m(df)\u001b[0m\n\u001b[1;32m   1481\u001b[0m             raise ValueError(\n\u001b[1;32m   1482\u001b[0m                 \u001b[0;34m\"None entries cannot have not-None children\"\u001b[0m\u001b[0;34m,\u001b[0m\u001b[0;34m\u001b[0m\u001b[0;34m\u001b[0m\u001b[0m\n\u001b[0;32m-> 1483\u001b[0;31m                 \u001b[0mdf_sorted\u001b[0m\u001b[0;34m.\u001b[0m\u001b[0miloc\u001b[0m\u001b[0;34m[\u001b[0m\u001b[0mnull_row_index\u001b[0m\u001b[0;34m]\u001b[0m\u001b[0;34m,\u001b[0m\u001b[0;34m\u001b[0m\u001b[0;34m\u001b[0m\u001b[0m\n\u001b[0m\u001b[1;32m   1484\u001b[0m             )\n\u001b[1;32m   1485\u001b[0m     \u001b[0mdf_sorted\u001b[0m\u001b[0;34m[\u001b[0m\u001b[0mnull_mask\u001b[0m\u001b[0;34m]\u001b[0m \u001b[0;34m=\u001b[0m \u001b[0;34m\"\"\u001b[0m\u001b[0;34m\u001b[0m\u001b[0;34m\u001b[0m\u001b[0m\n",
      "\u001b[0;31mValueError\u001b[0m: ('None entries cannot have not-None children', types                              Brewery\nstate                                  nan\nname     BJ's Chicago Pizza & Brewery Inc.\nName: 7717, dtype: object)"
     ]
    }
   ],
   "source": [
    "fig = px.sunburst(\n",
    "    data_frame=beer_df,\n",
    "    path=[\"types\", \"state\", \"name\"], \n",
    "    color=\"types\",\n",
    "    color_discrete_sequence=px.colors.qualitative.Pastel,\n",
    "    maxdepth=-1,\n",
    ")"
   ]
  },
  {
   "cell_type": "code",
   "execution_count": 11,
   "metadata": {},
   "outputs": [
    {
     "data": {
      "application/vnd.plotly.v1+json": {
       "config": {
        "plotlyServerURL": "https://plot.ly"
       },
       "data": [
        {
         "branchvalues": "total",
         "customdata": [
          [
           "Hybrid Beer"
          ],
          [
           "Pilsener & Pale Lager"
          ],
          [
           "Pilsener & Pale Lager"
          ],
          [
           "Porter"
          ],
          [
           "Dark Ale"
          ],
          [
           "Dark Ale"
          ],
          [
           "Strong Ale"
          ],
          [
           "Strong Ale"
          ],
          [
           "Strong Ale"
          ],
          [
           "Pilsener & Pale Lager"
          ],
          [
           "Dark Ale"
          ],
          [
           "Bock"
          ],
          [
           "Pilsener & Pale Lager"
          ],
          [
           "Wheat Beer"
          ],
          [
           "Strong Ale"
          ],
          [
           "Dark Lager"
          ],
          [
           "Pilsener & Pale Lager"
          ],
          [
           "Dark Lager"
          ],
          [
           "Pilsener & Pale Lager"
          ],
          [
           "Pilsener & Pale Lager"
          ],
          [
           "Pilsener & Pale Lager"
          ],
          [
           "Pilsener & Pale Lager"
          ],
          [
           "Specialty Beer"
          ],
          [
           "Dark Lager"
          ],
          [
           "Pilsener & Pale Lager"
          ],
          [
           "Pilsener & Pale Lager"
          ],
          [
           "Specialty Beer"
          ],
          [
           "Wild / Sour Beer"
          ],
          [
           "Dark Lager"
          ],
          [
           "Dark Lager"
          ],
          [
           "Pale Ale"
          ],
          [
           "Pale Ale"
          ],
          [
           "Porter"
          ],
          [
           "Brown Ale"
          ],
          [
           "Brown Ale"
          ],
          [
           "Pale Ale"
          ],
          [
           "Specialty Beer"
          ],
          [
           "Hybrid Beer"
          ],
          [
           "Pilsener & Pale Lager"
          ],
          [
           "Stout"
          ],
          [
           "Pale Ale"
          ],
          [
           "Pale Ale"
          ],
          [
           "Hybrid Beer"
          ],
          [
           "Brown Ale"
          ],
          [
           "Porter"
          ],
          [
           "Specialty Beer"
          ],
          [
           "Dark Lager"
          ],
          [
           "Dark Ale"
          ],
          [
           "Stout"
          ],
          [
           "Stout"
          ],
          [
           "Dark Lager"
          ],
          [
           "Porter"
          ],
          [
           "Pale Ale"
          ],
          [
           "Pale Ale"
          ],
          [
           "Stout"
          ],
          [
           "Stout"
          ],
          [
           "India Pale Ale"
          ],
          [
           "Specialty Beer"
          ],
          [
           "Porter"
          ],
          [
           "India Pale Ale"
          ],
          [
           "Specialty Beer"
          ],
          [
           "Pale Ale"
          ],
          [
           "Stout"
          ],
          [
           "Bock"
          ],
          [
           "Stout"
          ],
          [
           "Strong Ale"
          ],
          [
           "Strong Ale"
          ],
          [
           "Strong Ale"
          ],
          [
           "Strong Ale"
          ],
          [
           "Specialty Beer"
          ],
          [
           "Stout"
          ],
          [
           "Strong Ale"
          ],
          [
           "Porter"
          ],
          [
           "Specialty Beer"
          ],
          [
           "Strong Ale"
          ],
          [
           "Strong Ale"
          ],
          [
           "India Pale Ale"
          ],
          [
           "India Pale Ale"
          ],
          [
           "India Pale Ale"
          ],
          [
           "Dark Ale"
          ],
          [
           "Pale Ale"
          ],
          [
           "Brown Ale"
          ],
          [
           "Wild / Sour Beer"
          ],
          [
           "Hybrid Beer"
          ],
          [
           "Wheat Beer"
          ],
          [
           "Pale Ale"
          ],
          [
           "Pale Ale"
          ],
          [
           "Wild / Sour Beer"
          ],
          [
           "Wild / Sour Beer"
          ],
          [
           "Wild / Sour Beer"
          ],
          [
           "Wild / Sour Beer"
          ],
          [
           "Wild / Sour Beer"
          ],
          [
           "Pale Ale"
          ],
          [
           "Wild / Sour Beer"
          ],
          [
           "India Pale Ale"
          ],
          [
           "Specialty Beer"
          ],
          [
           "Bock"
          ],
          [
           "Bock"
          ],
          [
           "Bock"
          ],
          [
           "Pale Ale"
          ],
          [
           "Wild / Sour Beer"
          ],
          [
           "Specialty Beer"
          ],
          [
           "Wheat Beer"
          ],
          [
           "Specialty Beer"
          ],
          [
           "Strong Ale"
          ],
          [
           "Dark Ale"
          ],
          [
           "Specialty Beer"
          ],
          [
           "Wheat Beer"
          ],
          [
           "Wheat Beer"
          ],
          [
           "Wheat Beer"
          ],
          [
           "Wheat Beer"
          ],
          [
           "Pilsener & Pale Lager"
          ],
          [
           "Pale Ale"
          ],
          [
           "Dark Lager"
          ],
          [
           "Strong Ale"
          ],
          [
           "Dark Ale"
          ],
          [
           "Pale Ale"
          ],
          [
           "Wild / Sour Beer"
          ],
          [
           "Brown Ale"
          ],
          [
           "India Pale Ale"
          ],
          [
           "Hybrid Beer"
          ],
          [
           "Wheat Beer"
          ],
          [
           "India Pale Ale"
          ],
          [
           "India Pale Ale"
          ],
          [
           "Pilsener & Pale Lager"
          ],
          [
           "Porter"
          ],
          [
           "Stout"
          ],
          [
           "Strong Ale"
          ],
          [
           "Pilsener & Pale Lager"
          ],
          [
           "Pilsener & Pale Lager"
          ],
          [
           "Pilsener & Pale Lager"
          ],
          [
           "Pale Ale"
          ],
          [
           "Wheat Beer"
          ],
          [
           "Porter"
          ],
          [
           "Stout"
          ],
          [
           "Strong Ale"
          ],
          [
           "Strong Ale"
          ],
          [
           "Wild / Sour Beer"
          ],
          [
           "Porter"
          ],
          [
           "Pale Ale"
          ],
          [
           "Dark Ale"
          ],
          [
           "Dark Ale"
          ],
          [
           "Wild / Sour Beer"
          ],
          [
           "Wild / Sour Beer"
          ],
          [
           "Wild / Sour Beer"
          ],
          [
           "India Pale Ale"
          ],
          [
           "Wild / Sour Beer"
          ],
          [
           "Pale Ale"
          ],
          [
           "Strong Ale"
          ],
          [
           "Pale Ale"
          ],
          [
           "Strong Ale"
          ],
          [
           "Strong Ale"
          ],
          [
           "Strong Ale"
          ],
          [
           "Wheat Beer"
          ],
          [
           "Wheat Beer"
          ],
          [
           "Hybrid Beer"
          ],
          [
           "Pilsener & Pale Lager"
          ],
          [
           "Hybrid Beer"
          ],
          [
           "Hybrid Beer"
          ],
          [
           "Specialty Beer"
          ],
          [
           "Strong Ale"
          ],
          [
           "Pale Ale"
          ],
          [
           "Brown Ale"
          ],
          [
           "Brown Ale"
          ],
          [
           "Pale Ale"
          ],
          [
           "India Pale Ale"
          ],
          [
           "Stout"
          ],
          [
           "Strong Ale"
          ],
          [
           "Pale Ale"
          ],
          [
           "Pale Ale"
          ],
          [
           "Porter"
          ],
          [
           "Stout"
          ],
          [
           "Strong Ale"
          ],
          [
           "Stout"
          ],
          [
           "Dark Lager"
          ],
          [
           "Pilsener & Pale Lager"
          ],
          [
           "Pilsener & Pale Lager"
          ],
          [
           "Pilsener & Pale Lager"
          ],
          [
           "Specialty Beer"
          ],
          [
           "Wild / Sour Beer"
          ],
          [
           "Wild / Sour Beer"
          ],
          [
           "Stout"
          ],
          [
           "Pale Ale"
          ],
          [
           "Specialty Beer"
          ],
          [
           "Brown Ale"
          ],
          [
           "Bock"
          ],
          [
           "Bock"
          ],
          [
           "Wheat Beer"
          ],
          [
           "Bock"
          ],
          [
           "Wheat Beer"
          ],
          [
           "Pilsener & Pale Lager"
          ],
          [
           "Pilsener & Pale Lager"
          ],
          [
           "Pale Ale"
          ],
          [
           "Wheat Beer"
          ],
          [
           "Bock"
          ],
          [
           "Dark Lager"
          ],
          [
           "Pilsener & Pale Lager"
          ],
          [
           "Dark Lager"
          ],
          [
           "Dark Ale"
          ],
          [
           "Dark Lager"
          ],
          [
           "Bock"
          ],
          [
           "Specialty Beer"
          ],
          [
           "Stout"
          ],
          [
           "Pale Ale"
          ],
          [
           "Specialty Beer"
          ],
          [
           "Specialty Beer"
          ],
          [
           "Wild / Sour Beer"
          ],
          [
           "Specialty Beer"
          ],
          [
           "Dark Lager"
          ],
          [
           "India Pale Ale"
          ],
          [
           "Specialty Beer"
          ],
          [
           "Porter"
          ],
          [
           "Stout"
          ],
          [
           "Specialty Beer"
          ],
          [
           "Specialty Beer"
          ],
          [
           "Strong Ale"
          ],
          [
           "Dark Ale"
          ],
          [
           "Specialty Beer"
          ],
          [
           "Specialty Beer"
          ],
          [
           "Porter"
          ],
          [
           "Dark Lager"
          ],
          [
           "Dark Ale"
          ],
          [
           "Bock"
          ],
          [
           "Brown Ale"
          ],
          [
           "Dark Ale"
          ],
          [
           "Dark Lager"
          ],
          [
           "Hybrid Beer"
          ],
          [
           "India Pale Ale"
          ],
          [
           "Pale Ale"
          ],
          [
           "Pilsener & Pale Lager"
          ],
          [
           "Porter"
          ],
          [
           "Specialty Beer"
          ],
          [
           "Stout"
          ],
          [
           "Strong Ale"
          ],
          [
           "Wheat Beer"
          ],
          [
           "Wild / Sour Beer"
          ]
         ],
         "domain": {
          "x": [
           0,
           1
          ],
          "y": [
           0,
           1
          ]
         },
         "hovertemplate": "labels=%{label}<br>count=%{value}<br>parent=%{parent}<br>id=%{id}<br>Category=%{customdata[0]}<extra></extra>",
         "ids": [
          "Hybrid Beer/Biere de Champagne / Biere Brut/Flute",
          "Pilsener & Pale Lager/German Helles/Flute",
          "Pilsener & Pale Lager/German Pilsner/Flute",
          "Porter/American Imperial Porter/Goblet",
          "Dark Ale/Belgian Dark Ale/Goblet",
          "Dark Ale/Belgian Dubble/Goblet",
          "Strong Ale/Belgian Quadrupel /Goblet",
          "Strong Ale/Belgian Strong Dark Ale/Goblet",
          "Strong Ale/Belgian Strong Pale Ale/Goblet",
          "Pilsener & Pale Lager/German Kellerbier / Zwickelbier/Mug",
          "Dark Ale/Winter Warmer/Goblet",
          "Bock/German Maibock/Goblet",
          "Pilsener & Pale Lager/European Strong Lager/Goblet",
          "Wheat Beer/Berliner Weisse/Goblet",
          "Strong Ale/Belgian Tripel /Goblet",
          "Dark Lager/German Marzen / Oktoberfest/Mug",
          "Pilsener & Pale Lager/American Adjunt Lager/Pilsener Glass",
          "Dark Lager/American Amber / Red Lager/Pilsener Glass",
          "Pilsener & Pale Lager/American Imperial Pilsner/Pilsener Glass",
          "Pilsener & Pale Lager/American Lager/Pilsener Glass",
          "Pilsener & Pale Lager/American Light Lager/Pilsener Glass",
          "Pilsener & Pale Lager/Bohemian Pilsener/Pilsener Glass",
          "Specialty Beer/Japanese Happoshu/Pilsener Glass",
          "Dark Lager/German Schwarzbier/Pilsener Glass",
          "Pilsener & Pale Lager/European Export / Dortmunder/Pilsener Glass",
          "Pilsener & Pale Lager/European Pale Lager/Pilsener Glass",
          "Specialty Beer/Japanese Rice Lager/Pilsener Glass",
          "Wild / Sour Beer/Leipzig Gose/Pilsener Glass",
          "Dark Lager/Munich Dunkel Lager/Pilsener Glass",
          "Dark Lager/Vienna Lager/Pilsener Glass",
          "Pale Ale/American Amber / Red Ale/Pint Glass",
          "Pale Ale/American Blonde Ale/Pint Glass",
          "Porter/American Porter/Pint Glass",
          "Brown Ale/English Dark Mild Ale/Pint Glass",
          "Brown Ale/English Brown Ale/Pint Glass",
          "Pale Ale/English Bitter/Pint Glass",
          "Specialty Beer/Chile Beer/Pint Glass",
          "Hybrid Beer/California Common / Steam Beer/Pint Glass",
          "Pilsener & Pale Lager/American Malt Lager /Pint Glass",
          "Stout/American Stout/Pint Glass",
          "Pale Ale/American Pale Ale/Pint Glass",
          "Pale Ale/English Extra Special /Pint Glass",
          "Hybrid Beer/American Cream Ale/Pint Glass",
          "Brown Ale/American Brown Ale/Pint Glass",
          "Porter/Baltic Porter/Pint Glass",
          "Specialty Beer/Finnish Sahti/Pint Glass",
          "Dark Lager/European Dark Lager/Pint Glass",
          "Dark Ale/German Roggenbier/Pint Glass",
          "Stout/Foreign / Export Stout/Pint Glass",
          "Stout/English Sweet / Milk Stout/Pint Glass",
          "Dark Lager/German Rauchbier/Pint Glass",
          "Porter/English Porter/Pint Glass",
          "Pale Ale/English Pale Mild Ale/Pint Glass",
          "Pale Ale/English Pale Ale/Pint Glass",
          "Stout/English Oatmeal Stout/Pint Glass",
          "Stout/English Stout/Pint Glass",
          "India Pale Ale/English India Pale Ale/Pint Glass",
          "Specialty Beer/Russian Kvass/Pint Glass",
          "Porter/Robust Porter/Pint Glass",
          "India Pale Ale/New England IPA/Pint Glass",
          "Specialty Beer/Low Alcohol Beer/Pint Glass",
          "Pale Ale/Irish Red Ale/Pint Glass",
          "Stout/Irish Dry Stout/Pint Glass",
          "Bock/German Eisbock/Snifter",
          "Stout/Russian Imperial Stout/Snifter",
          "Strong Ale/English Strong Ale/Snifter",
          "Strong Ale/English Old Ale/Snifter",
          "Strong Ale/English Barleywine/Snifter",
          "Strong Ale/American Wheatwine Ale/Snifter",
          "Specialty Beer/Smoke Beer/Pint Glass",
          "Stout/American Imperial Stout/Snifter",
          "Strong Ale/American Barleywine/Snifter",
          "Porter/Smoke Porter/Pint Glass",
          "Specialty Beer/Rye Beer/Pint Glass",
          "Strong Ale/American Strong Ale/Snifter",
          "Strong Ale/American Imperian Red Ale/Tulip",
          "India Pale Ale/American Imperial IPA/Tulip",
          "India Pale Ale/American Brut IPA/Tulip",
          "India Pale Ale/American IPA/Tulip",
          "Dark Ale/American Black Ale/Tulip",
          "Pale Ale/German Kolsch/Stange",
          "Brown Ale/German Altbier/Stange",
          "Wild / Sour Beer/American Brett/Tulip",
          "Hybrid Beer/Braggot/Tulip",
          "Wheat Beer/Belgian Witbier /Tulip",
          "Pale Ale/Belgian Saison/Tulip",
          "Pale Ale/Belgian Pale Ale/Tulip",
          "Wild / Sour Beer/Belgian Lambic/Tulip",
          "Wild / Sour Beer/Flanders Oud Bruin /Tulip",
          "Wild / Sour Beer/Belgian Gueuze/Tulip",
          "Wild / Sour Beer/Belgian Fruit Lambic/Tulip",
          "Wild / Sour Beer/Belgian Faro/Tulip",
          "Pale Ale/Belgian Blonde Ale/Tulip",
          "Wild / Sour Beer/American Wild Ale/Tulip",
          "India Pale Ale/Belgian IPA/Tulip",
          "Specialty Beer/Herb and Spice Beer/Tulip",
          "Bock/German Weizenbock/Tulip",
          "Bock/German Bock/Tulip",
          "Bock/German Doppelbock/Tulip",
          "Pale Ale/French Biere de Garde/Tulip",
          "Wild / Sour Beer/Flanders Red Ale/Tulip",
          "Specialty Beer/Fruit and Field Beer/Tulip",
          "Wheat Beer/German Hefeweizen/Weizen Glass",
          "Specialty Beer/Pumpkin Beer/Tulip",
          "Strong Ale/Scotch Ale / Wee Heavy/Tulip",
          "Dark Ale/Scottish Ale/Tulip",
          "Specialty Beer/Scottish Gruit / Ancient Herbed Ale/Tulip",
          "Wheat Beer/American Dark Wheat Ale/Weizen Glass",
          "Wheat Beer/American Pale Wheat Ale/Weizen Glass",
          "Wheat Beer/German Dunkelweizen /Weizen Glass",
          "Wheat Beer/German Kristalweizen/Weizen Glass",
          "Pilsener & Pale Lager/American Adjunt Lager",
          "Pale Ale/American Amber / Red Ale",
          "Dark Lager/American Amber / Red Lager",
          "Strong Ale/American Barleywine",
          "Dark Ale/American Black Ale",
          "Pale Ale/American Blonde Ale",
          "Wild / Sour Beer/American Brett",
          "Brown Ale/American Brown Ale",
          "India Pale Ale/American Brut IPA",
          "Hybrid Beer/American Cream Ale",
          "Wheat Beer/American Dark Wheat Ale",
          "India Pale Ale/American IPA",
          "India Pale Ale/American Imperial IPA",
          "Pilsener & Pale Lager/American Imperial Pilsner",
          "Porter/American Imperial Porter",
          "Stout/American Imperial Stout",
          "Strong Ale/American Imperian Red Ale",
          "Pilsener & Pale Lager/American Lager",
          "Pilsener & Pale Lager/American Light Lager",
          "Pilsener & Pale Lager/American Malt Lager ",
          "Pale Ale/American Pale Ale",
          "Wheat Beer/American Pale Wheat Ale",
          "Porter/American Porter",
          "Stout/American Stout",
          "Strong Ale/American Strong Ale",
          "Strong Ale/American Wheatwine Ale",
          "Wild / Sour Beer/American Wild Ale",
          "Porter/Baltic Porter",
          "Pale Ale/Belgian Blonde Ale",
          "Dark Ale/Belgian Dark Ale",
          "Dark Ale/Belgian Dubble",
          "Wild / Sour Beer/Belgian Faro",
          "Wild / Sour Beer/Belgian Fruit Lambic",
          "Wild / Sour Beer/Belgian Gueuze",
          "India Pale Ale/Belgian IPA",
          "Wild / Sour Beer/Belgian Lambic",
          "Pale Ale/Belgian Pale Ale",
          "Strong Ale/Belgian Quadrupel ",
          "Pale Ale/Belgian Saison",
          "Strong Ale/Belgian Strong Dark Ale",
          "Strong Ale/Belgian Strong Pale Ale",
          "Strong Ale/Belgian Tripel ",
          "Wheat Beer/Belgian Witbier ",
          "Wheat Beer/Berliner Weisse",
          "Hybrid Beer/Biere de Champagne / Biere Brut",
          "Pilsener & Pale Lager/Bohemian Pilsener",
          "Hybrid Beer/Braggot",
          "Hybrid Beer/California Common / Steam Beer",
          "Specialty Beer/Chile Beer",
          "Strong Ale/English Barleywine",
          "Pale Ale/English Bitter",
          "Brown Ale/English Brown Ale",
          "Brown Ale/English Dark Mild Ale",
          "Pale Ale/English Extra Special ",
          "India Pale Ale/English India Pale Ale",
          "Stout/English Oatmeal Stout",
          "Strong Ale/English Old Ale",
          "Pale Ale/English Pale Ale",
          "Pale Ale/English Pale Mild Ale",
          "Porter/English Porter",
          "Stout/English Stout",
          "Strong Ale/English Strong Ale",
          "Stout/English Sweet / Milk Stout",
          "Dark Lager/European Dark Lager",
          "Pilsener & Pale Lager/European Export / Dortmunder",
          "Pilsener & Pale Lager/European Pale Lager",
          "Pilsener & Pale Lager/European Strong Lager",
          "Specialty Beer/Finnish Sahti",
          "Wild / Sour Beer/Flanders Oud Bruin ",
          "Wild / Sour Beer/Flanders Red Ale",
          "Stout/Foreign / Export Stout",
          "Pale Ale/French Biere de Garde",
          "Specialty Beer/Fruit and Field Beer",
          "Brown Ale/German Altbier",
          "Bock/German Bock",
          "Bock/German Doppelbock",
          "Wheat Beer/German Dunkelweizen ",
          "Bock/German Eisbock",
          "Wheat Beer/German Hefeweizen",
          "Pilsener & Pale Lager/German Helles",
          "Pilsener & Pale Lager/German Kellerbier / Zwickelbier",
          "Pale Ale/German Kolsch",
          "Wheat Beer/German Kristalweizen",
          "Bock/German Maibock",
          "Dark Lager/German Marzen / Oktoberfest",
          "Pilsener & Pale Lager/German Pilsner",
          "Dark Lager/German Rauchbier",
          "Dark Ale/German Roggenbier",
          "Dark Lager/German Schwarzbier",
          "Bock/German Weizenbock",
          "Specialty Beer/Herb and Spice Beer",
          "Stout/Irish Dry Stout",
          "Pale Ale/Irish Red Ale",
          "Specialty Beer/Japanese Happoshu",
          "Specialty Beer/Japanese Rice Lager",
          "Wild / Sour Beer/Leipzig Gose",
          "Specialty Beer/Low Alcohol Beer",
          "Dark Lager/Munich Dunkel Lager",
          "India Pale Ale/New England IPA",
          "Specialty Beer/Pumpkin Beer",
          "Porter/Robust Porter",
          "Stout/Russian Imperial Stout",
          "Specialty Beer/Russian Kvass",
          "Specialty Beer/Rye Beer",
          "Strong Ale/Scotch Ale / Wee Heavy",
          "Dark Ale/Scottish Ale",
          "Specialty Beer/Scottish Gruit / Ancient Herbed Ale",
          "Specialty Beer/Smoke Beer",
          "Porter/Smoke Porter",
          "Dark Lager/Vienna Lager",
          "Dark Ale/Winter Warmer",
          "Bock",
          "Brown Ale",
          "Dark Ale",
          "Dark Lager",
          "Hybrid Beer",
          "India Pale Ale",
          "Pale Ale",
          "Pilsener & Pale Lager",
          "Porter",
          "Specialty Beer",
          "Stout",
          "Strong Ale",
          "Wheat Beer",
          "Wild / Sour Beer"
         ],
         "labels": [
          "Flute",
          "Flute",
          "Flute",
          "Goblet",
          "Goblet",
          "Goblet",
          "Goblet",
          "Goblet",
          "Goblet",
          "Mug",
          "Goblet",
          "Goblet",
          "Goblet",
          "Goblet",
          "Goblet",
          "Mug",
          "Pilsener Glass",
          "Pilsener Glass",
          "Pilsener Glass",
          "Pilsener Glass",
          "Pilsener Glass",
          "Pilsener Glass",
          "Pilsener Glass",
          "Pilsener Glass",
          "Pilsener Glass",
          "Pilsener Glass",
          "Pilsener Glass",
          "Pilsener Glass",
          "Pilsener Glass",
          "Pilsener Glass",
          "Pint Glass",
          "Pint Glass",
          "Pint Glass",
          "Pint Glass",
          "Pint Glass",
          "Pint Glass",
          "Pint Glass",
          "Pint Glass",
          "Pint Glass",
          "Pint Glass",
          "Pint Glass",
          "Pint Glass",
          "Pint Glass",
          "Pint Glass",
          "Pint Glass",
          "Pint Glass",
          "Pint Glass",
          "Pint Glass",
          "Pint Glass",
          "Pint Glass",
          "Pint Glass",
          "Pint Glass",
          "Pint Glass",
          "Pint Glass",
          "Pint Glass",
          "Pint Glass",
          "Pint Glass",
          "Pint Glass",
          "Pint Glass",
          "Pint Glass",
          "Pint Glass",
          "Pint Glass",
          "Pint Glass",
          "Snifter",
          "Snifter",
          "Snifter",
          "Snifter",
          "Snifter",
          "Snifter",
          "Pint Glass",
          "Snifter",
          "Snifter",
          "Pint Glass",
          "Pint Glass",
          "Snifter",
          "Tulip",
          "Tulip",
          "Tulip",
          "Tulip",
          "Tulip",
          "Stange",
          "Stange",
          "Tulip",
          "Tulip",
          "Tulip",
          "Tulip",
          "Tulip",
          "Tulip",
          "Tulip",
          "Tulip",
          "Tulip",
          "Tulip",
          "Tulip",
          "Tulip",
          "Tulip",
          "Tulip",
          "Tulip",
          "Tulip",
          "Tulip",
          "Tulip",
          "Tulip",
          "Tulip",
          "Weizen Glass",
          "Tulip",
          "Tulip",
          "Tulip",
          "Tulip",
          "Weizen Glass",
          "Weizen Glass",
          "Weizen Glass",
          "Weizen Glass",
          "American Adjunt Lager",
          "American Amber / Red Ale",
          "American Amber / Red Lager",
          "American Barleywine",
          "American Black Ale",
          "American Blonde Ale",
          "American Brett",
          "American Brown Ale",
          "American Brut IPA",
          "American Cream Ale",
          "American Dark Wheat Ale",
          "American IPA",
          "American Imperial IPA",
          "American Imperial Pilsner",
          "American Imperial Porter",
          "American Imperial Stout",
          "American Imperian Red Ale",
          "American Lager",
          "American Light Lager",
          "American Malt Lager ",
          "American Pale Ale",
          "American Pale Wheat Ale",
          "American Porter",
          "American Stout",
          "American Strong Ale",
          "American Wheatwine Ale",
          "American Wild Ale",
          "Baltic Porter",
          "Belgian Blonde Ale",
          "Belgian Dark Ale",
          "Belgian Dubble",
          "Belgian Faro",
          "Belgian Fruit Lambic",
          "Belgian Gueuze",
          "Belgian IPA",
          "Belgian Lambic",
          "Belgian Pale Ale",
          "Belgian Quadrupel ",
          "Belgian Saison",
          "Belgian Strong Dark Ale",
          "Belgian Strong Pale Ale",
          "Belgian Tripel ",
          "Belgian Witbier ",
          "Berliner Weisse",
          "Biere de Champagne / Biere Brut",
          "Bohemian Pilsener",
          "Braggot",
          "California Common / Steam Beer",
          "Chile Beer",
          "English Barleywine",
          "English Bitter",
          "English Brown Ale",
          "English Dark Mild Ale",
          "English Extra Special ",
          "English India Pale Ale",
          "English Oatmeal Stout",
          "English Old Ale",
          "English Pale Ale",
          "English Pale Mild Ale",
          "English Porter",
          "English Stout",
          "English Strong Ale",
          "English Sweet / Milk Stout",
          "European Dark Lager",
          "European Export / Dortmunder",
          "European Pale Lager",
          "European Strong Lager",
          "Finnish Sahti",
          "Flanders Oud Bruin ",
          "Flanders Red Ale",
          "Foreign / Export Stout",
          "French Biere de Garde",
          "Fruit and Field Beer",
          "German Altbier",
          "German Bock",
          "German Doppelbock",
          "German Dunkelweizen ",
          "German Eisbock",
          "German Hefeweizen",
          "German Helles",
          "German Kellerbier / Zwickelbier",
          "German Kolsch",
          "German Kristalweizen",
          "German Maibock",
          "German Marzen / Oktoberfest",
          "German Pilsner",
          "German Rauchbier",
          "German Roggenbier",
          "German Schwarzbier",
          "German Weizenbock",
          "Herb and Spice Beer",
          "Irish Dry Stout",
          "Irish Red Ale",
          "Japanese Happoshu",
          "Japanese Rice Lager",
          "Leipzig Gose",
          "Low Alcohol Beer",
          "Munich Dunkel Lager",
          "New England IPA",
          "Pumpkin Beer",
          "Robust Porter",
          "Russian Imperial Stout",
          "Russian Kvass",
          "Rye Beer",
          "Scotch Ale / Wee Heavy",
          "Scottish Ale",
          "Scottish Gruit / Ancient Herbed Ale",
          "Smoke Beer",
          "Smoke Porter",
          "Vienna Lager",
          "Winter Warmer",
          "Bock",
          "Brown Ale",
          "Dark Ale",
          "Dark Lager",
          "Hybrid Beer",
          "India Pale Ale",
          "Pale Ale",
          "Pilsener & Pale Lager",
          "Porter",
          "Specialty Beer",
          "Stout",
          "Strong Ale",
          "Wheat Beer",
          "Wild / Sour Beer"
         ],
         "marker": {
          "colors": [
           "rgb(102, 197, 204)",
           "rgb(246, 207, 113)",
           "rgb(246, 207, 113)",
           "rgb(248, 156, 116)",
           "rgb(220, 176, 242)",
           "rgb(220, 176, 242)",
           "rgb(135, 197, 95)",
           "rgb(135, 197, 95)",
           "rgb(135, 197, 95)",
           "rgb(246, 207, 113)",
           "rgb(220, 176, 242)",
           "rgb(158, 185, 243)",
           "rgb(246, 207, 113)",
           "rgb(254, 136, 177)",
           "rgb(135, 197, 95)",
           "rgb(201, 219, 116)",
           "rgb(246, 207, 113)",
           "rgb(201, 219, 116)",
           "rgb(246, 207, 113)",
           "rgb(246, 207, 113)",
           "rgb(246, 207, 113)",
           "rgb(246, 207, 113)",
           "rgb(139, 224, 164)",
           "rgb(201, 219, 116)",
           "rgb(246, 207, 113)",
           "rgb(246, 207, 113)",
           "rgb(139, 224, 164)",
           "rgb(180, 151, 231)",
           "rgb(201, 219, 116)",
           "rgb(201, 219, 116)",
           "rgb(179, 179, 179)",
           "rgb(179, 179, 179)",
           "rgb(248, 156, 116)",
           "rgb(102, 197, 204)",
           "rgb(102, 197, 204)",
           "rgb(179, 179, 179)",
           "rgb(139, 224, 164)",
           "rgb(102, 197, 204)",
           "rgb(246, 207, 113)",
           "rgb(246, 207, 113)",
           "rgb(179, 179, 179)",
           "rgb(179, 179, 179)",
           "rgb(102, 197, 204)",
           "rgb(102, 197, 204)",
           "rgb(248, 156, 116)",
           "rgb(139, 224, 164)",
           "rgb(201, 219, 116)",
           "rgb(220, 176, 242)",
           "rgb(246, 207, 113)",
           "rgb(246, 207, 113)",
           "rgb(201, 219, 116)",
           "rgb(248, 156, 116)",
           "rgb(179, 179, 179)",
           "rgb(179, 179, 179)",
           "rgb(246, 207, 113)",
           "rgb(246, 207, 113)",
           "rgb(248, 156, 116)",
           "rgb(139, 224, 164)",
           "rgb(248, 156, 116)",
           "rgb(248, 156, 116)",
           "rgb(139, 224, 164)",
           "rgb(179, 179, 179)",
           "rgb(246, 207, 113)",
           "rgb(158, 185, 243)",
           "rgb(246, 207, 113)",
           "rgb(135, 197, 95)",
           "rgb(135, 197, 95)",
           "rgb(135, 197, 95)",
           "rgb(135, 197, 95)",
           "rgb(139, 224, 164)",
           "rgb(246, 207, 113)",
           "rgb(135, 197, 95)",
           "rgb(248, 156, 116)",
           "rgb(139, 224, 164)",
           "rgb(135, 197, 95)",
           "rgb(135, 197, 95)",
           "rgb(248, 156, 116)",
           "rgb(248, 156, 116)",
           "rgb(248, 156, 116)",
           "rgb(220, 176, 242)",
           "rgb(179, 179, 179)",
           "rgb(102, 197, 204)",
           "rgb(180, 151, 231)",
           "rgb(102, 197, 204)",
           "rgb(254, 136, 177)",
           "rgb(179, 179, 179)",
           "rgb(179, 179, 179)",
           "rgb(180, 151, 231)",
           "rgb(180, 151, 231)",
           "rgb(180, 151, 231)",
           "rgb(180, 151, 231)",
           "rgb(180, 151, 231)",
           "rgb(179, 179, 179)",
           "rgb(180, 151, 231)",
           "rgb(248, 156, 116)",
           "rgb(139, 224, 164)",
           "rgb(158, 185, 243)",
           "rgb(158, 185, 243)",
           "rgb(158, 185, 243)",
           "rgb(179, 179, 179)",
           "rgb(180, 151, 231)",
           "rgb(139, 224, 164)",
           "rgb(254, 136, 177)",
           "rgb(139, 224, 164)",
           "rgb(135, 197, 95)",
           "rgb(220, 176, 242)",
           "rgb(139, 224, 164)",
           "rgb(254, 136, 177)",
           "rgb(254, 136, 177)",
           "rgb(254, 136, 177)",
           "rgb(254, 136, 177)",
           "rgb(246, 207, 113)",
           "rgb(179, 179, 179)",
           "rgb(201, 219, 116)",
           "rgb(135, 197, 95)",
           "rgb(220, 176, 242)",
           "rgb(179, 179, 179)",
           "rgb(180, 151, 231)",
           "rgb(102, 197, 204)",
           "rgb(248, 156, 116)",
           "rgb(102, 197, 204)",
           "rgb(254, 136, 177)",
           "rgb(248, 156, 116)",
           "rgb(248, 156, 116)",
           "rgb(246, 207, 113)",
           "rgb(248, 156, 116)",
           "rgb(246, 207, 113)",
           "rgb(135, 197, 95)",
           "rgb(246, 207, 113)",
           "rgb(246, 207, 113)",
           "rgb(246, 207, 113)",
           "rgb(179, 179, 179)",
           "rgb(254, 136, 177)",
           "rgb(248, 156, 116)",
           "rgb(246, 207, 113)",
           "rgb(135, 197, 95)",
           "rgb(135, 197, 95)",
           "rgb(180, 151, 231)",
           "rgb(248, 156, 116)",
           "rgb(179, 179, 179)",
           "rgb(220, 176, 242)",
           "rgb(220, 176, 242)",
           "rgb(180, 151, 231)",
           "rgb(180, 151, 231)",
           "rgb(180, 151, 231)",
           "rgb(248, 156, 116)",
           "rgb(180, 151, 231)",
           "rgb(179, 179, 179)",
           "rgb(135, 197, 95)",
           "rgb(179, 179, 179)",
           "rgb(135, 197, 95)",
           "rgb(135, 197, 95)",
           "rgb(135, 197, 95)",
           "rgb(254, 136, 177)",
           "rgb(254, 136, 177)",
           "rgb(102, 197, 204)",
           "rgb(246, 207, 113)",
           "rgb(102, 197, 204)",
           "rgb(102, 197, 204)",
           "rgb(139, 224, 164)",
           "rgb(135, 197, 95)",
           "rgb(179, 179, 179)",
           "rgb(102, 197, 204)",
           "rgb(102, 197, 204)",
           "rgb(179, 179, 179)",
           "rgb(248, 156, 116)",
           "rgb(246, 207, 113)",
           "rgb(135, 197, 95)",
           "rgb(179, 179, 179)",
           "rgb(179, 179, 179)",
           "rgb(248, 156, 116)",
           "rgb(246, 207, 113)",
           "rgb(135, 197, 95)",
           "rgb(246, 207, 113)",
           "rgb(201, 219, 116)",
           "rgb(246, 207, 113)",
           "rgb(246, 207, 113)",
           "rgb(246, 207, 113)",
           "rgb(139, 224, 164)",
           "rgb(180, 151, 231)",
           "rgb(180, 151, 231)",
           "rgb(246, 207, 113)",
           "rgb(179, 179, 179)",
           "rgb(139, 224, 164)",
           "rgb(102, 197, 204)",
           "rgb(158, 185, 243)",
           "rgb(158, 185, 243)",
           "rgb(254, 136, 177)",
           "rgb(158, 185, 243)",
           "rgb(254, 136, 177)",
           "rgb(246, 207, 113)",
           "rgb(246, 207, 113)",
           "rgb(179, 179, 179)",
           "rgb(254, 136, 177)",
           "rgb(158, 185, 243)",
           "rgb(201, 219, 116)",
           "rgb(246, 207, 113)",
           "rgb(201, 219, 116)",
           "rgb(220, 176, 242)",
           "rgb(201, 219, 116)",
           "rgb(158, 185, 243)",
           "rgb(139, 224, 164)",
           "rgb(246, 207, 113)",
           "rgb(179, 179, 179)",
           "rgb(139, 224, 164)",
           "rgb(139, 224, 164)",
           "rgb(180, 151, 231)",
           "rgb(139, 224, 164)",
           "rgb(201, 219, 116)",
           "rgb(248, 156, 116)",
           "rgb(139, 224, 164)",
           "rgb(248, 156, 116)",
           "rgb(246, 207, 113)",
           "rgb(139, 224, 164)",
           "rgb(139, 224, 164)",
           "rgb(135, 197, 95)",
           "rgb(220, 176, 242)",
           "rgb(139, 224, 164)",
           "rgb(139, 224, 164)",
           "rgb(248, 156, 116)",
           "rgb(201, 219, 116)",
           "rgb(220, 176, 242)",
           "rgb(158, 185, 243)",
           "rgb(102, 197, 204)",
           "rgb(220, 176, 242)",
           "rgb(201, 219, 116)",
           "rgb(102, 197, 204)",
           "rgb(248, 156, 116)",
           "rgb(179, 179, 179)",
           "rgb(246, 207, 113)",
           "rgb(248, 156, 116)",
           "rgb(139, 224, 164)",
           "rgb(246, 207, 113)",
           "rgb(135, 197, 95)",
           "rgb(254, 136, 177)",
           "rgb(180, 151, 231)"
          ]
         },
         "maxdepth": -1,
         "name": "",
         "parents": [
          "Hybrid Beer/Biere de Champagne / Biere Brut",
          "Pilsener & Pale Lager/German Helles",
          "Pilsener & Pale Lager/German Pilsner",
          "Porter/American Imperial Porter",
          "Dark Ale/Belgian Dark Ale",
          "Dark Ale/Belgian Dubble",
          "Strong Ale/Belgian Quadrupel ",
          "Strong Ale/Belgian Strong Dark Ale",
          "Strong Ale/Belgian Strong Pale Ale",
          "Pilsener & Pale Lager/German Kellerbier / Zwickelbier",
          "Dark Ale/Winter Warmer",
          "Bock/German Maibock",
          "Pilsener & Pale Lager/European Strong Lager",
          "Wheat Beer/Berliner Weisse",
          "Strong Ale/Belgian Tripel ",
          "Dark Lager/German Marzen / Oktoberfest",
          "Pilsener & Pale Lager/American Adjunt Lager",
          "Dark Lager/American Amber / Red Lager",
          "Pilsener & Pale Lager/American Imperial Pilsner",
          "Pilsener & Pale Lager/American Lager",
          "Pilsener & Pale Lager/American Light Lager",
          "Pilsener & Pale Lager/Bohemian Pilsener",
          "Specialty Beer/Japanese Happoshu",
          "Dark Lager/German Schwarzbier",
          "Pilsener & Pale Lager/European Export / Dortmunder",
          "Pilsener & Pale Lager/European Pale Lager",
          "Specialty Beer/Japanese Rice Lager",
          "Wild / Sour Beer/Leipzig Gose",
          "Dark Lager/Munich Dunkel Lager",
          "Dark Lager/Vienna Lager",
          "Pale Ale/American Amber / Red Ale",
          "Pale Ale/American Blonde Ale",
          "Porter/American Porter",
          "Brown Ale/English Dark Mild Ale",
          "Brown Ale/English Brown Ale",
          "Pale Ale/English Bitter",
          "Specialty Beer/Chile Beer",
          "Hybrid Beer/California Common / Steam Beer",
          "Pilsener & Pale Lager/American Malt Lager ",
          "Stout/American Stout",
          "Pale Ale/American Pale Ale",
          "Pale Ale/English Extra Special ",
          "Hybrid Beer/American Cream Ale",
          "Brown Ale/American Brown Ale",
          "Porter/Baltic Porter",
          "Specialty Beer/Finnish Sahti",
          "Dark Lager/European Dark Lager",
          "Dark Ale/German Roggenbier",
          "Stout/Foreign / Export Stout",
          "Stout/English Sweet / Milk Stout",
          "Dark Lager/German Rauchbier",
          "Porter/English Porter",
          "Pale Ale/English Pale Mild Ale",
          "Pale Ale/English Pale Ale",
          "Stout/English Oatmeal Stout",
          "Stout/English Stout",
          "India Pale Ale/English India Pale Ale",
          "Specialty Beer/Russian Kvass",
          "Porter/Robust Porter",
          "India Pale Ale/New England IPA",
          "Specialty Beer/Low Alcohol Beer",
          "Pale Ale/Irish Red Ale",
          "Stout/Irish Dry Stout",
          "Bock/German Eisbock",
          "Stout/Russian Imperial Stout",
          "Strong Ale/English Strong Ale",
          "Strong Ale/English Old Ale",
          "Strong Ale/English Barleywine",
          "Strong Ale/American Wheatwine Ale",
          "Specialty Beer/Smoke Beer",
          "Stout/American Imperial Stout",
          "Strong Ale/American Barleywine",
          "Porter/Smoke Porter",
          "Specialty Beer/Rye Beer",
          "Strong Ale/American Strong Ale",
          "Strong Ale/American Imperian Red Ale",
          "India Pale Ale/American Imperial IPA",
          "India Pale Ale/American Brut IPA",
          "India Pale Ale/American IPA",
          "Dark Ale/American Black Ale",
          "Pale Ale/German Kolsch",
          "Brown Ale/German Altbier",
          "Wild / Sour Beer/American Brett",
          "Hybrid Beer/Braggot",
          "Wheat Beer/Belgian Witbier ",
          "Pale Ale/Belgian Saison",
          "Pale Ale/Belgian Pale Ale",
          "Wild / Sour Beer/Belgian Lambic",
          "Wild / Sour Beer/Flanders Oud Bruin ",
          "Wild / Sour Beer/Belgian Gueuze",
          "Wild / Sour Beer/Belgian Fruit Lambic",
          "Wild / Sour Beer/Belgian Faro",
          "Pale Ale/Belgian Blonde Ale",
          "Wild / Sour Beer/American Wild Ale",
          "India Pale Ale/Belgian IPA",
          "Specialty Beer/Herb and Spice Beer",
          "Bock/German Weizenbock",
          "Bock/German Bock",
          "Bock/German Doppelbock",
          "Pale Ale/French Biere de Garde",
          "Wild / Sour Beer/Flanders Red Ale",
          "Specialty Beer/Fruit and Field Beer",
          "Wheat Beer/German Hefeweizen",
          "Specialty Beer/Pumpkin Beer",
          "Strong Ale/Scotch Ale / Wee Heavy",
          "Dark Ale/Scottish Ale",
          "Specialty Beer/Scottish Gruit / Ancient Herbed Ale",
          "Wheat Beer/American Dark Wheat Ale",
          "Wheat Beer/American Pale Wheat Ale",
          "Wheat Beer/German Dunkelweizen ",
          "Wheat Beer/German Kristalweizen",
          "Pilsener & Pale Lager",
          "Pale Ale",
          "Dark Lager",
          "Strong Ale",
          "Dark Ale",
          "Pale Ale",
          "Wild / Sour Beer",
          "Brown Ale",
          "India Pale Ale",
          "Hybrid Beer",
          "Wheat Beer",
          "India Pale Ale",
          "India Pale Ale",
          "Pilsener & Pale Lager",
          "Porter",
          "Stout",
          "Strong Ale",
          "Pilsener & Pale Lager",
          "Pilsener & Pale Lager",
          "Pilsener & Pale Lager",
          "Pale Ale",
          "Wheat Beer",
          "Porter",
          "Stout",
          "Strong Ale",
          "Strong Ale",
          "Wild / Sour Beer",
          "Porter",
          "Pale Ale",
          "Dark Ale",
          "Dark Ale",
          "Wild / Sour Beer",
          "Wild / Sour Beer",
          "Wild / Sour Beer",
          "India Pale Ale",
          "Wild / Sour Beer",
          "Pale Ale",
          "Strong Ale",
          "Pale Ale",
          "Strong Ale",
          "Strong Ale",
          "Strong Ale",
          "Wheat Beer",
          "Wheat Beer",
          "Hybrid Beer",
          "Pilsener & Pale Lager",
          "Hybrid Beer",
          "Hybrid Beer",
          "Specialty Beer",
          "Strong Ale",
          "Pale Ale",
          "Brown Ale",
          "Brown Ale",
          "Pale Ale",
          "India Pale Ale",
          "Stout",
          "Strong Ale",
          "Pale Ale",
          "Pale Ale",
          "Porter",
          "Stout",
          "Strong Ale",
          "Stout",
          "Dark Lager",
          "Pilsener & Pale Lager",
          "Pilsener & Pale Lager",
          "Pilsener & Pale Lager",
          "Specialty Beer",
          "Wild / Sour Beer",
          "Wild / Sour Beer",
          "Stout",
          "Pale Ale",
          "Specialty Beer",
          "Brown Ale",
          "Bock",
          "Bock",
          "Wheat Beer",
          "Bock",
          "Wheat Beer",
          "Pilsener & Pale Lager",
          "Pilsener & Pale Lager",
          "Pale Ale",
          "Wheat Beer",
          "Bock",
          "Dark Lager",
          "Pilsener & Pale Lager",
          "Dark Lager",
          "Dark Ale",
          "Dark Lager",
          "Bock",
          "Specialty Beer",
          "Stout",
          "Pale Ale",
          "Specialty Beer",
          "Specialty Beer",
          "Wild / Sour Beer",
          "Specialty Beer",
          "Dark Lager",
          "India Pale Ale",
          "Specialty Beer",
          "Porter",
          "Stout",
          "Specialty Beer",
          "Specialty Beer",
          "Strong Ale",
          "Dark Ale",
          "Specialty Beer",
          "Specialty Beer",
          "Porter",
          "Dark Lager",
          "Dark Ale",
          "",
          "",
          "",
          "",
          "",
          "",
          "",
          "",
          "",
          "",
          "",
          "",
          "",
          ""
         ],
         "textinfo": "label+percent entry",
         "type": "sunburst",
         "values": [
          1,
          1,
          1,
          1,
          1,
          1,
          1,
          1,
          1,
          1,
          1,
          1,
          1,
          1,
          1,
          1,
          1,
          1,
          1,
          1,
          1,
          1,
          1,
          1,
          1,
          1,
          1,
          1,
          1,
          1,
          1,
          1,
          1,
          1,
          1,
          1,
          1,
          1,
          1,
          1,
          1,
          1,
          1,
          1,
          1,
          1,
          1,
          1,
          1,
          1,
          1,
          1,
          1,
          1,
          1,
          1,
          1,
          1,
          1,
          1,
          1,
          1,
          1,
          1,
          1,
          1,
          1,
          1,
          1,
          1,
          1,
          1,
          1,
          1,
          1,
          1,
          1,
          1,
          1,
          1,
          1,
          1,
          1,
          1,
          1,
          1,
          1,
          1,
          1,
          1,
          1,
          1,
          1,
          1,
          1,
          1,
          1,
          1,
          1,
          1,
          1,
          1,
          1,
          1,
          1,
          1,
          1,
          1,
          1,
          1,
          1,
          1,
          1,
          1,
          1,
          1,
          1,
          1,
          1,
          1,
          1,
          1,
          1,
          1,
          1,
          1,
          1,
          1,
          1,
          1,
          1,
          1,
          1,
          1,
          1,
          1,
          1,
          1,
          1,
          1,
          1,
          1,
          1,
          1,
          1,
          1,
          1,
          1,
          1,
          1,
          1,
          1,
          1,
          1,
          1,
          1,
          1,
          1,
          1,
          1,
          1,
          1,
          1,
          1,
          1,
          1,
          1,
          1,
          1,
          1,
          1,
          1,
          1,
          1,
          1,
          1,
          1,
          1,
          1,
          1,
          1,
          1,
          1,
          1,
          1,
          1,
          1,
          1,
          1,
          1,
          1,
          1,
          1,
          1,
          1,
          1,
          1,
          1,
          1,
          1,
          1,
          1,
          1,
          1,
          1,
          1,
          1,
          1,
          1,
          1,
          1,
          1,
          1,
          1,
          1,
          1,
          1,
          1,
          1,
          1,
          1,
          1,
          5,
          4,
          6,
          7,
          4,
          6,
          13,
          12,
          6,
          12,
          8,
          12,
          7,
          9
         ]
        }
       ],
       "layout": {
        "legend": {
         "tracegroupgap": 0
        },
        "margin": {
         "b": 0,
         "l": 0,
         "r": 0,
         "t": 0
        },
        "sunburstcolorway": [
         "rgb(102, 197, 204)",
         "rgb(246, 207, 113)",
         "rgb(248, 156, 116)",
         "rgb(220, 176, 242)",
         "rgb(135, 197, 95)",
         "rgb(158, 185, 243)",
         "rgb(254, 136, 177)",
         "rgb(201, 219, 116)",
         "rgb(139, 224, 164)",
         "rgb(180, 151, 231)",
         "rgb(179, 179, 179)"
        ],
        "template": {
         "data": {
          "bar": [
           {
            "error_x": {
             "color": "#2a3f5f"
            },
            "error_y": {
             "color": "#2a3f5f"
            },
            "marker": {
             "line": {
              "color": "#E5ECF6",
              "width": 0.5
             }
            },
            "type": "bar"
           }
          ],
          "barpolar": [
           {
            "marker": {
             "line": {
              "color": "#E5ECF6",
              "width": 0.5
             }
            },
            "type": "barpolar"
           }
          ],
          "carpet": [
           {
            "aaxis": {
             "endlinecolor": "#2a3f5f",
             "gridcolor": "white",
             "linecolor": "white",
             "minorgridcolor": "white",
             "startlinecolor": "#2a3f5f"
            },
            "baxis": {
             "endlinecolor": "#2a3f5f",
             "gridcolor": "white",
             "linecolor": "white",
             "minorgridcolor": "white",
             "startlinecolor": "#2a3f5f"
            },
            "type": "carpet"
           }
          ],
          "choropleth": [
           {
            "colorbar": {
             "outlinewidth": 0,
             "ticks": ""
            },
            "type": "choropleth"
           }
          ],
          "contour": [
           {
            "colorbar": {
             "outlinewidth": 0,
             "ticks": ""
            },
            "colorscale": [
             [
              0,
              "#0d0887"
             ],
             [
              0.1111111111111111,
              "#46039f"
             ],
             [
              0.2222222222222222,
              "#7201a8"
             ],
             [
              0.3333333333333333,
              "#9c179e"
             ],
             [
              0.4444444444444444,
              "#bd3786"
             ],
             [
              0.5555555555555556,
              "#d8576b"
             ],
             [
              0.6666666666666666,
              "#ed7953"
             ],
             [
              0.7777777777777778,
              "#fb9f3a"
             ],
             [
              0.8888888888888888,
              "#fdca26"
             ],
             [
              1,
              "#f0f921"
             ]
            ],
            "type": "contour"
           }
          ],
          "contourcarpet": [
           {
            "colorbar": {
             "outlinewidth": 0,
             "ticks": ""
            },
            "type": "contourcarpet"
           }
          ],
          "heatmap": [
           {
            "colorbar": {
             "outlinewidth": 0,
             "ticks": ""
            },
            "colorscale": [
             [
              0,
              "#0d0887"
             ],
             [
              0.1111111111111111,
              "#46039f"
             ],
             [
              0.2222222222222222,
              "#7201a8"
             ],
             [
              0.3333333333333333,
              "#9c179e"
             ],
             [
              0.4444444444444444,
              "#bd3786"
             ],
             [
              0.5555555555555556,
              "#d8576b"
             ],
             [
              0.6666666666666666,
              "#ed7953"
             ],
             [
              0.7777777777777778,
              "#fb9f3a"
             ],
             [
              0.8888888888888888,
              "#fdca26"
             ],
             [
              1,
              "#f0f921"
             ]
            ],
            "type": "heatmap"
           }
          ],
          "heatmapgl": [
           {
            "colorbar": {
             "outlinewidth": 0,
             "ticks": ""
            },
            "colorscale": [
             [
              0,
              "#0d0887"
             ],
             [
              0.1111111111111111,
              "#46039f"
             ],
             [
              0.2222222222222222,
              "#7201a8"
             ],
             [
              0.3333333333333333,
              "#9c179e"
             ],
             [
              0.4444444444444444,
              "#bd3786"
             ],
             [
              0.5555555555555556,
              "#d8576b"
             ],
             [
              0.6666666666666666,
              "#ed7953"
             ],
             [
              0.7777777777777778,
              "#fb9f3a"
             ],
             [
              0.8888888888888888,
              "#fdca26"
             ],
             [
              1,
              "#f0f921"
             ]
            ],
            "type": "heatmapgl"
           }
          ],
          "histogram": [
           {
            "marker": {
             "colorbar": {
              "outlinewidth": 0,
              "ticks": ""
             }
            },
            "type": "histogram"
           }
          ],
          "histogram2d": [
           {
            "colorbar": {
             "outlinewidth": 0,
             "ticks": ""
            },
            "colorscale": [
             [
              0,
              "#0d0887"
             ],
             [
              0.1111111111111111,
              "#46039f"
             ],
             [
              0.2222222222222222,
              "#7201a8"
             ],
             [
              0.3333333333333333,
              "#9c179e"
             ],
             [
              0.4444444444444444,
              "#bd3786"
             ],
             [
              0.5555555555555556,
              "#d8576b"
             ],
             [
              0.6666666666666666,
              "#ed7953"
             ],
             [
              0.7777777777777778,
              "#fb9f3a"
             ],
             [
              0.8888888888888888,
              "#fdca26"
             ],
             [
              1,
              "#f0f921"
             ]
            ],
            "type": "histogram2d"
           }
          ],
          "histogram2dcontour": [
           {
            "colorbar": {
             "outlinewidth": 0,
             "ticks": ""
            },
            "colorscale": [
             [
              0,
              "#0d0887"
             ],
             [
              0.1111111111111111,
              "#46039f"
             ],
             [
              0.2222222222222222,
              "#7201a8"
             ],
             [
              0.3333333333333333,
              "#9c179e"
             ],
             [
              0.4444444444444444,
              "#bd3786"
             ],
             [
              0.5555555555555556,
              "#d8576b"
             ],
             [
              0.6666666666666666,
              "#ed7953"
             ],
             [
              0.7777777777777778,
              "#fb9f3a"
             ],
             [
              0.8888888888888888,
              "#fdca26"
             ],
             [
              1,
              "#f0f921"
             ]
            ],
            "type": "histogram2dcontour"
           }
          ],
          "mesh3d": [
           {
            "colorbar": {
             "outlinewidth": 0,
             "ticks": ""
            },
            "type": "mesh3d"
           }
          ],
          "parcoords": [
           {
            "line": {
             "colorbar": {
              "outlinewidth": 0,
              "ticks": ""
             }
            },
            "type": "parcoords"
           }
          ],
          "pie": [
           {
            "automargin": true,
            "type": "pie"
           }
          ],
          "scatter": [
           {
            "marker": {
             "colorbar": {
              "outlinewidth": 0,
              "ticks": ""
             }
            },
            "type": "scatter"
           }
          ],
          "scatter3d": [
           {
            "line": {
             "colorbar": {
              "outlinewidth": 0,
              "ticks": ""
             }
            },
            "marker": {
             "colorbar": {
              "outlinewidth": 0,
              "ticks": ""
             }
            },
            "type": "scatter3d"
           }
          ],
          "scattercarpet": [
           {
            "marker": {
             "colorbar": {
              "outlinewidth": 0,
              "ticks": ""
             }
            },
            "type": "scattercarpet"
           }
          ],
          "scattergeo": [
           {
            "marker": {
             "colorbar": {
              "outlinewidth": 0,
              "ticks": ""
             }
            },
            "type": "scattergeo"
           }
          ],
          "scattergl": [
           {
            "marker": {
             "colorbar": {
              "outlinewidth": 0,
              "ticks": ""
             }
            },
            "type": "scattergl"
           }
          ],
          "scattermapbox": [
           {
            "marker": {
             "colorbar": {
              "outlinewidth": 0,
              "ticks": ""
             }
            },
            "type": "scattermapbox"
           }
          ],
          "scatterpolar": [
           {
            "marker": {
             "colorbar": {
              "outlinewidth": 0,
              "ticks": ""
             }
            },
            "type": "scatterpolar"
           }
          ],
          "scatterpolargl": [
           {
            "marker": {
             "colorbar": {
              "outlinewidth": 0,
              "ticks": ""
             }
            },
            "type": "scatterpolargl"
           }
          ],
          "scatterternary": [
           {
            "marker": {
             "colorbar": {
              "outlinewidth": 0,
              "ticks": ""
             }
            },
            "type": "scatterternary"
           }
          ],
          "surface": [
           {
            "colorbar": {
             "outlinewidth": 0,
             "ticks": ""
            },
            "colorscale": [
             [
              0,
              "#0d0887"
             ],
             [
              0.1111111111111111,
              "#46039f"
             ],
             [
              0.2222222222222222,
              "#7201a8"
             ],
             [
              0.3333333333333333,
              "#9c179e"
             ],
             [
              0.4444444444444444,
              "#bd3786"
             ],
             [
              0.5555555555555556,
              "#d8576b"
             ],
             [
              0.6666666666666666,
              "#ed7953"
             ],
             [
              0.7777777777777778,
              "#fb9f3a"
             ],
             [
              0.8888888888888888,
              "#fdca26"
             ],
             [
              1,
              "#f0f921"
             ]
            ],
            "type": "surface"
           }
          ],
          "table": [
           {
            "cells": {
             "fill": {
              "color": "#EBF0F8"
             },
             "line": {
              "color": "white"
             }
            },
            "header": {
             "fill": {
              "color": "#C8D4E3"
             },
             "line": {
              "color": "white"
             }
            },
            "type": "table"
           }
          ]
         },
         "layout": {
          "annotationdefaults": {
           "arrowcolor": "#2a3f5f",
           "arrowhead": 0,
           "arrowwidth": 1
          },
          "autotypenumbers": "strict",
          "coloraxis": {
           "colorbar": {
            "outlinewidth": 0,
            "ticks": ""
           }
          },
          "colorscale": {
           "diverging": [
            [
             0,
             "#8e0152"
            ],
            [
             0.1,
             "#c51b7d"
            ],
            [
             0.2,
             "#de77ae"
            ],
            [
             0.3,
             "#f1b6da"
            ],
            [
             0.4,
             "#fde0ef"
            ],
            [
             0.5,
             "#f7f7f7"
            ],
            [
             0.6,
             "#e6f5d0"
            ],
            [
             0.7,
             "#b8e186"
            ],
            [
             0.8,
             "#7fbc41"
            ],
            [
             0.9,
             "#4d9221"
            ],
            [
             1,
             "#276419"
            ]
           ],
           "sequential": [
            [
             0,
             "#0d0887"
            ],
            [
             0.1111111111111111,
             "#46039f"
            ],
            [
             0.2222222222222222,
             "#7201a8"
            ],
            [
             0.3333333333333333,
             "#9c179e"
            ],
            [
             0.4444444444444444,
             "#bd3786"
            ],
            [
             0.5555555555555556,
             "#d8576b"
            ],
            [
             0.6666666666666666,
             "#ed7953"
            ],
            [
             0.7777777777777778,
             "#fb9f3a"
            ],
            [
             0.8888888888888888,
             "#fdca26"
            ],
            [
             1,
             "#f0f921"
            ]
           ],
           "sequentialminus": [
            [
             0,
             "#0d0887"
            ],
            [
             0.1111111111111111,
             "#46039f"
            ],
            [
             0.2222222222222222,
             "#7201a8"
            ],
            [
             0.3333333333333333,
             "#9c179e"
            ],
            [
             0.4444444444444444,
             "#bd3786"
            ],
            [
             0.5555555555555556,
             "#d8576b"
            ],
            [
             0.6666666666666666,
             "#ed7953"
            ],
            [
             0.7777777777777778,
             "#fb9f3a"
            ],
            [
             0.8888888888888888,
             "#fdca26"
            ],
            [
             1,
             "#f0f921"
            ]
           ]
          },
          "colorway": [
           "#636efa",
           "#EF553B",
           "#00cc96",
           "#ab63fa",
           "#FFA15A",
           "#19d3f3",
           "#FF6692",
           "#B6E880",
           "#FF97FF",
           "#FECB52"
          ],
          "font": {
           "color": "#2a3f5f"
          },
          "geo": {
           "bgcolor": "white",
           "lakecolor": "white",
           "landcolor": "#E5ECF6",
           "showlakes": true,
           "showland": true,
           "subunitcolor": "white"
          },
          "hoverlabel": {
           "align": "left"
          },
          "hovermode": "closest",
          "mapbox": {
           "style": "light"
          },
          "paper_bgcolor": "white",
          "plot_bgcolor": "#E5ECF6",
          "polar": {
           "angularaxis": {
            "gridcolor": "white",
            "linecolor": "white",
            "ticks": ""
           },
           "bgcolor": "#E5ECF6",
           "radialaxis": {
            "gridcolor": "white",
            "linecolor": "white",
            "ticks": ""
           }
          },
          "scene": {
           "xaxis": {
            "backgroundcolor": "#E5ECF6",
            "gridcolor": "white",
            "gridwidth": 2,
            "linecolor": "white",
            "showbackground": true,
            "ticks": "",
            "zerolinecolor": "white"
           },
           "yaxis": {
            "backgroundcolor": "#E5ECF6",
            "gridcolor": "white",
            "gridwidth": 2,
            "linecolor": "white",
            "showbackground": true,
            "ticks": "",
            "zerolinecolor": "white"
           },
           "zaxis": {
            "backgroundcolor": "#E5ECF6",
            "gridcolor": "white",
            "gridwidth": 2,
            "linecolor": "white",
            "showbackground": true,
            "ticks": "",
            "zerolinecolor": "white"
           }
          },
          "shapedefaults": {
           "line": {
            "color": "#2a3f5f"
           }
          },
          "ternary": {
           "aaxis": {
            "gridcolor": "white",
            "linecolor": "white",
            "ticks": ""
           },
           "baxis": {
            "gridcolor": "white",
            "linecolor": "white",
            "ticks": ""
           },
           "bgcolor": "#E5ECF6",
           "caxis": {
            "gridcolor": "white",
            "linecolor": "white",
            "ticks": ""
           }
          },
          "title": {
           "x": 0.05
          },
          "xaxis": {
           "automargin": true,
           "gridcolor": "white",
           "linecolor": "white",
           "ticks": "",
           "title": {
            "standoff": 15
           },
           "zerolinecolor": "white",
           "zerolinewidth": 2
          },
          "yaxis": {
           "automargin": true,
           "gridcolor": "white",
           "linecolor": "white",
           "ticks": "",
           "title": {
            "standoff": 15
           },
           "zerolinecolor": "white",
           "zerolinewidth": 2
          }
         }
        }
       }
      },
      "text/html": [
       "<div>                            <div id=\"6a24d7da-cd75-466d-b5c8-a18d2ab9c93d\" class=\"plotly-graph-div\" style=\"height:525px; width:100%;\"></div>            <script type=\"text/javascript\">                require([\"plotly\"], function(Plotly) {                    window.PLOTLYENV=window.PLOTLYENV || {};                                    if (document.getElementById(\"6a24d7da-cd75-466d-b5c8-a18d2ab9c93d\")) {                    Plotly.newPlot(                        \"6a24d7da-cd75-466d-b5c8-a18d2ab9c93d\",                        [{\"branchvalues\": \"total\", \"customdata\": [[\"Hybrid Beer\"], [\"Pilsener & Pale Lager\"], [\"Pilsener & Pale Lager\"], [\"Porter\"], [\"Dark Ale\"], [\"Dark Ale\"], [\"Strong Ale\"], [\"Strong Ale\"], [\"Strong Ale\"], [\"Pilsener & Pale Lager\"], [\"Dark Ale\"], [\"Bock\"], [\"Pilsener & Pale Lager\"], [\"Wheat Beer\"], [\"Strong Ale\"], [\"Dark Lager\"], [\"Pilsener & Pale Lager\"], [\"Dark Lager\"], [\"Pilsener & Pale Lager\"], [\"Pilsener & Pale Lager\"], [\"Pilsener & Pale Lager\"], [\"Pilsener & Pale Lager\"], [\"Specialty Beer\"], [\"Dark Lager\"], [\"Pilsener & Pale Lager\"], [\"Pilsener & Pale Lager\"], [\"Specialty Beer\"], [\"Wild / Sour Beer\"], [\"Dark Lager\"], [\"Dark Lager\"], [\"Pale Ale\"], [\"Pale Ale\"], [\"Porter\"], [\"Brown Ale\"], [\"Brown Ale\"], [\"Pale Ale\"], [\"Specialty Beer\"], [\"Hybrid Beer\"], [\"Pilsener & Pale Lager\"], [\"Stout\"], [\"Pale Ale\"], [\"Pale Ale\"], [\"Hybrid Beer\"], [\"Brown Ale\"], [\"Porter\"], [\"Specialty Beer\"], [\"Dark Lager\"], [\"Dark Ale\"], [\"Stout\"], [\"Stout\"], [\"Dark Lager\"], [\"Porter\"], [\"Pale Ale\"], [\"Pale Ale\"], [\"Stout\"], [\"Stout\"], [\"India Pale Ale\"], [\"Specialty Beer\"], [\"Porter\"], [\"India Pale Ale\"], [\"Specialty Beer\"], [\"Pale Ale\"], [\"Stout\"], [\"Bock\"], [\"Stout\"], [\"Strong Ale\"], [\"Strong Ale\"], [\"Strong Ale\"], [\"Strong Ale\"], [\"Specialty Beer\"], [\"Stout\"], [\"Strong Ale\"], [\"Porter\"], [\"Specialty Beer\"], [\"Strong Ale\"], [\"Strong Ale\"], [\"India Pale Ale\"], [\"India Pale Ale\"], [\"India Pale Ale\"], [\"Dark Ale\"], [\"Pale Ale\"], [\"Brown Ale\"], [\"Wild / Sour Beer\"], [\"Hybrid Beer\"], [\"Wheat Beer\"], [\"Pale Ale\"], [\"Pale Ale\"], [\"Wild / Sour Beer\"], [\"Wild / Sour Beer\"], [\"Wild / Sour Beer\"], [\"Wild / Sour Beer\"], [\"Wild / Sour Beer\"], [\"Pale Ale\"], [\"Wild / Sour Beer\"], [\"India Pale Ale\"], [\"Specialty Beer\"], [\"Bock\"], [\"Bock\"], [\"Bock\"], [\"Pale Ale\"], [\"Wild / Sour Beer\"], [\"Specialty Beer\"], [\"Wheat Beer\"], [\"Specialty Beer\"], [\"Strong Ale\"], [\"Dark Ale\"], [\"Specialty Beer\"], [\"Wheat Beer\"], [\"Wheat Beer\"], [\"Wheat Beer\"], [\"Wheat Beer\"], [\"Pilsener & Pale Lager\"], [\"Pale Ale\"], [\"Dark Lager\"], [\"Strong Ale\"], [\"Dark Ale\"], [\"Pale Ale\"], [\"Wild / Sour Beer\"], [\"Brown Ale\"], [\"India Pale Ale\"], [\"Hybrid Beer\"], [\"Wheat Beer\"], [\"India Pale Ale\"], [\"India Pale Ale\"], [\"Pilsener & Pale Lager\"], [\"Porter\"], [\"Stout\"], [\"Strong Ale\"], [\"Pilsener & Pale Lager\"], [\"Pilsener & Pale Lager\"], [\"Pilsener & Pale Lager\"], [\"Pale Ale\"], [\"Wheat Beer\"], [\"Porter\"], [\"Stout\"], [\"Strong Ale\"], [\"Strong Ale\"], [\"Wild / Sour Beer\"], [\"Porter\"], [\"Pale Ale\"], [\"Dark Ale\"], [\"Dark Ale\"], [\"Wild / Sour Beer\"], [\"Wild / Sour Beer\"], [\"Wild / Sour Beer\"], [\"India Pale Ale\"], [\"Wild / Sour Beer\"], [\"Pale Ale\"], [\"Strong Ale\"], [\"Pale Ale\"], [\"Strong Ale\"], [\"Strong Ale\"], [\"Strong Ale\"], [\"Wheat Beer\"], [\"Wheat Beer\"], [\"Hybrid Beer\"], [\"Pilsener & Pale Lager\"], [\"Hybrid Beer\"], [\"Hybrid Beer\"], [\"Specialty Beer\"], [\"Strong Ale\"], [\"Pale Ale\"], [\"Brown Ale\"], [\"Brown Ale\"], [\"Pale Ale\"], [\"India Pale Ale\"], [\"Stout\"], [\"Strong Ale\"], [\"Pale Ale\"], [\"Pale Ale\"], [\"Porter\"], [\"Stout\"], [\"Strong Ale\"], [\"Stout\"], [\"Dark Lager\"], [\"Pilsener & Pale Lager\"], [\"Pilsener & Pale Lager\"], [\"Pilsener & Pale Lager\"], [\"Specialty Beer\"], [\"Wild / Sour Beer\"], [\"Wild / Sour Beer\"], [\"Stout\"], [\"Pale Ale\"], [\"Specialty Beer\"], [\"Brown Ale\"], [\"Bock\"], [\"Bock\"], [\"Wheat Beer\"], [\"Bock\"], [\"Wheat Beer\"], [\"Pilsener & Pale Lager\"], [\"Pilsener & Pale Lager\"], [\"Pale Ale\"], [\"Wheat Beer\"], [\"Bock\"], [\"Dark Lager\"], [\"Pilsener & Pale Lager\"], [\"Dark Lager\"], [\"Dark Ale\"], [\"Dark Lager\"], [\"Bock\"], [\"Specialty Beer\"], [\"Stout\"], [\"Pale Ale\"], [\"Specialty Beer\"], [\"Specialty Beer\"], [\"Wild / Sour Beer\"], [\"Specialty Beer\"], [\"Dark Lager\"], [\"India Pale Ale\"], [\"Specialty Beer\"], [\"Porter\"], [\"Stout\"], [\"Specialty Beer\"], [\"Specialty Beer\"], [\"Strong Ale\"], [\"Dark Ale\"], [\"Specialty Beer\"], [\"Specialty Beer\"], [\"Porter\"], [\"Dark Lager\"], [\"Dark Ale\"], [\"Bock\"], [\"Brown Ale\"], [\"Dark Ale\"], [\"Dark Lager\"], [\"Hybrid Beer\"], [\"India Pale Ale\"], [\"Pale Ale\"], [\"Pilsener & Pale Lager\"], [\"Porter\"], [\"Specialty Beer\"], [\"Stout\"], [\"Strong Ale\"], [\"Wheat Beer\"], [\"Wild / Sour Beer\"]], \"domain\": {\"x\": [0.0, 1.0], \"y\": [0.0, 1.0]}, \"hovertemplate\": \"labels=%{label}<br>count=%{value}<br>parent=%{parent}<br>id=%{id}<br>Category=%{customdata[0]}<extra></extra>\", \"ids\": [\"Hybrid Beer/Biere de Champagne / Biere Brut/Flute\", \"Pilsener & Pale Lager/German Helles/Flute\", \"Pilsener & Pale Lager/German Pilsner/Flute\", \"Porter/American Imperial Porter/Goblet\", \"Dark Ale/Belgian Dark Ale/Goblet\", \"Dark Ale/Belgian Dubble/Goblet\", \"Strong Ale/Belgian Quadrupel /Goblet\", \"Strong Ale/Belgian Strong Dark Ale/Goblet\", \"Strong Ale/Belgian Strong Pale Ale/Goblet\", \"Pilsener & Pale Lager/German Kellerbier / Zwickelbier/Mug\", \"Dark Ale/Winter Warmer/Goblet\", \"Bock/German Maibock/Goblet\", \"Pilsener & Pale Lager/European Strong Lager/Goblet\", \"Wheat Beer/Berliner Weisse/Goblet\", \"Strong Ale/Belgian Tripel /Goblet\", \"Dark Lager/German Marzen / Oktoberfest/Mug\", \"Pilsener & Pale Lager/American Adjunt Lager/Pilsener Glass\", \"Dark Lager/American Amber / Red Lager/Pilsener Glass\", \"Pilsener & Pale Lager/American Imperial Pilsner/Pilsener Glass\", \"Pilsener & Pale Lager/American Lager/Pilsener Glass\", \"Pilsener & Pale Lager/American Light Lager/Pilsener Glass\", \"Pilsener & Pale Lager/Bohemian Pilsener/Pilsener Glass\", \"Specialty Beer/Japanese Happoshu/Pilsener Glass\", \"Dark Lager/German Schwarzbier/Pilsener Glass\", \"Pilsener & Pale Lager/European Export / Dortmunder/Pilsener Glass\", \"Pilsener & Pale Lager/European Pale Lager/Pilsener Glass\", \"Specialty Beer/Japanese Rice Lager/Pilsener Glass\", \"Wild / Sour Beer/Leipzig Gose/Pilsener Glass\", \"Dark Lager/Munich Dunkel Lager/Pilsener Glass\", \"Dark Lager/Vienna Lager/Pilsener Glass\", \"Pale Ale/American Amber / Red Ale/Pint Glass\", \"Pale Ale/American Blonde Ale/Pint Glass\", \"Porter/American Porter/Pint Glass\", \"Brown Ale/English Dark Mild Ale/Pint Glass\", \"Brown Ale/English Brown Ale/Pint Glass\", \"Pale Ale/English Bitter/Pint Glass\", \"Specialty Beer/Chile Beer/Pint Glass\", \"Hybrid Beer/California Common / Steam Beer/Pint Glass\", \"Pilsener & Pale Lager/American Malt Lager /Pint Glass\", \"Stout/American Stout/Pint Glass\", \"Pale Ale/American Pale Ale/Pint Glass\", \"Pale Ale/English Extra Special /Pint Glass\", \"Hybrid Beer/American Cream Ale/Pint Glass\", \"Brown Ale/American Brown Ale/Pint Glass\", \"Porter/Baltic Porter/Pint Glass\", \"Specialty Beer/Finnish Sahti/Pint Glass\", \"Dark Lager/European Dark Lager/Pint Glass\", \"Dark Ale/German Roggenbier/Pint Glass\", \"Stout/Foreign / Export Stout/Pint Glass\", \"Stout/English Sweet / Milk Stout/Pint Glass\", \"Dark Lager/German Rauchbier/Pint Glass\", \"Porter/English Porter/Pint Glass\", \"Pale Ale/English Pale Mild Ale/Pint Glass\", \"Pale Ale/English Pale Ale/Pint Glass\", \"Stout/English Oatmeal Stout/Pint Glass\", \"Stout/English Stout/Pint Glass\", \"India Pale Ale/English India Pale Ale/Pint Glass\", \"Specialty Beer/Russian Kvass/Pint Glass\", \"Porter/Robust Porter/Pint Glass\", \"India Pale Ale/New England IPA/Pint Glass\", \"Specialty Beer/Low Alcohol Beer/Pint Glass\", \"Pale Ale/Irish Red Ale/Pint Glass\", \"Stout/Irish Dry Stout/Pint Glass\", \"Bock/German Eisbock/Snifter\", \"Stout/Russian Imperial Stout/Snifter\", \"Strong Ale/English Strong Ale/Snifter\", \"Strong Ale/English Old Ale/Snifter\", \"Strong Ale/English Barleywine/Snifter\", \"Strong Ale/American Wheatwine Ale/Snifter\", \"Specialty Beer/Smoke Beer/Pint Glass\", \"Stout/American Imperial Stout/Snifter\", \"Strong Ale/American Barleywine/Snifter\", \"Porter/Smoke Porter/Pint Glass\", \"Specialty Beer/Rye Beer/Pint Glass\", \"Strong Ale/American Strong Ale/Snifter\", \"Strong Ale/American Imperian Red Ale/Tulip\", \"India Pale Ale/American Imperial IPA/Tulip\", \"India Pale Ale/American Brut IPA/Tulip\", \"India Pale Ale/American IPA/Tulip\", \"Dark Ale/American Black Ale/Tulip\", \"Pale Ale/German Kolsch/Stange\", \"Brown Ale/German Altbier/Stange\", \"Wild / Sour Beer/American Brett/Tulip\", \"Hybrid Beer/Braggot/Tulip\", \"Wheat Beer/Belgian Witbier /Tulip\", \"Pale Ale/Belgian Saison/Tulip\", \"Pale Ale/Belgian Pale Ale/Tulip\", \"Wild / Sour Beer/Belgian Lambic/Tulip\", \"Wild / Sour Beer/Flanders Oud Bruin /Tulip\", \"Wild / Sour Beer/Belgian Gueuze/Tulip\", \"Wild / Sour Beer/Belgian Fruit Lambic/Tulip\", \"Wild / Sour Beer/Belgian Faro/Tulip\", \"Pale Ale/Belgian Blonde Ale/Tulip\", \"Wild / Sour Beer/American Wild Ale/Tulip\", \"India Pale Ale/Belgian IPA/Tulip\", \"Specialty Beer/Herb and Spice Beer/Tulip\", \"Bock/German Weizenbock/Tulip\", \"Bock/German Bock/Tulip\", \"Bock/German Doppelbock/Tulip\", \"Pale Ale/French Biere de Garde/Tulip\", \"Wild / Sour Beer/Flanders Red Ale/Tulip\", \"Specialty Beer/Fruit and Field Beer/Tulip\", \"Wheat Beer/German Hefeweizen/Weizen Glass\", \"Specialty Beer/Pumpkin Beer/Tulip\", \"Strong Ale/Scotch Ale / Wee Heavy/Tulip\", \"Dark Ale/Scottish Ale/Tulip\", \"Specialty Beer/Scottish Gruit / Ancient Herbed Ale/Tulip\", \"Wheat Beer/American Dark Wheat Ale/Weizen Glass\", \"Wheat Beer/American Pale Wheat Ale/Weizen Glass\", \"Wheat Beer/German Dunkelweizen /Weizen Glass\", \"Wheat Beer/German Kristalweizen/Weizen Glass\", \"Pilsener & Pale Lager/American Adjunt Lager\", \"Pale Ale/American Amber / Red Ale\", \"Dark Lager/American Amber / Red Lager\", \"Strong Ale/American Barleywine\", \"Dark Ale/American Black Ale\", \"Pale Ale/American Blonde Ale\", \"Wild / Sour Beer/American Brett\", \"Brown Ale/American Brown Ale\", \"India Pale Ale/American Brut IPA\", \"Hybrid Beer/American Cream Ale\", \"Wheat Beer/American Dark Wheat Ale\", \"India Pale Ale/American IPA\", \"India Pale Ale/American Imperial IPA\", \"Pilsener & Pale Lager/American Imperial Pilsner\", \"Porter/American Imperial Porter\", \"Stout/American Imperial Stout\", \"Strong Ale/American Imperian Red Ale\", \"Pilsener & Pale Lager/American Lager\", \"Pilsener & Pale Lager/American Light Lager\", \"Pilsener & Pale Lager/American Malt Lager \", \"Pale Ale/American Pale Ale\", \"Wheat Beer/American Pale Wheat Ale\", \"Porter/American Porter\", \"Stout/American Stout\", \"Strong Ale/American Strong Ale\", \"Strong Ale/American Wheatwine Ale\", \"Wild / Sour Beer/American Wild Ale\", \"Porter/Baltic Porter\", \"Pale Ale/Belgian Blonde Ale\", \"Dark Ale/Belgian Dark Ale\", \"Dark Ale/Belgian Dubble\", \"Wild / Sour Beer/Belgian Faro\", \"Wild / Sour Beer/Belgian Fruit Lambic\", \"Wild / Sour Beer/Belgian Gueuze\", \"India Pale Ale/Belgian IPA\", \"Wild / Sour Beer/Belgian Lambic\", \"Pale Ale/Belgian Pale Ale\", \"Strong Ale/Belgian Quadrupel \", \"Pale Ale/Belgian Saison\", \"Strong Ale/Belgian Strong Dark Ale\", \"Strong Ale/Belgian Strong Pale Ale\", \"Strong Ale/Belgian Tripel \", \"Wheat Beer/Belgian Witbier \", \"Wheat Beer/Berliner Weisse\", \"Hybrid Beer/Biere de Champagne / Biere Brut\", \"Pilsener & Pale Lager/Bohemian Pilsener\", \"Hybrid Beer/Braggot\", \"Hybrid Beer/California Common / Steam Beer\", \"Specialty Beer/Chile Beer\", \"Strong Ale/English Barleywine\", \"Pale Ale/English Bitter\", \"Brown Ale/English Brown Ale\", \"Brown Ale/English Dark Mild Ale\", \"Pale Ale/English Extra Special \", \"India Pale Ale/English India Pale Ale\", \"Stout/English Oatmeal Stout\", \"Strong Ale/English Old Ale\", \"Pale Ale/English Pale Ale\", \"Pale Ale/English Pale Mild Ale\", \"Porter/English Porter\", \"Stout/English Stout\", \"Strong Ale/English Strong Ale\", \"Stout/English Sweet / Milk Stout\", \"Dark Lager/European Dark Lager\", \"Pilsener & Pale Lager/European Export / Dortmunder\", \"Pilsener & Pale Lager/European Pale Lager\", \"Pilsener & Pale Lager/European Strong Lager\", \"Specialty Beer/Finnish Sahti\", \"Wild / Sour Beer/Flanders Oud Bruin \", \"Wild / Sour Beer/Flanders Red Ale\", \"Stout/Foreign / Export Stout\", \"Pale Ale/French Biere de Garde\", \"Specialty Beer/Fruit and Field Beer\", \"Brown Ale/German Altbier\", \"Bock/German Bock\", \"Bock/German Doppelbock\", \"Wheat Beer/German Dunkelweizen \", \"Bock/German Eisbock\", \"Wheat Beer/German Hefeweizen\", \"Pilsener & Pale Lager/German Helles\", \"Pilsener & Pale Lager/German Kellerbier / Zwickelbier\", \"Pale Ale/German Kolsch\", \"Wheat Beer/German Kristalweizen\", \"Bock/German Maibock\", \"Dark Lager/German Marzen / Oktoberfest\", \"Pilsener & Pale Lager/German Pilsner\", \"Dark Lager/German Rauchbier\", \"Dark Ale/German Roggenbier\", \"Dark Lager/German Schwarzbier\", \"Bock/German Weizenbock\", \"Specialty Beer/Herb and Spice Beer\", \"Stout/Irish Dry Stout\", \"Pale Ale/Irish Red Ale\", \"Specialty Beer/Japanese Happoshu\", \"Specialty Beer/Japanese Rice Lager\", \"Wild / Sour Beer/Leipzig Gose\", \"Specialty Beer/Low Alcohol Beer\", \"Dark Lager/Munich Dunkel Lager\", \"India Pale Ale/New England IPA\", \"Specialty Beer/Pumpkin Beer\", \"Porter/Robust Porter\", \"Stout/Russian Imperial Stout\", \"Specialty Beer/Russian Kvass\", \"Specialty Beer/Rye Beer\", \"Strong Ale/Scotch Ale / Wee Heavy\", \"Dark Ale/Scottish Ale\", \"Specialty Beer/Scottish Gruit / Ancient Herbed Ale\", \"Specialty Beer/Smoke Beer\", \"Porter/Smoke Porter\", \"Dark Lager/Vienna Lager\", \"Dark Ale/Winter Warmer\", \"Bock\", \"Brown Ale\", \"Dark Ale\", \"Dark Lager\", \"Hybrid Beer\", \"India Pale Ale\", \"Pale Ale\", \"Pilsener & Pale Lager\", \"Porter\", \"Specialty Beer\", \"Stout\", \"Strong Ale\", \"Wheat Beer\", \"Wild / Sour Beer\"], \"labels\": [\"Flute\", \"Flute\", \"Flute\", \"Goblet\", \"Goblet\", \"Goblet\", \"Goblet\", \"Goblet\", \"Goblet\", \"Mug\", \"Goblet\", \"Goblet\", \"Goblet\", \"Goblet\", \"Goblet\", \"Mug\", \"Pilsener Glass\", \"Pilsener Glass\", \"Pilsener Glass\", \"Pilsener Glass\", \"Pilsener Glass\", \"Pilsener Glass\", \"Pilsener Glass\", \"Pilsener Glass\", \"Pilsener Glass\", \"Pilsener Glass\", \"Pilsener Glass\", \"Pilsener Glass\", \"Pilsener Glass\", \"Pilsener Glass\", \"Pint Glass\", \"Pint Glass\", \"Pint Glass\", \"Pint Glass\", \"Pint Glass\", \"Pint Glass\", \"Pint Glass\", \"Pint Glass\", \"Pint Glass\", \"Pint Glass\", \"Pint Glass\", \"Pint Glass\", \"Pint Glass\", \"Pint Glass\", \"Pint Glass\", \"Pint Glass\", \"Pint Glass\", \"Pint Glass\", \"Pint Glass\", \"Pint Glass\", \"Pint Glass\", \"Pint Glass\", \"Pint Glass\", \"Pint Glass\", \"Pint Glass\", \"Pint Glass\", \"Pint Glass\", \"Pint Glass\", \"Pint Glass\", \"Pint Glass\", \"Pint Glass\", \"Pint Glass\", \"Pint Glass\", \"Snifter\", \"Snifter\", \"Snifter\", \"Snifter\", \"Snifter\", \"Snifter\", \"Pint Glass\", \"Snifter\", \"Snifter\", \"Pint Glass\", \"Pint Glass\", \"Snifter\", \"Tulip\", \"Tulip\", \"Tulip\", \"Tulip\", \"Tulip\", \"Stange\", \"Stange\", \"Tulip\", \"Tulip\", \"Tulip\", \"Tulip\", \"Tulip\", \"Tulip\", \"Tulip\", \"Tulip\", \"Tulip\", \"Tulip\", \"Tulip\", \"Tulip\", \"Tulip\", \"Tulip\", \"Tulip\", \"Tulip\", \"Tulip\", \"Tulip\", \"Tulip\", \"Tulip\", \"Weizen Glass\", \"Tulip\", \"Tulip\", \"Tulip\", \"Tulip\", \"Weizen Glass\", \"Weizen Glass\", \"Weizen Glass\", \"Weizen Glass\", \"American Adjunt Lager\", \"American Amber / Red Ale\", \"American Amber / Red Lager\", \"American Barleywine\", \"American Black Ale\", \"American Blonde Ale\", \"American Brett\", \"American Brown Ale\", \"American Brut IPA\", \"American Cream Ale\", \"American Dark Wheat Ale\", \"American IPA\", \"American Imperial IPA\", \"American Imperial Pilsner\", \"American Imperial Porter\", \"American Imperial Stout\", \"American Imperian Red Ale\", \"American Lager\", \"American Light Lager\", \"American Malt Lager \", \"American Pale Ale\", \"American Pale Wheat Ale\", \"American Porter\", \"American Stout\", \"American Strong Ale\", \"American Wheatwine Ale\", \"American Wild Ale\", \"Baltic Porter\", \"Belgian Blonde Ale\", \"Belgian Dark Ale\", \"Belgian Dubble\", \"Belgian Faro\", \"Belgian Fruit Lambic\", \"Belgian Gueuze\", \"Belgian IPA\", \"Belgian Lambic\", \"Belgian Pale Ale\", \"Belgian Quadrupel \", \"Belgian Saison\", \"Belgian Strong Dark Ale\", \"Belgian Strong Pale Ale\", \"Belgian Tripel \", \"Belgian Witbier \", \"Berliner Weisse\", \"Biere de Champagne / Biere Brut\", \"Bohemian Pilsener\", \"Braggot\", \"California Common / Steam Beer\", \"Chile Beer\", \"English Barleywine\", \"English Bitter\", \"English Brown Ale\", \"English Dark Mild Ale\", \"English Extra Special \", \"English India Pale Ale\", \"English Oatmeal Stout\", \"English Old Ale\", \"English Pale Ale\", \"English Pale Mild Ale\", \"English Porter\", \"English Stout\", \"English Strong Ale\", \"English Sweet / Milk Stout\", \"European Dark Lager\", \"European Export / Dortmunder\", \"European Pale Lager\", \"European Strong Lager\", \"Finnish Sahti\", \"Flanders Oud Bruin \", \"Flanders Red Ale\", \"Foreign / Export Stout\", \"French Biere de Garde\", \"Fruit and Field Beer\", \"German Altbier\", \"German Bock\", \"German Doppelbock\", \"German Dunkelweizen \", \"German Eisbock\", \"German Hefeweizen\", \"German Helles\", \"German Kellerbier / Zwickelbier\", \"German Kolsch\", \"German Kristalweizen\", \"German Maibock\", \"German Marzen / Oktoberfest\", \"German Pilsner\", \"German Rauchbier\", \"German Roggenbier\", \"German Schwarzbier\", \"German Weizenbock\", \"Herb and Spice Beer\", \"Irish Dry Stout\", \"Irish Red Ale\", \"Japanese Happoshu\", \"Japanese Rice Lager\", \"Leipzig Gose\", \"Low Alcohol Beer\", \"Munich Dunkel Lager\", \"New England IPA\", \"Pumpkin Beer\", \"Robust Porter\", \"Russian Imperial Stout\", \"Russian Kvass\", \"Rye Beer\", \"Scotch Ale / Wee Heavy\", \"Scottish Ale\", \"Scottish Gruit / Ancient Herbed Ale\", \"Smoke Beer\", \"Smoke Porter\", \"Vienna Lager\", \"Winter Warmer\", \"Bock\", \"Brown Ale\", \"Dark Ale\", \"Dark Lager\", \"Hybrid Beer\", \"India Pale Ale\", \"Pale Ale\", \"Pilsener & Pale Lager\", \"Porter\", \"Specialty Beer\", \"Stout\", \"Strong Ale\", \"Wheat Beer\", \"Wild / Sour Beer\"], \"marker\": {\"colors\": [\"rgb(102, 197, 204)\", \"rgb(246, 207, 113)\", \"rgb(246, 207, 113)\", \"rgb(248, 156, 116)\", \"rgb(220, 176, 242)\", \"rgb(220, 176, 242)\", \"rgb(135, 197, 95)\", \"rgb(135, 197, 95)\", \"rgb(135, 197, 95)\", \"rgb(246, 207, 113)\", \"rgb(220, 176, 242)\", \"rgb(158, 185, 243)\", \"rgb(246, 207, 113)\", \"rgb(254, 136, 177)\", \"rgb(135, 197, 95)\", \"rgb(201, 219, 116)\", \"rgb(246, 207, 113)\", \"rgb(201, 219, 116)\", \"rgb(246, 207, 113)\", \"rgb(246, 207, 113)\", \"rgb(246, 207, 113)\", \"rgb(246, 207, 113)\", \"rgb(139, 224, 164)\", \"rgb(201, 219, 116)\", \"rgb(246, 207, 113)\", \"rgb(246, 207, 113)\", \"rgb(139, 224, 164)\", \"rgb(180, 151, 231)\", \"rgb(201, 219, 116)\", \"rgb(201, 219, 116)\", \"rgb(179, 179, 179)\", \"rgb(179, 179, 179)\", \"rgb(248, 156, 116)\", \"rgb(102, 197, 204)\", \"rgb(102, 197, 204)\", \"rgb(179, 179, 179)\", \"rgb(139, 224, 164)\", \"rgb(102, 197, 204)\", \"rgb(246, 207, 113)\", \"rgb(246, 207, 113)\", \"rgb(179, 179, 179)\", \"rgb(179, 179, 179)\", \"rgb(102, 197, 204)\", \"rgb(102, 197, 204)\", \"rgb(248, 156, 116)\", \"rgb(139, 224, 164)\", \"rgb(201, 219, 116)\", \"rgb(220, 176, 242)\", \"rgb(246, 207, 113)\", \"rgb(246, 207, 113)\", \"rgb(201, 219, 116)\", \"rgb(248, 156, 116)\", \"rgb(179, 179, 179)\", \"rgb(179, 179, 179)\", \"rgb(246, 207, 113)\", \"rgb(246, 207, 113)\", \"rgb(248, 156, 116)\", \"rgb(139, 224, 164)\", \"rgb(248, 156, 116)\", \"rgb(248, 156, 116)\", \"rgb(139, 224, 164)\", \"rgb(179, 179, 179)\", \"rgb(246, 207, 113)\", \"rgb(158, 185, 243)\", \"rgb(246, 207, 113)\", \"rgb(135, 197, 95)\", \"rgb(135, 197, 95)\", \"rgb(135, 197, 95)\", \"rgb(135, 197, 95)\", \"rgb(139, 224, 164)\", \"rgb(246, 207, 113)\", \"rgb(135, 197, 95)\", \"rgb(248, 156, 116)\", \"rgb(139, 224, 164)\", \"rgb(135, 197, 95)\", \"rgb(135, 197, 95)\", \"rgb(248, 156, 116)\", \"rgb(248, 156, 116)\", \"rgb(248, 156, 116)\", \"rgb(220, 176, 242)\", \"rgb(179, 179, 179)\", \"rgb(102, 197, 204)\", \"rgb(180, 151, 231)\", \"rgb(102, 197, 204)\", \"rgb(254, 136, 177)\", \"rgb(179, 179, 179)\", \"rgb(179, 179, 179)\", \"rgb(180, 151, 231)\", \"rgb(180, 151, 231)\", \"rgb(180, 151, 231)\", \"rgb(180, 151, 231)\", \"rgb(180, 151, 231)\", \"rgb(179, 179, 179)\", \"rgb(180, 151, 231)\", \"rgb(248, 156, 116)\", \"rgb(139, 224, 164)\", \"rgb(158, 185, 243)\", \"rgb(158, 185, 243)\", \"rgb(158, 185, 243)\", \"rgb(179, 179, 179)\", \"rgb(180, 151, 231)\", \"rgb(139, 224, 164)\", \"rgb(254, 136, 177)\", \"rgb(139, 224, 164)\", \"rgb(135, 197, 95)\", \"rgb(220, 176, 242)\", \"rgb(139, 224, 164)\", \"rgb(254, 136, 177)\", \"rgb(254, 136, 177)\", \"rgb(254, 136, 177)\", \"rgb(254, 136, 177)\", \"rgb(246, 207, 113)\", \"rgb(179, 179, 179)\", \"rgb(201, 219, 116)\", \"rgb(135, 197, 95)\", \"rgb(220, 176, 242)\", \"rgb(179, 179, 179)\", \"rgb(180, 151, 231)\", \"rgb(102, 197, 204)\", \"rgb(248, 156, 116)\", \"rgb(102, 197, 204)\", \"rgb(254, 136, 177)\", \"rgb(248, 156, 116)\", \"rgb(248, 156, 116)\", \"rgb(246, 207, 113)\", \"rgb(248, 156, 116)\", \"rgb(246, 207, 113)\", \"rgb(135, 197, 95)\", \"rgb(246, 207, 113)\", \"rgb(246, 207, 113)\", \"rgb(246, 207, 113)\", \"rgb(179, 179, 179)\", \"rgb(254, 136, 177)\", \"rgb(248, 156, 116)\", \"rgb(246, 207, 113)\", \"rgb(135, 197, 95)\", \"rgb(135, 197, 95)\", \"rgb(180, 151, 231)\", \"rgb(248, 156, 116)\", \"rgb(179, 179, 179)\", \"rgb(220, 176, 242)\", \"rgb(220, 176, 242)\", \"rgb(180, 151, 231)\", \"rgb(180, 151, 231)\", \"rgb(180, 151, 231)\", \"rgb(248, 156, 116)\", \"rgb(180, 151, 231)\", \"rgb(179, 179, 179)\", \"rgb(135, 197, 95)\", \"rgb(179, 179, 179)\", \"rgb(135, 197, 95)\", \"rgb(135, 197, 95)\", \"rgb(135, 197, 95)\", \"rgb(254, 136, 177)\", \"rgb(254, 136, 177)\", \"rgb(102, 197, 204)\", \"rgb(246, 207, 113)\", \"rgb(102, 197, 204)\", \"rgb(102, 197, 204)\", \"rgb(139, 224, 164)\", \"rgb(135, 197, 95)\", \"rgb(179, 179, 179)\", \"rgb(102, 197, 204)\", \"rgb(102, 197, 204)\", \"rgb(179, 179, 179)\", \"rgb(248, 156, 116)\", \"rgb(246, 207, 113)\", \"rgb(135, 197, 95)\", \"rgb(179, 179, 179)\", \"rgb(179, 179, 179)\", \"rgb(248, 156, 116)\", \"rgb(246, 207, 113)\", \"rgb(135, 197, 95)\", \"rgb(246, 207, 113)\", \"rgb(201, 219, 116)\", \"rgb(246, 207, 113)\", \"rgb(246, 207, 113)\", \"rgb(246, 207, 113)\", \"rgb(139, 224, 164)\", \"rgb(180, 151, 231)\", \"rgb(180, 151, 231)\", \"rgb(246, 207, 113)\", \"rgb(179, 179, 179)\", \"rgb(139, 224, 164)\", \"rgb(102, 197, 204)\", \"rgb(158, 185, 243)\", \"rgb(158, 185, 243)\", \"rgb(254, 136, 177)\", \"rgb(158, 185, 243)\", \"rgb(254, 136, 177)\", \"rgb(246, 207, 113)\", \"rgb(246, 207, 113)\", \"rgb(179, 179, 179)\", \"rgb(254, 136, 177)\", \"rgb(158, 185, 243)\", \"rgb(201, 219, 116)\", \"rgb(246, 207, 113)\", \"rgb(201, 219, 116)\", \"rgb(220, 176, 242)\", \"rgb(201, 219, 116)\", \"rgb(158, 185, 243)\", \"rgb(139, 224, 164)\", \"rgb(246, 207, 113)\", \"rgb(179, 179, 179)\", \"rgb(139, 224, 164)\", \"rgb(139, 224, 164)\", \"rgb(180, 151, 231)\", \"rgb(139, 224, 164)\", \"rgb(201, 219, 116)\", \"rgb(248, 156, 116)\", \"rgb(139, 224, 164)\", \"rgb(248, 156, 116)\", \"rgb(246, 207, 113)\", \"rgb(139, 224, 164)\", \"rgb(139, 224, 164)\", \"rgb(135, 197, 95)\", \"rgb(220, 176, 242)\", \"rgb(139, 224, 164)\", \"rgb(139, 224, 164)\", \"rgb(248, 156, 116)\", \"rgb(201, 219, 116)\", \"rgb(220, 176, 242)\", \"rgb(158, 185, 243)\", \"rgb(102, 197, 204)\", \"rgb(220, 176, 242)\", \"rgb(201, 219, 116)\", \"rgb(102, 197, 204)\", \"rgb(248, 156, 116)\", \"rgb(179, 179, 179)\", \"rgb(246, 207, 113)\", \"rgb(248, 156, 116)\", \"rgb(139, 224, 164)\", \"rgb(246, 207, 113)\", \"rgb(135, 197, 95)\", \"rgb(254, 136, 177)\", \"rgb(180, 151, 231)\"]}, \"maxdepth\": -1, \"name\": \"\", \"parents\": [\"Hybrid Beer/Biere de Champagne / Biere Brut\", \"Pilsener & Pale Lager/German Helles\", \"Pilsener & Pale Lager/German Pilsner\", \"Porter/American Imperial Porter\", \"Dark Ale/Belgian Dark Ale\", \"Dark Ale/Belgian Dubble\", \"Strong Ale/Belgian Quadrupel \", \"Strong Ale/Belgian Strong Dark Ale\", \"Strong Ale/Belgian Strong Pale Ale\", \"Pilsener & Pale Lager/German Kellerbier / Zwickelbier\", \"Dark Ale/Winter Warmer\", \"Bock/German Maibock\", \"Pilsener & Pale Lager/European Strong Lager\", \"Wheat Beer/Berliner Weisse\", \"Strong Ale/Belgian Tripel \", \"Dark Lager/German Marzen / Oktoberfest\", \"Pilsener & Pale Lager/American Adjunt Lager\", \"Dark Lager/American Amber / Red Lager\", \"Pilsener & Pale Lager/American Imperial Pilsner\", \"Pilsener & Pale Lager/American Lager\", \"Pilsener & Pale Lager/American Light Lager\", \"Pilsener & Pale Lager/Bohemian Pilsener\", \"Specialty Beer/Japanese Happoshu\", \"Dark Lager/German Schwarzbier\", \"Pilsener & Pale Lager/European Export / Dortmunder\", \"Pilsener & Pale Lager/European Pale Lager\", \"Specialty Beer/Japanese Rice Lager\", \"Wild / Sour Beer/Leipzig Gose\", \"Dark Lager/Munich Dunkel Lager\", \"Dark Lager/Vienna Lager\", \"Pale Ale/American Amber / Red Ale\", \"Pale Ale/American Blonde Ale\", \"Porter/American Porter\", \"Brown Ale/English Dark Mild Ale\", \"Brown Ale/English Brown Ale\", \"Pale Ale/English Bitter\", \"Specialty Beer/Chile Beer\", \"Hybrid Beer/California Common / Steam Beer\", \"Pilsener & Pale Lager/American Malt Lager \", \"Stout/American Stout\", \"Pale Ale/American Pale Ale\", \"Pale Ale/English Extra Special \", \"Hybrid Beer/American Cream Ale\", \"Brown Ale/American Brown Ale\", \"Porter/Baltic Porter\", \"Specialty Beer/Finnish Sahti\", \"Dark Lager/European Dark Lager\", \"Dark Ale/German Roggenbier\", \"Stout/Foreign / Export Stout\", \"Stout/English Sweet / Milk Stout\", \"Dark Lager/German Rauchbier\", \"Porter/English Porter\", \"Pale Ale/English Pale Mild Ale\", \"Pale Ale/English Pale Ale\", \"Stout/English Oatmeal Stout\", \"Stout/English Stout\", \"India Pale Ale/English India Pale Ale\", \"Specialty Beer/Russian Kvass\", \"Porter/Robust Porter\", \"India Pale Ale/New England IPA\", \"Specialty Beer/Low Alcohol Beer\", \"Pale Ale/Irish Red Ale\", \"Stout/Irish Dry Stout\", \"Bock/German Eisbock\", \"Stout/Russian Imperial Stout\", \"Strong Ale/English Strong Ale\", \"Strong Ale/English Old Ale\", \"Strong Ale/English Barleywine\", \"Strong Ale/American Wheatwine Ale\", \"Specialty Beer/Smoke Beer\", \"Stout/American Imperial Stout\", \"Strong Ale/American Barleywine\", \"Porter/Smoke Porter\", \"Specialty Beer/Rye Beer\", \"Strong Ale/American Strong Ale\", \"Strong Ale/American Imperian Red Ale\", \"India Pale Ale/American Imperial IPA\", \"India Pale Ale/American Brut IPA\", \"India Pale Ale/American IPA\", \"Dark Ale/American Black Ale\", \"Pale Ale/German Kolsch\", \"Brown Ale/German Altbier\", \"Wild / Sour Beer/American Brett\", \"Hybrid Beer/Braggot\", \"Wheat Beer/Belgian Witbier \", \"Pale Ale/Belgian Saison\", \"Pale Ale/Belgian Pale Ale\", \"Wild / Sour Beer/Belgian Lambic\", \"Wild / Sour Beer/Flanders Oud Bruin \", \"Wild / Sour Beer/Belgian Gueuze\", \"Wild / Sour Beer/Belgian Fruit Lambic\", \"Wild / Sour Beer/Belgian Faro\", \"Pale Ale/Belgian Blonde Ale\", \"Wild / Sour Beer/American Wild Ale\", \"India Pale Ale/Belgian IPA\", \"Specialty Beer/Herb and Spice Beer\", \"Bock/German Weizenbock\", \"Bock/German Bock\", \"Bock/German Doppelbock\", \"Pale Ale/French Biere de Garde\", \"Wild / Sour Beer/Flanders Red Ale\", \"Specialty Beer/Fruit and Field Beer\", \"Wheat Beer/German Hefeweizen\", \"Specialty Beer/Pumpkin Beer\", \"Strong Ale/Scotch Ale / Wee Heavy\", \"Dark Ale/Scottish Ale\", \"Specialty Beer/Scottish Gruit / Ancient Herbed Ale\", \"Wheat Beer/American Dark Wheat Ale\", \"Wheat Beer/American Pale Wheat Ale\", \"Wheat Beer/German Dunkelweizen \", \"Wheat Beer/German Kristalweizen\", \"Pilsener & Pale Lager\", \"Pale Ale\", \"Dark Lager\", \"Strong Ale\", \"Dark Ale\", \"Pale Ale\", \"Wild / Sour Beer\", \"Brown Ale\", \"India Pale Ale\", \"Hybrid Beer\", \"Wheat Beer\", \"India Pale Ale\", \"India Pale Ale\", \"Pilsener & Pale Lager\", \"Porter\", \"Stout\", \"Strong Ale\", \"Pilsener & Pale Lager\", \"Pilsener & Pale Lager\", \"Pilsener & Pale Lager\", \"Pale Ale\", \"Wheat Beer\", \"Porter\", \"Stout\", \"Strong Ale\", \"Strong Ale\", \"Wild / Sour Beer\", \"Porter\", \"Pale Ale\", \"Dark Ale\", \"Dark Ale\", \"Wild / Sour Beer\", \"Wild / Sour Beer\", \"Wild / Sour Beer\", \"India Pale Ale\", \"Wild / Sour Beer\", \"Pale Ale\", \"Strong Ale\", \"Pale Ale\", \"Strong Ale\", \"Strong Ale\", \"Strong Ale\", \"Wheat Beer\", \"Wheat Beer\", \"Hybrid Beer\", \"Pilsener & Pale Lager\", \"Hybrid Beer\", \"Hybrid Beer\", \"Specialty Beer\", \"Strong Ale\", \"Pale Ale\", \"Brown Ale\", \"Brown Ale\", \"Pale Ale\", \"India Pale Ale\", \"Stout\", \"Strong Ale\", \"Pale Ale\", \"Pale Ale\", \"Porter\", \"Stout\", \"Strong Ale\", \"Stout\", \"Dark Lager\", \"Pilsener & Pale Lager\", \"Pilsener & Pale Lager\", \"Pilsener & Pale Lager\", \"Specialty Beer\", \"Wild / Sour Beer\", \"Wild / Sour Beer\", \"Stout\", \"Pale Ale\", \"Specialty Beer\", \"Brown Ale\", \"Bock\", \"Bock\", \"Wheat Beer\", \"Bock\", \"Wheat Beer\", \"Pilsener & Pale Lager\", \"Pilsener & Pale Lager\", \"Pale Ale\", \"Wheat Beer\", \"Bock\", \"Dark Lager\", \"Pilsener & Pale Lager\", \"Dark Lager\", \"Dark Ale\", \"Dark Lager\", \"Bock\", \"Specialty Beer\", \"Stout\", \"Pale Ale\", \"Specialty Beer\", \"Specialty Beer\", \"Wild / Sour Beer\", \"Specialty Beer\", \"Dark Lager\", \"India Pale Ale\", \"Specialty Beer\", \"Porter\", \"Stout\", \"Specialty Beer\", \"Specialty Beer\", \"Strong Ale\", \"Dark Ale\", \"Specialty Beer\", \"Specialty Beer\", \"Porter\", \"Dark Lager\", \"Dark Ale\", \"\", \"\", \"\", \"\", \"\", \"\", \"\", \"\", \"\", \"\", \"\", \"\", \"\", \"\"], \"textinfo\": \"label+percent entry\", \"type\": \"sunburst\", \"values\": [1, 1, 1, 1, 1, 1, 1, 1, 1, 1, 1, 1, 1, 1, 1, 1, 1, 1, 1, 1, 1, 1, 1, 1, 1, 1, 1, 1, 1, 1, 1, 1, 1, 1, 1, 1, 1, 1, 1, 1, 1, 1, 1, 1, 1, 1, 1, 1, 1, 1, 1, 1, 1, 1, 1, 1, 1, 1, 1, 1, 1, 1, 1, 1, 1, 1, 1, 1, 1, 1, 1, 1, 1, 1, 1, 1, 1, 1, 1, 1, 1, 1, 1, 1, 1, 1, 1, 1, 1, 1, 1, 1, 1, 1, 1, 1, 1, 1, 1, 1, 1, 1, 1, 1, 1, 1, 1, 1, 1, 1, 1, 1, 1, 1, 1, 1, 1, 1, 1, 1, 1, 1, 1, 1, 1, 1, 1, 1, 1, 1, 1, 1, 1, 1, 1, 1, 1, 1, 1, 1, 1, 1, 1, 1, 1, 1, 1, 1, 1, 1, 1, 1, 1, 1, 1, 1, 1, 1, 1, 1, 1, 1, 1, 1, 1, 1, 1, 1, 1, 1, 1, 1, 1, 1, 1, 1, 1, 1, 1, 1, 1, 1, 1, 1, 1, 1, 1, 1, 1, 1, 1, 1, 1, 1, 1, 1, 1, 1, 1, 1, 1, 1, 1, 1, 1, 1, 1, 1, 1, 1, 1, 1, 1, 1, 1, 1, 1, 1, 1, 1, 1, 1, 5, 4, 6, 7, 4, 6, 13, 12, 6, 12, 8, 12, 7, 9]}],                        {\"legend\": {\"tracegroupgap\": 0}, \"margin\": {\"b\": 0, \"l\": 0, \"r\": 0, \"t\": 0}, \"sunburstcolorway\": [\"rgb(102, 197, 204)\", \"rgb(246, 207, 113)\", \"rgb(248, 156, 116)\", \"rgb(220, 176, 242)\", \"rgb(135, 197, 95)\", \"rgb(158, 185, 243)\", \"rgb(254, 136, 177)\", \"rgb(201, 219, 116)\", \"rgb(139, 224, 164)\", \"rgb(180, 151, 231)\", \"rgb(179, 179, 179)\"], \"template\": {\"data\": {\"bar\": [{\"error_x\": {\"color\": \"#2a3f5f\"}, \"error_y\": {\"color\": \"#2a3f5f\"}, \"marker\": {\"line\": {\"color\": \"#E5ECF6\", \"width\": 0.5}}, \"type\": \"bar\"}], \"barpolar\": [{\"marker\": {\"line\": {\"color\": \"#E5ECF6\", \"width\": 0.5}}, \"type\": \"barpolar\"}], \"carpet\": [{\"aaxis\": {\"endlinecolor\": \"#2a3f5f\", \"gridcolor\": \"white\", \"linecolor\": \"white\", \"minorgridcolor\": \"white\", \"startlinecolor\": \"#2a3f5f\"}, \"baxis\": {\"endlinecolor\": \"#2a3f5f\", \"gridcolor\": \"white\", \"linecolor\": \"white\", \"minorgridcolor\": \"white\", \"startlinecolor\": \"#2a3f5f\"}, \"type\": \"carpet\"}], \"choropleth\": [{\"colorbar\": {\"outlinewidth\": 0, \"ticks\": \"\"}, \"type\": \"choropleth\"}], \"contour\": [{\"colorbar\": {\"outlinewidth\": 0, \"ticks\": \"\"}, \"colorscale\": [[0.0, \"#0d0887\"], [0.1111111111111111, \"#46039f\"], [0.2222222222222222, \"#7201a8\"], [0.3333333333333333, \"#9c179e\"], [0.4444444444444444, \"#bd3786\"], [0.5555555555555556, \"#d8576b\"], [0.6666666666666666, \"#ed7953\"], [0.7777777777777778, \"#fb9f3a\"], [0.8888888888888888, \"#fdca26\"], [1.0, \"#f0f921\"]], \"type\": \"contour\"}], \"contourcarpet\": [{\"colorbar\": {\"outlinewidth\": 0, \"ticks\": \"\"}, \"type\": \"contourcarpet\"}], \"heatmap\": [{\"colorbar\": {\"outlinewidth\": 0, \"ticks\": \"\"}, \"colorscale\": [[0.0, \"#0d0887\"], [0.1111111111111111, \"#46039f\"], [0.2222222222222222, \"#7201a8\"], [0.3333333333333333, \"#9c179e\"], [0.4444444444444444, \"#bd3786\"], [0.5555555555555556, \"#d8576b\"], [0.6666666666666666, \"#ed7953\"], [0.7777777777777778, \"#fb9f3a\"], [0.8888888888888888, \"#fdca26\"], [1.0, \"#f0f921\"]], \"type\": \"heatmap\"}], \"heatmapgl\": [{\"colorbar\": {\"outlinewidth\": 0, \"ticks\": \"\"}, \"colorscale\": [[0.0, \"#0d0887\"], [0.1111111111111111, \"#46039f\"], [0.2222222222222222, \"#7201a8\"], [0.3333333333333333, \"#9c179e\"], [0.4444444444444444, \"#bd3786\"], [0.5555555555555556, \"#d8576b\"], [0.6666666666666666, \"#ed7953\"], [0.7777777777777778, \"#fb9f3a\"], [0.8888888888888888, \"#fdca26\"], [1.0, \"#f0f921\"]], \"type\": \"heatmapgl\"}], \"histogram\": [{\"marker\": {\"colorbar\": {\"outlinewidth\": 0, \"ticks\": \"\"}}, \"type\": \"histogram\"}], \"histogram2d\": [{\"colorbar\": {\"outlinewidth\": 0, \"ticks\": \"\"}, \"colorscale\": [[0.0, \"#0d0887\"], [0.1111111111111111, \"#46039f\"], [0.2222222222222222, \"#7201a8\"], [0.3333333333333333, \"#9c179e\"], [0.4444444444444444, \"#bd3786\"], [0.5555555555555556, \"#d8576b\"], [0.6666666666666666, \"#ed7953\"], [0.7777777777777778, \"#fb9f3a\"], [0.8888888888888888, \"#fdca26\"], [1.0, \"#f0f921\"]], \"type\": \"histogram2d\"}], \"histogram2dcontour\": [{\"colorbar\": {\"outlinewidth\": 0, \"ticks\": \"\"}, \"colorscale\": [[0.0, \"#0d0887\"], [0.1111111111111111, \"#46039f\"], [0.2222222222222222, \"#7201a8\"], [0.3333333333333333, \"#9c179e\"], [0.4444444444444444, \"#bd3786\"], [0.5555555555555556, \"#d8576b\"], [0.6666666666666666, \"#ed7953\"], [0.7777777777777778, \"#fb9f3a\"], [0.8888888888888888, \"#fdca26\"], [1.0, \"#f0f921\"]], \"type\": \"histogram2dcontour\"}], \"mesh3d\": [{\"colorbar\": {\"outlinewidth\": 0, \"ticks\": \"\"}, \"type\": \"mesh3d\"}], \"parcoords\": [{\"line\": {\"colorbar\": {\"outlinewidth\": 0, \"ticks\": \"\"}}, \"type\": \"parcoords\"}], \"pie\": [{\"automargin\": true, \"type\": \"pie\"}], \"scatter\": [{\"marker\": {\"colorbar\": {\"outlinewidth\": 0, \"ticks\": \"\"}}, \"type\": \"scatter\"}], \"scatter3d\": [{\"line\": {\"colorbar\": {\"outlinewidth\": 0, \"ticks\": \"\"}}, \"marker\": {\"colorbar\": {\"outlinewidth\": 0, \"ticks\": \"\"}}, \"type\": \"scatter3d\"}], \"scattercarpet\": [{\"marker\": {\"colorbar\": {\"outlinewidth\": 0, \"ticks\": \"\"}}, \"type\": \"scattercarpet\"}], \"scattergeo\": [{\"marker\": {\"colorbar\": {\"outlinewidth\": 0, \"ticks\": \"\"}}, \"type\": \"scattergeo\"}], \"scattergl\": [{\"marker\": {\"colorbar\": {\"outlinewidth\": 0, \"ticks\": \"\"}}, \"type\": \"scattergl\"}], \"scattermapbox\": [{\"marker\": {\"colorbar\": {\"outlinewidth\": 0, \"ticks\": \"\"}}, \"type\": \"scattermapbox\"}], \"scatterpolar\": [{\"marker\": {\"colorbar\": {\"outlinewidth\": 0, \"ticks\": \"\"}}, \"type\": \"scatterpolar\"}], \"scatterpolargl\": [{\"marker\": {\"colorbar\": {\"outlinewidth\": 0, \"ticks\": \"\"}}, \"type\": \"scatterpolargl\"}], \"scatterternary\": [{\"marker\": {\"colorbar\": {\"outlinewidth\": 0, \"ticks\": \"\"}}, \"type\": \"scatterternary\"}], \"surface\": [{\"colorbar\": {\"outlinewidth\": 0, \"ticks\": \"\"}, \"colorscale\": [[0.0, \"#0d0887\"], [0.1111111111111111, \"#46039f\"], [0.2222222222222222, \"#7201a8\"], [0.3333333333333333, \"#9c179e\"], [0.4444444444444444, \"#bd3786\"], [0.5555555555555556, \"#d8576b\"], [0.6666666666666666, \"#ed7953\"], [0.7777777777777778, \"#fb9f3a\"], [0.8888888888888888, \"#fdca26\"], [1.0, \"#f0f921\"]], \"type\": \"surface\"}], \"table\": [{\"cells\": {\"fill\": {\"color\": \"#EBF0F8\"}, \"line\": {\"color\": \"white\"}}, \"header\": {\"fill\": {\"color\": \"#C8D4E3\"}, \"line\": {\"color\": \"white\"}}, \"type\": \"table\"}]}, \"layout\": {\"annotationdefaults\": {\"arrowcolor\": \"#2a3f5f\", \"arrowhead\": 0, \"arrowwidth\": 1}, \"autotypenumbers\": \"strict\", \"coloraxis\": {\"colorbar\": {\"outlinewidth\": 0, \"ticks\": \"\"}}, \"colorscale\": {\"diverging\": [[0, \"#8e0152\"], [0.1, \"#c51b7d\"], [0.2, \"#de77ae\"], [0.3, \"#f1b6da\"], [0.4, \"#fde0ef\"], [0.5, \"#f7f7f7\"], [0.6, \"#e6f5d0\"], [0.7, \"#b8e186\"], [0.8, \"#7fbc41\"], [0.9, \"#4d9221\"], [1, \"#276419\"]], \"sequential\": [[0.0, \"#0d0887\"], [0.1111111111111111, \"#46039f\"], [0.2222222222222222, \"#7201a8\"], [0.3333333333333333, \"#9c179e\"], [0.4444444444444444, \"#bd3786\"], [0.5555555555555556, \"#d8576b\"], [0.6666666666666666, \"#ed7953\"], [0.7777777777777778, \"#fb9f3a\"], [0.8888888888888888, \"#fdca26\"], [1.0, \"#f0f921\"]], \"sequentialminus\": [[0.0, \"#0d0887\"], [0.1111111111111111, \"#46039f\"], [0.2222222222222222, \"#7201a8\"], [0.3333333333333333, \"#9c179e\"], [0.4444444444444444, \"#bd3786\"], [0.5555555555555556, \"#d8576b\"], [0.6666666666666666, \"#ed7953\"], [0.7777777777777778, \"#fb9f3a\"], [0.8888888888888888, \"#fdca26\"], [1.0, \"#f0f921\"]]}, \"colorway\": [\"#636efa\", \"#EF553B\", \"#00cc96\", \"#ab63fa\", \"#FFA15A\", \"#19d3f3\", \"#FF6692\", \"#B6E880\", \"#FF97FF\", \"#FECB52\"], \"font\": {\"color\": \"#2a3f5f\"}, \"geo\": {\"bgcolor\": \"white\", \"lakecolor\": \"white\", \"landcolor\": \"#E5ECF6\", \"showlakes\": true, \"showland\": true, \"subunitcolor\": \"white\"}, \"hoverlabel\": {\"align\": \"left\"}, \"hovermode\": \"closest\", \"mapbox\": {\"style\": \"light\"}, \"paper_bgcolor\": \"white\", \"plot_bgcolor\": \"#E5ECF6\", \"polar\": {\"angularaxis\": {\"gridcolor\": \"white\", \"linecolor\": \"white\", \"ticks\": \"\"}, \"bgcolor\": \"#E5ECF6\", \"radialaxis\": {\"gridcolor\": \"white\", \"linecolor\": \"white\", \"ticks\": \"\"}}, \"scene\": {\"xaxis\": {\"backgroundcolor\": \"#E5ECF6\", \"gridcolor\": \"white\", \"gridwidth\": 2, \"linecolor\": \"white\", \"showbackground\": true, \"ticks\": \"\", \"zerolinecolor\": \"white\"}, \"yaxis\": {\"backgroundcolor\": \"#E5ECF6\", \"gridcolor\": \"white\", \"gridwidth\": 2, \"linecolor\": \"white\", \"showbackground\": true, \"ticks\": \"\", \"zerolinecolor\": \"white\"}, \"zaxis\": {\"backgroundcolor\": \"#E5ECF6\", \"gridcolor\": \"white\", \"gridwidth\": 2, \"linecolor\": \"white\", \"showbackground\": true, \"ticks\": \"\", \"zerolinecolor\": \"white\"}}, \"shapedefaults\": {\"line\": {\"color\": \"#2a3f5f\"}}, \"ternary\": {\"aaxis\": {\"gridcolor\": \"white\", \"linecolor\": \"white\", \"ticks\": \"\"}, \"baxis\": {\"gridcolor\": \"white\", \"linecolor\": \"white\", \"ticks\": \"\"}, \"bgcolor\": \"#E5ECF6\", \"caxis\": {\"gridcolor\": \"white\", \"linecolor\": \"white\", \"ticks\": \"\"}}, \"title\": {\"x\": 0.05}, \"xaxis\": {\"automargin\": true, \"gridcolor\": \"white\", \"linecolor\": \"white\", \"ticks\": \"\", \"title\": {\"standoff\": 15}, \"zerolinecolor\": \"white\", \"zerolinewidth\": 2}, \"yaxis\": {\"automargin\": true, \"gridcolor\": \"white\", \"linecolor\": \"white\", \"ticks\": \"\", \"title\": {\"standoff\": 15}, \"zerolinecolor\": \"white\", \"zerolinewidth\": 2}}}},                        {\"responsive\": true}                    ).then(function(){\n",
       "                            \n",
       "var gd = document.getElementById('6a24d7da-cd75-466d-b5c8-a18d2ab9c93d');\n",
       "var x = new MutationObserver(function (mutations, observer) {{\n",
       "        var display = window.getComputedStyle(gd).display;\n",
       "        if (!display || display === 'none') {{\n",
       "            console.log([gd, 'removed!']);\n",
       "            Plotly.purge(gd);\n",
       "            observer.disconnect();\n",
       "        }}\n",
       "}});\n",
       "\n",
       "// Listen for the removal of the full notebook cells\n",
       "var notebookContainer = gd.closest('#notebook-container');\n",
       "if (notebookContainer) {{\n",
       "    x.observe(notebookContainer, {childList: true});\n",
       "}}\n",
       "\n",
       "// Listen for the clearing of the current output cell\n",
       "var outputEl = gd.closest('.output');\n",
       "if (outputEl) {{\n",
       "    x.observe(outputEl, {childList: true});\n",
       "}}\n",
       "\n",
       "                        })                };                });            </script>        </div>"
      ]
     },
     "metadata": {},
     "output_type": "display_data"
    }
   ],
   "source": [
    "fig.update_traces(textinfo='label+percent entry')\n",
    "fig.update_layout(margin=dict(t=0, l=0, r=0, b=0))\n"
   ]
  },
  {
   "cell_type": "code",
   "execution_count": null,
   "metadata": {},
   "outputs": [],
   "source": []
  },
  {
   "cell_type": "code",
   "execution_count": null,
   "metadata": {},
   "outputs": [],
   "source": []
  },
  {
   "cell_type": "code",
   "execution_count": null,
   "metadata": {},
   "outputs": [],
   "source": []
  },
  {
   "cell_type": "code",
   "execution_count": null,
   "metadata": {},
   "outputs": [],
   "source": []
  },
  {
   "cell_type": "code",
   "execution_count": null,
   "metadata": {},
   "outputs": [],
   "source": []
  },
  {
   "cell_type": "code",
   "execution_count": null,
   "metadata": {},
   "outputs": [],
   "source": []
  }
 ],
 "metadata": {
  "kernelspec": {
   "display_name": "Python [conda env:PyData] *",
   "language": "python",
   "name": "conda-env-PyData-py"
  },
  "language_info": {
   "codemirror_mode": {
    "name": "ipython",
    "version": 3
   },
   "file_extension": ".py",
   "mimetype": "text/x-python",
   "name": "python",
   "nbconvert_exporter": "python",
   "pygments_lexer": "ipython3",
   "version": "3.6.10"
  }
 },
 "nbformat": 4,
 "nbformat_minor": 4
}
