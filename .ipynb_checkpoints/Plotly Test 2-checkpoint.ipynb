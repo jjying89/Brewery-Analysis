{
 "cells": [
  {
   "cell_type": "code",
   "execution_count": 1,
   "metadata": {},
   "outputs": [],
   "source": [
    "import plotly.express as px \n",
    "import pandas as pd \n",
    "import numpy as np"
   ]
  },
  {
   "cell_type": "code",
   "execution_count": 2,
   "metadata": {},
   "outputs": [],
   "source": [
    "# File to Load\n",
    "csv_file = \"csv/usa_breweries2.csv\"\n",
    "\n",
    "# file path\n",
    "beer_df2 = pd.read_csv(csv_file)"
   ]
  },
  {
   "cell_type": "code",
   "execution_count": 3,
   "metadata": {},
   "outputs": [
    {
     "data": {
      "text/html": [
       "<div>\n",
       "<style scoped>\n",
       "    .dataframe tbody tr th:only-of-type {\n",
       "        vertical-align: middle;\n",
       "    }\n",
       "\n",
       "    .dataframe tbody tr th {\n",
       "        vertical-align: top;\n",
       "    }\n",
       "\n",
       "    .dataframe thead th {\n",
       "        text-align: right;\n",
       "    }\n",
       "</style>\n",
       "<table border=\"1\" class=\"dataframe\">\n",
       "  <thead>\n",
       "    <tr style=\"text-align: right;\">\n",
       "      <th></th>\n",
       "      <th>id</th>\n",
       "      <th>name</th>\n",
       "      <th>city</th>\n",
       "      <th>state</th>\n",
       "      <th>country</th>\n",
       "      <th>types</th>\n",
       "    </tr>\n",
       "  </thead>\n",
       "  <tbody>\n",
       "    <tr>\n",
       "      <th>0</th>\n",
       "      <td>32541</td>\n",
       "      <td>Coachella Valley Brewing Co</td>\n",
       "      <td>Thousand Palms</td>\n",
       "      <td>CA</td>\n",
       "      <td>US</td>\n",
       "      <td>Brewery, Bar, Beer-to-go</td>\n",
       "    </tr>\n",
       "    <tr>\n",
       "      <th>1</th>\n",
       "      <td>31986</td>\n",
       "      <td>Power Marketing / Wicked Pissa</td>\n",
       "      <td>Westport</td>\n",
       "      <td>MA</td>\n",
       "      <td>US</td>\n",
       "      <td>Brewery</td>\n",
       "    </tr>\n",
       "    <tr>\n",
       "      <th>2</th>\n",
       "      <td>8590</td>\n",
       "      <td>Wet Planet Beverage Co.</td>\n",
       "      <td>Utica</td>\n",
       "      <td>NY</td>\n",
       "      <td>US</td>\n",
       "      <td>Brewery</td>\n",
       "    </tr>\n",
       "    <tr>\n",
       "      <th>3</th>\n",
       "      <td>53919</td>\n",
       "      <td>Amity Ales Brewpub and Eatery</td>\n",
       "      <td>Amityville</td>\n",
       "      <td>NY</td>\n",
       "      <td>US</td>\n",
       "      <td>Brewery, Bar, Eatery</td>\n",
       "    </tr>\n",
       "    <tr>\n",
       "      <th>4</th>\n",
       "      <td>48475</td>\n",
       "      <td>Springdale Barrel Room</td>\n",
       "      <td>Framingham</td>\n",
       "      <td>MA</td>\n",
       "      <td>US</td>\n",
       "      <td>Brewery, Bar</td>\n",
       "    </tr>\n",
       "  </tbody>\n",
       "</table>\n",
       "</div>"
      ],
      "text/plain": [
       "      id                            name            city state country  \\\n",
       "0  32541     Coachella Valley Brewing Co  Thousand Palms    CA      US   \n",
       "1  31986  Power Marketing / Wicked Pissa        Westport    MA      US   \n",
       "2   8590         Wet Planet Beverage Co.           Utica    NY      US   \n",
       "3  53919   Amity Ales Brewpub and Eatery      Amityville    NY      US   \n",
       "4  48475          Springdale Barrel Room      Framingham    MA      US   \n",
       "\n",
       "                      types  \n",
       "0  Brewery, Bar, Beer-to-go  \n",
       "1                   Brewery  \n",
       "2                   Brewery  \n",
       "3      Brewery, Bar, Eatery  \n",
       "4              Brewery, Bar  "
      ]
     },
     "execution_count": 3,
     "metadata": {},
     "output_type": "execute_result"
    }
   ],
   "source": [
    "beer_df2.head()"
   ]
  },
  {
   "cell_type": "code",
   "execution_count": 4,
   "metadata": {},
   "outputs": [],
   "source": [
    "#beer_df2 = beer_df2[beer_df2['state'] == 'PA']"
   ]
  },
  {
   "cell_type": "code",
   "execution_count": 5,
   "metadata": {},
   "outputs": [],
   "source": [
    "#beer_df2[\"city\"].value_counts()"
   ]
  },
  {
   "cell_type": "code",
   "execution_count": 6,
   "metadata": {},
   "outputs": [],
   "source": [
    "beer_df2 = beer_df2[beer_df2[\"state\"].isin(['NY', 'PA', 'GA'])]"
   ]
  },
  {
   "cell_type": "code",
   "execution_count": 7,
   "metadata": {},
   "outputs": [],
   "source": [
    "beer_df2 = beer_df2[beer_df2[\"types\"].isin(['Brewery', 'Brewery, Bar'])]"
   ]
  },
  {
   "cell_type": "code",
   "execution_count": 8,
   "metadata": {},
   "outputs": [],
   "source": [
    "beer_df2 = beer_df2[beer_df2[\"city\"].isin(['Atlanta', 'Alpharetta', 'Savannah', 'Athens', 'Brooklyn', 'New York', 'Rochester', 'Buffalo', 'Philapdelphia', 'Pittsburgh', 'Harrisburg', 'Lancaster'])]"
   ]
  },
  {
   "cell_type": "code",
   "execution_count": 13,
   "metadata": {},
   "outputs": [],
   "source": [
    "fig = px.sunburst(\n",
    "    data_frame=beer_df2,\n",
    "    path=[\"state\", \"types\", \"city\", \"name\"], \n",
    "    color=\"state\",\n",
    "    color_discrete_sequence=px.colors.qualitative.Vivid,\n",
    "    maxdepth=-1,\n",
    ")"
   ]
  },
  {
   "cell_type": "code",
   "execution_count": 14,
   "metadata": {},
   "outputs": [
    {
     "data": {
      "application/vnd.plotly.v1+json": {
       "config": {
        "plotlyServerURL": "https://plot.ly"
       },
       "data": [
        {
         "branchvalues": "total",
         "customdata": [
          [
           "PA"
          ],
          [
           "NY"
          ],
          [
           "NY"
          ],
          [
           "NY"
          ],
          [
           "NY"
          ],
          [
           "NY"
          ],
          [
           "PA"
          ],
          [
           "NY"
          ],
          [
           "GA"
          ],
          [
           "NY"
          ],
          [
           "NY"
          ],
          [
           "PA"
          ],
          [
           "NY"
          ],
          [
           "NY"
          ],
          [
           "GA"
          ],
          [
           "GA"
          ],
          [
           "PA"
          ],
          [
           "NY"
          ],
          [
           "NY"
          ],
          [
           "NY"
          ],
          [
           "GA"
          ],
          [
           "GA"
          ],
          [
           "GA"
          ],
          [
           "NY"
          ],
          [
           "NY"
          ],
          [
           "NY"
          ],
          [
           "GA"
          ],
          [
           "NY"
          ],
          [
           "NY"
          ],
          [
           "NY"
          ],
          [
           "NY"
          ],
          [
           "NY"
          ],
          [
           "NY"
          ],
          [
           "GA"
          ],
          [
           "NY"
          ],
          [
           "NY"
          ],
          [
           "PA"
          ],
          [
           "NY"
          ],
          [
           "PA"
          ],
          [
           "PA"
          ],
          [
           "GA"
          ],
          [
           "GA"
          ],
          [
           "NY"
          ],
          [
           "NY"
          ],
          [
           "GA"
          ],
          [
           "NY"
          ],
          [
           "PA"
          ],
          [
           "NY"
          ],
          [
           "GA"
          ],
          [
           "NY"
          ],
          [
           "PA"
          ],
          [
           "NY"
          ],
          [
           "GA"
          ],
          [
           "NY"
          ],
          [
           "GA"
          ],
          [
           "NY"
          ],
          [
           "GA"
          ],
          [
           "NY"
          ],
          [
           "NY"
          ],
          [
           "GA"
          ],
          [
           "GA"
          ],
          [
           "GA"
          ],
          [
           "GA"
          ],
          [
           "GA"
          ],
          [
           "GA"
          ],
          [
           "GA"
          ],
          [
           "NY"
          ],
          [
           "NY"
          ],
          [
           "NY"
          ],
          [
           "PA"
          ],
          [
           "PA"
          ],
          [
           "NY"
          ],
          [
           "PA"
          ],
          [
           "PA"
          ],
          [
           "NY"
          ],
          [
           "PA"
          ],
          [
           "NY"
          ],
          [
           "GA"
          ],
          [
           "GA"
          ],
          [
           "GA"
          ],
          [
           "NY"
          ],
          [
           "PA"
          ],
          [
           "GA"
          ],
          [
           "NY"
          ],
          [
           "PA"
          ],
          [
           "GA"
          ],
          [
           "NY"
          ],
          [
           "PA"
          ]
         ],
         "domain": {
          "x": [
           0,
           1
          ],
          "y": [
           0,
           1
          ]
         },
         "hovertemplate": "labels=%{label}<br>count=%{value}<br>parent=%{parent}<br>id=%{id}<br>state=%{customdata[0]}<extra></extra>",
         "ids": [
          "PA/Brewery/Harrisburg/Millbock Brewing Company",
          "NY/Brewery, Bar/Brooklyn/Five Boroughs Brewing Co",
          "NY/Brewery/Brooklyn/Cuzett Libations",
          "NY/Brewery/New York/Radiant Pig Craft Beers",
          "NY/Brewery/Rochester/Genesee Brewing Co. / Dundee Brewing Co.",
          "NY/Brewery, Bar/Brooklyn/Greenpoint Beerworks / Kelso of Brooklyn",
          "PA/Brewery/Pittsburgh/Pittsburgh Brewing Co.",
          "NY/Brewery/New York/Harlem Brewing Company",
          "GA/Brewery/Athens/The Southern Brewing Company",
          "NY/Brewery/New York/Third Rail Beer",
          "NY/Brewery/Brooklyn/Park Slope Brewing Company",
          "PA/Brewery/Lancaster/Baldy Beard Brewing Company",
          "NY/Brewery/New York/Owl's Brew Radler",
          "NY/Brewery/Rochester/McCoy Brewery & Co",
          "GA/Brewery/Atlanta/Zuma Brewing Company",
          "GA/Brewery, Bar/Atlanta/Monday Night Brewing",
          "PA/Brewery/Lancaster/Fetish Brewing Company",
          "NY/Brewery/Rochester/Rogers Beer Company",
          "NY/Brewery/Brooklyn/Secret Engine Brewing",
          "NY/Brewery/New York/Ruckus Brewing",
          "GA/Brewery, Bar/Atlanta/Orpheus Brewing",
          "GA/Brewery/Savannah/Service Brewing Company",
          "GA/Brewery, Bar/Savannah/Southbound Brewing Company",
          "NY/Brewery/New York/Spring Street Brewing Company",
          "NY/Brewery, Bar/Brooklyn/Strong Rope Brewery",
          "NY/Brewery/Brooklyn/Sunday Beer Co",
          "GA/Brewery, Bar/Atlanta/SweetWater Brewing Company",
          "NY/Brewery, Bar/Rochester/Three Heads Brewing",
          "NY/Brewery/Rochester/Three Heads Brewing (DUPLICATE)",
          "NY/Brewery, Bar/Brooklyn/Vice Media",
          "NY/Brewery/Brooklyn/War Flag Ales & Lagers",
          "NY/Brewery, Bar/Brooklyn/Wartega",
          "NY/Brewery/Rochester/Roscoe's Hop House",
          "GA/Brewery/Savannah/Old Savannah Brewing Company",
          "NY/Brewery/New York/212 Brewing Company",
          "NY/Brewery/Brooklyn/_____ (Blank) Brewing",
          "PA/Brewery/Rochester/Brixton Brewing",
          "NY/Brewery, Bar/Brooklyn/Brooklyn Brewery",
          "PA/Brewery/Pittsburgh/CoStar Brewing",
          "PA/Brewery, Bar/Pittsburgh/Bitter Alchemist",
          "GA/Brewery, Bar/Athens/Creature Comforts",
          "GA/Brewery, Bar/Atlanta/Atlanta Brewing Company",
          "NY/Brewery/New York/Bomb Beer Company",
          "NY/Brewery/New York/Alphabet City Brewing Company",
          "GA/Brewery, Bar/Atlanta/Eventide Brewing",
          "NY/Brewery/Brooklyn/Evil Twin Brewing",
          "PA/Brewery/Pittsburgh/Allegheny City Brewing",
          "NY/Brewery, Bar/Brooklyn/Grimm Artisanal Ales",
          "GA/Brewery/Alpharetta/Jekyll Brewing",
          "NY/Brewery/Brooklyn/Lineup Brewing",
          "PA/Brewery/Pittsburgh/Duquesne Bottling Company",
          "NY/Brewery/Brooklyn/Braven Brewing Company",
          "GA/Brewery/Atlanta/Bad Monkey Brewing Company",
          "NY/Brewery/New York/New Amsterdam Brewing Company",
          "GA/Brewery/Atlanta/O'Dempsey's",
          "NY/Brewery/Rochester/Custom Tap Brews",
          "GA/Brewery/Atlanta/Dogwood Brewing Company",
          "NY/Brewery/Rochester/Double Take Brewing Company",
          "NY/Brewery, Bar/Buffalo/Flying Bison Brewing Company",
          "GA/Brewery, Bar/Athens/Terrapin Beer Company",
          "GA/Brewery/Atlanta/Steady Hand Beer Co.",
          "GA/Brewery/Alpharetta",
          "GA/Brewery/Athens",
          "GA/Brewery, Bar/Athens",
          "GA/Brewery/Atlanta",
          "GA/Brewery, Bar/Atlanta",
          "NY/Brewery/Brooklyn",
          "NY/Brewery, Bar/Brooklyn",
          "NY/Brewery, Bar/Buffalo",
          "PA/Brewery/Harrisburg",
          "PA/Brewery/Lancaster",
          "NY/Brewery/New York",
          "PA/Brewery/Pittsburgh",
          "PA/Brewery, Bar/Pittsburgh",
          "NY/Brewery/Rochester",
          "PA/Brewery/Rochester",
          "NY/Brewery, Bar/Rochester",
          "GA/Brewery/Savannah",
          "GA/Brewery, Bar/Savannah",
          "GA/Brewery",
          "NY/Brewery",
          "PA/Brewery",
          "GA/Brewery, Bar",
          "NY/Brewery, Bar",
          "PA/Brewery, Bar",
          "GA",
          "NY",
          "PA"
         ],
         "labels": [
          "Millbock Brewing Company",
          "Five Boroughs Brewing Co",
          "Cuzett Libations",
          "Radiant Pig Craft Beers",
          "Genesee Brewing Co. / Dundee Brewing Co.",
          "Greenpoint Beerworks / Kelso of Brooklyn",
          "Pittsburgh Brewing Co.",
          "Harlem Brewing Company",
          "The Southern Brewing Company",
          "Third Rail Beer",
          "Park Slope Brewing Company",
          "Baldy Beard Brewing Company",
          "Owl's Brew Radler",
          "McCoy Brewery & Co",
          "Zuma Brewing Company",
          "Monday Night Brewing",
          "Fetish Brewing Company",
          "Rogers Beer Company",
          "Secret Engine Brewing",
          "Ruckus Brewing",
          "Orpheus Brewing",
          "Service Brewing Company",
          "Southbound Brewing Company",
          "Spring Street Brewing Company",
          "Strong Rope Brewery",
          "Sunday Beer Co",
          "SweetWater Brewing Company",
          "Three Heads Brewing",
          "Three Heads Brewing (DUPLICATE)",
          "Vice Media",
          "War Flag Ales & Lagers",
          "Wartega",
          "Roscoe's Hop House",
          "Old Savannah Brewing Company",
          "212 Brewing Company",
          "_____ (Blank) Brewing",
          "Brixton Brewing",
          "Brooklyn Brewery",
          "CoStar Brewing",
          "Bitter Alchemist",
          "Creature Comforts",
          "Atlanta Brewing Company",
          "Bomb Beer Company",
          "Alphabet City Brewing Company",
          "Eventide Brewing",
          "Evil Twin Brewing",
          "Allegheny City Brewing",
          "Grimm Artisanal Ales",
          "Jekyll Brewing",
          "Lineup Brewing",
          "Duquesne Bottling Company",
          "Braven Brewing Company",
          "Bad Monkey Brewing Company",
          "New Amsterdam Brewing Company",
          "O'Dempsey's",
          "Custom Tap Brews",
          "Dogwood Brewing Company",
          "Double Take Brewing Company",
          "Flying Bison Brewing Company",
          "Terrapin Beer Company",
          "Steady Hand Beer Co.",
          "Alpharetta",
          "Athens",
          "Athens",
          "Atlanta",
          "Atlanta",
          "Brooklyn",
          "Brooklyn",
          "Buffalo",
          "Harrisburg",
          "Lancaster",
          "New York",
          "Pittsburgh",
          "Pittsburgh",
          "Rochester",
          "Rochester",
          "Rochester",
          "Savannah",
          "Savannah",
          "Brewery",
          "Brewery",
          "Brewery",
          "Brewery, Bar",
          "Brewery, Bar",
          "Brewery, Bar",
          "GA",
          "NY",
          "PA"
         ],
         "marker": {
          "colors": [
           "rgb(229, 134, 6)",
           "rgb(93, 105, 177)",
           "rgb(93, 105, 177)",
           "rgb(93, 105, 177)",
           "rgb(93, 105, 177)",
           "rgb(93, 105, 177)",
           "rgb(229, 134, 6)",
           "rgb(93, 105, 177)",
           "rgb(82, 188, 163)",
           "rgb(93, 105, 177)",
           "rgb(93, 105, 177)",
           "rgb(229, 134, 6)",
           "rgb(93, 105, 177)",
           "rgb(93, 105, 177)",
           "rgb(82, 188, 163)",
           "rgb(82, 188, 163)",
           "rgb(229, 134, 6)",
           "rgb(93, 105, 177)",
           "rgb(93, 105, 177)",
           "rgb(93, 105, 177)",
           "rgb(82, 188, 163)",
           "rgb(82, 188, 163)",
           "rgb(82, 188, 163)",
           "rgb(93, 105, 177)",
           "rgb(93, 105, 177)",
           "rgb(93, 105, 177)",
           "rgb(82, 188, 163)",
           "rgb(93, 105, 177)",
           "rgb(93, 105, 177)",
           "rgb(93, 105, 177)",
           "rgb(93, 105, 177)",
           "rgb(93, 105, 177)",
           "rgb(93, 105, 177)",
           "rgb(82, 188, 163)",
           "rgb(93, 105, 177)",
           "rgb(93, 105, 177)",
           "rgb(229, 134, 6)",
           "rgb(93, 105, 177)",
           "rgb(229, 134, 6)",
           "rgb(229, 134, 6)",
           "rgb(82, 188, 163)",
           "rgb(82, 188, 163)",
           "rgb(93, 105, 177)",
           "rgb(93, 105, 177)",
           "rgb(82, 188, 163)",
           "rgb(93, 105, 177)",
           "rgb(229, 134, 6)",
           "rgb(93, 105, 177)",
           "rgb(82, 188, 163)",
           "rgb(93, 105, 177)",
           "rgb(229, 134, 6)",
           "rgb(93, 105, 177)",
           "rgb(82, 188, 163)",
           "rgb(93, 105, 177)",
           "rgb(82, 188, 163)",
           "rgb(93, 105, 177)",
           "rgb(82, 188, 163)",
           "rgb(93, 105, 177)",
           "rgb(93, 105, 177)",
           "rgb(82, 188, 163)",
           "rgb(82, 188, 163)",
           "rgb(82, 188, 163)",
           "rgb(82, 188, 163)",
           "rgb(82, 188, 163)",
           "rgb(82, 188, 163)",
           "rgb(82, 188, 163)",
           "rgb(93, 105, 177)",
           "rgb(93, 105, 177)",
           "rgb(93, 105, 177)",
           "rgb(229, 134, 6)",
           "rgb(229, 134, 6)",
           "rgb(93, 105, 177)",
           "rgb(229, 134, 6)",
           "rgb(229, 134, 6)",
           "rgb(93, 105, 177)",
           "rgb(229, 134, 6)",
           "rgb(93, 105, 177)",
           "rgb(82, 188, 163)",
           "rgb(82, 188, 163)",
           "rgb(82, 188, 163)",
           "rgb(93, 105, 177)",
           "rgb(229, 134, 6)",
           "rgb(82, 188, 163)",
           "rgb(93, 105, 177)",
           "rgb(229, 134, 6)",
           "rgb(82, 188, 163)",
           "rgb(93, 105, 177)",
           "rgb(229, 134, 6)"
          ]
         },
         "maxdepth": -1,
         "name": "",
         "parents": [
          "PA/Brewery/Harrisburg",
          "NY/Brewery, Bar/Brooklyn",
          "NY/Brewery/Brooklyn",
          "NY/Brewery/New York",
          "NY/Brewery/Rochester",
          "NY/Brewery, Bar/Brooklyn",
          "PA/Brewery/Pittsburgh",
          "NY/Brewery/New York",
          "GA/Brewery/Athens",
          "NY/Brewery/New York",
          "NY/Brewery/Brooklyn",
          "PA/Brewery/Lancaster",
          "NY/Brewery/New York",
          "NY/Brewery/Rochester",
          "GA/Brewery/Atlanta",
          "GA/Brewery, Bar/Atlanta",
          "PA/Brewery/Lancaster",
          "NY/Brewery/Rochester",
          "NY/Brewery/Brooklyn",
          "NY/Brewery/New York",
          "GA/Brewery, Bar/Atlanta",
          "GA/Brewery/Savannah",
          "GA/Brewery, Bar/Savannah",
          "NY/Brewery/New York",
          "NY/Brewery, Bar/Brooklyn",
          "NY/Brewery/Brooklyn",
          "GA/Brewery, Bar/Atlanta",
          "NY/Brewery, Bar/Rochester",
          "NY/Brewery/Rochester",
          "NY/Brewery, Bar/Brooklyn",
          "NY/Brewery/Brooklyn",
          "NY/Brewery, Bar/Brooklyn",
          "NY/Brewery/Rochester",
          "GA/Brewery/Savannah",
          "NY/Brewery/New York",
          "NY/Brewery/Brooklyn",
          "PA/Brewery/Rochester",
          "NY/Brewery, Bar/Brooklyn",
          "PA/Brewery/Pittsburgh",
          "PA/Brewery, Bar/Pittsburgh",
          "GA/Brewery, Bar/Athens",
          "GA/Brewery, Bar/Atlanta",
          "NY/Brewery/New York",
          "NY/Brewery/New York",
          "GA/Brewery, Bar/Atlanta",
          "NY/Brewery/Brooklyn",
          "PA/Brewery/Pittsburgh",
          "NY/Brewery, Bar/Brooklyn",
          "GA/Brewery/Alpharetta",
          "NY/Brewery/Brooklyn",
          "PA/Brewery/Pittsburgh",
          "NY/Brewery/Brooklyn",
          "GA/Brewery/Atlanta",
          "NY/Brewery/New York",
          "GA/Brewery/Atlanta",
          "NY/Brewery/Rochester",
          "GA/Brewery/Atlanta",
          "NY/Brewery/Rochester",
          "NY/Brewery, Bar/Buffalo",
          "GA/Brewery, Bar/Athens",
          "GA/Brewery/Atlanta",
          "GA/Brewery",
          "GA/Brewery",
          "GA/Brewery, Bar",
          "GA/Brewery",
          "GA/Brewery, Bar",
          "NY/Brewery",
          "NY/Brewery, Bar",
          "NY/Brewery, Bar",
          "PA/Brewery",
          "PA/Brewery",
          "NY/Brewery",
          "PA/Brewery",
          "PA/Brewery, Bar",
          "NY/Brewery",
          "PA/Brewery",
          "NY/Brewery, Bar",
          "GA/Brewery",
          "GA/Brewery, Bar",
          "GA",
          "NY",
          "PA",
          "GA",
          "NY",
          "PA",
          "",
          "",
          ""
         ],
         "textinfo": "label+percent entry",
         "type": "sunburst",
         "values": [
          1,
          1,
          1,
          1,
          1,
          1,
          1,
          1,
          1,
          1,
          1,
          1,
          1,
          1,
          1,
          1,
          1,
          1,
          1,
          1,
          1,
          1,
          1,
          1,
          1,
          1,
          1,
          1,
          1,
          1,
          1,
          1,
          1,
          1,
          1,
          1,
          1,
          1,
          1,
          1,
          1,
          1,
          1,
          1,
          1,
          1,
          1,
          1,
          1,
          1,
          1,
          1,
          1,
          1,
          1,
          1,
          1,
          1,
          1,
          1,
          1,
          1,
          1,
          2,
          5,
          5,
          9,
          7,
          1,
          1,
          2,
          10,
          4,
          1,
          7,
          1,
          1,
          2,
          1,
          9,
          26,
          8,
          8,
          9,
          1,
          17,
          35,
          9
         ]
        }
       ],
       "layout": {
        "legend": {
         "tracegroupgap": 0
        },
        "margin": {
         "b": 0,
         "l": 0,
         "r": 0,
         "t": 0
        },
        "sunburstcolorway": [
         "rgb(229, 134, 6)",
         "rgb(93, 105, 177)",
         "rgb(82, 188, 163)",
         "rgb(153, 201, 69)",
         "rgb(204, 97, 176)",
         "rgb(36, 121, 108)",
         "rgb(218, 165, 27)",
         "rgb(47, 138, 196)",
         "rgb(118, 78, 159)",
         "rgb(237, 100, 90)",
         "rgb(165, 170, 153)"
        ],
        "template": {
         "data": {
          "bar": [
           {
            "error_x": {
             "color": "#2a3f5f"
            },
            "error_y": {
             "color": "#2a3f5f"
            },
            "marker": {
             "line": {
              "color": "#E5ECF6",
              "width": 0.5
             }
            },
            "type": "bar"
           }
          ],
          "barpolar": [
           {
            "marker": {
             "line": {
              "color": "#E5ECF6",
              "width": 0.5
             }
            },
            "type": "barpolar"
           }
          ],
          "carpet": [
           {
            "aaxis": {
             "endlinecolor": "#2a3f5f",
             "gridcolor": "white",
             "linecolor": "white",
             "minorgridcolor": "white",
             "startlinecolor": "#2a3f5f"
            },
            "baxis": {
             "endlinecolor": "#2a3f5f",
             "gridcolor": "white",
             "linecolor": "white",
             "minorgridcolor": "white",
             "startlinecolor": "#2a3f5f"
            },
            "type": "carpet"
           }
          ],
          "choropleth": [
           {
            "colorbar": {
             "outlinewidth": 0,
             "ticks": ""
            },
            "type": "choropleth"
           }
          ],
          "contour": [
           {
            "colorbar": {
             "outlinewidth": 0,
             "ticks": ""
            },
            "colorscale": [
             [
              0,
              "#0d0887"
             ],
             [
              0.1111111111111111,
              "#46039f"
             ],
             [
              0.2222222222222222,
              "#7201a8"
             ],
             [
              0.3333333333333333,
              "#9c179e"
             ],
             [
              0.4444444444444444,
              "#bd3786"
             ],
             [
              0.5555555555555556,
              "#d8576b"
             ],
             [
              0.6666666666666666,
              "#ed7953"
             ],
             [
              0.7777777777777778,
              "#fb9f3a"
             ],
             [
              0.8888888888888888,
              "#fdca26"
             ],
             [
              1,
              "#f0f921"
             ]
            ],
            "type": "contour"
           }
          ],
          "contourcarpet": [
           {
            "colorbar": {
             "outlinewidth": 0,
             "ticks": ""
            },
            "type": "contourcarpet"
           }
          ],
          "heatmap": [
           {
            "colorbar": {
             "outlinewidth": 0,
             "ticks": ""
            },
            "colorscale": [
             [
              0,
              "#0d0887"
             ],
             [
              0.1111111111111111,
              "#46039f"
             ],
             [
              0.2222222222222222,
              "#7201a8"
             ],
             [
              0.3333333333333333,
              "#9c179e"
             ],
             [
              0.4444444444444444,
              "#bd3786"
             ],
             [
              0.5555555555555556,
              "#d8576b"
             ],
             [
              0.6666666666666666,
              "#ed7953"
             ],
             [
              0.7777777777777778,
              "#fb9f3a"
             ],
             [
              0.8888888888888888,
              "#fdca26"
             ],
             [
              1,
              "#f0f921"
             ]
            ],
            "type": "heatmap"
           }
          ],
          "heatmapgl": [
           {
            "colorbar": {
             "outlinewidth": 0,
             "ticks": ""
            },
            "colorscale": [
             [
              0,
              "#0d0887"
             ],
             [
              0.1111111111111111,
              "#46039f"
             ],
             [
              0.2222222222222222,
              "#7201a8"
             ],
             [
              0.3333333333333333,
              "#9c179e"
             ],
             [
              0.4444444444444444,
              "#bd3786"
             ],
             [
              0.5555555555555556,
              "#d8576b"
             ],
             [
              0.6666666666666666,
              "#ed7953"
             ],
             [
              0.7777777777777778,
              "#fb9f3a"
             ],
             [
              0.8888888888888888,
              "#fdca26"
             ],
             [
              1,
              "#f0f921"
             ]
            ],
            "type": "heatmapgl"
           }
          ],
          "histogram": [
           {
            "marker": {
             "colorbar": {
              "outlinewidth": 0,
              "ticks": ""
             }
            },
            "type": "histogram"
           }
          ],
          "histogram2d": [
           {
            "colorbar": {
             "outlinewidth": 0,
             "ticks": ""
            },
            "colorscale": [
             [
              0,
              "#0d0887"
             ],
             [
              0.1111111111111111,
              "#46039f"
             ],
             [
              0.2222222222222222,
              "#7201a8"
             ],
             [
              0.3333333333333333,
              "#9c179e"
             ],
             [
              0.4444444444444444,
              "#bd3786"
             ],
             [
              0.5555555555555556,
              "#d8576b"
             ],
             [
              0.6666666666666666,
              "#ed7953"
             ],
             [
              0.7777777777777778,
              "#fb9f3a"
             ],
             [
              0.8888888888888888,
              "#fdca26"
             ],
             [
              1,
              "#f0f921"
             ]
            ],
            "type": "histogram2d"
           }
          ],
          "histogram2dcontour": [
           {
            "colorbar": {
             "outlinewidth": 0,
             "ticks": ""
            },
            "colorscale": [
             [
              0,
              "#0d0887"
             ],
             [
              0.1111111111111111,
              "#46039f"
             ],
             [
              0.2222222222222222,
              "#7201a8"
             ],
             [
              0.3333333333333333,
              "#9c179e"
             ],
             [
              0.4444444444444444,
              "#bd3786"
             ],
             [
              0.5555555555555556,
              "#d8576b"
             ],
             [
              0.6666666666666666,
              "#ed7953"
             ],
             [
              0.7777777777777778,
              "#fb9f3a"
             ],
             [
              0.8888888888888888,
              "#fdca26"
             ],
             [
              1,
              "#f0f921"
             ]
            ],
            "type": "histogram2dcontour"
           }
          ],
          "mesh3d": [
           {
            "colorbar": {
             "outlinewidth": 0,
             "ticks": ""
            },
            "type": "mesh3d"
           }
          ],
          "parcoords": [
           {
            "line": {
             "colorbar": {
              "outlinewidth": 0,
              "ticks": ""
             }
            },
            "type": "parcoords"
           }
          ],
          "pie": [
           {
            "automargin": true,
            "type": "pie"
           }
          ],
          "scatter": [
           {
            "marker": {
             "colorbar": {
              "outlinewidth": 0,
              "ticks": ""
             }
            },
            "type": "scatter"
           }
          ],
          "scatter3d": [
           {
            "line": {
             "colorbar": {
              "outlinewidth": 0,
              "ticks": ""
             }
            },
            "marker": {
             "colorbar": {
              "outlinewidth": 0,
              "ticks": ""
             }
            },
            "type": "scatter3d"
           }
          ],
          "scattercarpet": [
           {
            "marker": {
             "colorbar": {
              "outlinewidth": 0,
              "ticks": ""
             }
            },
            "type": "scattercarpet"
           }
          ],
          "scattergeo": [
           {
            "marker": {
             "colorbar": {
              "outlinewidth": 0,
              "ticks": ""
             }
            },
            "type": "scattergeo"
           }
          ],
          "scattergl": [
           {
            "marker": {
             "colorbar": {
              "outlinewidth": 0,
              "ticks": ""
             }
            },
            "type": "scattergl"
           }
          ],
          "scattermapbox": [
           {
            "marker": {
             "colorbar": {
              "outlinewidth": 0,
              "ticks": ""
             }
            },
            "type": "scattermapbox"
           }
          ],
          "scatterpolar": [
           {
            "marker": {
             "colorbar": {
              "outlinewidth": 0,
              "ticks": ""
             }
            },
            "type": "scatterpolar"
           }
          ],
          "scatterpolargl": [
           {
            "marker": {
             "colorbar": {
              "outlinewidth": 0,
              "ticks": ""
             }
            },
            "type": "scatterpolargl"
           }
          ],
          "scatterternary": [
           {
            "marker": {
             "colorbar": {
              "outlinewidth": 0,
              "ticks": ""
             }
            },
            "type": "scatterternary"
           }
          ],
          "surface": [
           {
            "colorbar": {
             "outlinewidth": 0,
             "ticks": ""
            },
            "colorscale": [
             [
              0,
              "#0d0887"
             ],
             [
              0.1111111111111111,
              "#46039f"
             ],
             [
              0.2222222222222222,
              "#7201a8"
             ],
             [
              0.3333333333333333,
              "#9c179e"
             ],
             [
              0.4444444444444444,
              "#bd3786"
             ],
             [
              0.5555555555555556,
              "#d8576b"
             ],
             [
              0.6666666666666666,
              "#ed7953"
             ],
             [
              0.7777777777777778,
              "#fb9f3a"
             ],
             [
              0.8888888888888888,
              "#fdca26"
             ],
             [
              1,
              "#f0f921"
             ]
            ],
            "type": "surface"
           }
          ],
          "table": [
           {
            "cells": {
             "fill": {
              "color": "#EBF0F8"
             },
             "line": {
              "color": "white"
             }
            },
            "header": {
             "fill": {
              "color": "#C8D4E3"
             },
             "line": {
              "color": "white"
             }
            },
            "type": "table"
           }
          ]
         },
         "layout": {
          "annotationdefaults": {
           "arrowcolor": "#2a3f5f",
           "arrowhead": 0,
           "arrowwidth": 1
          },
          "autotypenumbers": "strict",
          "coloraxis": {
           "colorbar": {
            "outlinewidth": 0,
            "ticks": ""
           }
          },
          "colorscale": {
           "diverging": [
            [
             0,
             "#8e0152"
            ],
            [
             0.1,
             "#c51b7d"
            ],
            [
             0.2,
             "#de77ae"
            ],
            [
             0.3,
             "#f1b6da"
            ],
            [
             0.4,
             "#fde0ef"
            ],
            [
             0.5,
             "#f7f7f7"
            ],
            [
             0.6,
             "#e6f5d0"
            ],
            [
             0.7,
             "#b8e186"
            ],
            [
             0.8,
             "#7fbc41"
            ],
            [
             0.9,
             "#4d9221"
            ],
            [
             1,
             "#276419"
            ]
           ],
           "sequential": [
            [
             0,
             "#0d0887"
            ],
            [
             0.1111111111111111,
             "#46039f"
            ],
            [
             0.2222222222222222,
             "#7201a8"
            ],
            [
             0.3333333333333333,
             "#9c179e"
            ],
            [
             0.4444444444444444,
             "#bd3786"
            ],
            [
             0.5555555555555556,
             "#d8576b"
            ],
            [
             0.6666666666666666,
             "#ed7953"
            ],
            [
             0.7777777777777778,
             "#fb9f3a"
            ],
            [
             0.8888888888888888,
             "#fdca26"
            ],
            [
             1,
             "#f0f921"
            ]
           ],
           "sequentialminus": [
            [
             0,
             "#0d0887"
            ],
            [
             0.1111111111111111,
             "#46039f"
            ],
            [
             0.2222222222222222,
             "#7201a8"
            ],
            [
             0.3333333333333333,
             "#9c179e"
            ],
            [
             0.4444444444444444,
             "#bd3786"
            ],
            [
             0.5555555555555556,
             "#d8576b"
            ],
            [
             0.6666666666666666,
             "#ed7953"
            ],
            [
             0.7777777777777778,
             "#fb9f3a"
            ],
            [
             0.8888888888888888,
             "#fdca26"
            ],
            [
             1,
             "#f0f921"
            ]
           ]
          },
          "colorway": [
           "#636efa",
           "#EF553B",
           "#00cc96",
           "#ab63fa",
           "#FFA15A",
           "#19d3f3",
           "#FF6692",
           "#B6E880",
           "#FF97FF",
           "#FECB52"
          ],
          "font": {
           "color": "#2a3f5f"
          },
          "geo": {
           "bgcolor": "white",
           "lakecolor": "white",
           "landcolor": "#E5ECF6",
           "showlakes": true,
           "showland": true,
           "subunitcolor": "white"
          },
          "hoverlabel": {
           "align": "left"
          },
          "hovermode": "closest",
          "mapbox": {
           "style": "light"
          },
          "paper_bgcolor": "white",
          "plot_bgcolor": "#E5ECF6",
          "polar": {
           "angularaxis": {
            "gridcolor": "white",
            "linecolor": "white",
            "ticks": ""
           },
           "bgcolor": "#E5ECF6",
           "radialaxis": {
            "gridcolor": "white",
            "linecolor": "white",
            "ticks": ""
           }
          },
          "scene": {
           "xaxis": {
            "backgroundcolor": "#E5ECF6",
            "gridcolor": "white",
            "gridwidth": 2,
            "linecolor": "white",
            "showbackground": true,
            "ticks": "",
            "zerolinecolor": "white"
           },
           "yaxis": {
            "backgroundcolor": "#E5ECF6",
            "gridcolor": "white",
            "gridwidth": 2,
            "linecolor": "white",
            "showbackground": true,
            "ticks": "",
            "zerolinecolor": "white"
           },
           "zaxis": {
            "backgroundcolor": "#E5ECF6",
            "gridcolor": "white",
            "gridwidth": 2,
            "linecolor": "white",
            "showbackground": true,
            "ticks": "",
            "zerolinecolor": "white"
           }
          },
          "shapedefaults": {
           "line": {
            "color": "#2a3f5f"
           }
          },
          "ternary": {
           "aaxis": {
            "gridcolor": "white",
            "linecolor": "white",
            "ticks": ""
           },
           "baxis": {
            "gridcolor": "white",
            "linecolor": "white",
            "ticks": ""
           },
           "bgcolor": "#E5ECF6",
           "caxis": {
            "gridcolor": "white",
            "linecolor": "white",
            "ticks": ""
           }
          },
          "title": {
           "x": 0.05
          },
          "xaxis": {
           "automargin": true,
           "gridcolor": "white",
           "linecolor": "white",
           "ticks": "",
           "title": {
            "standoff": 15
           },
           "zerolinecolor": "white",
           "zerolinewidth": 2
          },
          "yaxis": {
           "automargin": true,
           "gridcolor": "white",
           "linecolor": "white",
           "ticks": "",
           "title": {
            "standoff": 15
           },
           "zerolinecolor": "white",
           "zerolinewidth": 2
          }
         }
        }
       }
      },
      "text/html": [
       "<div>                            <div id=\"dec5b05f-a94e-4864-8acd-44573daf9114\" class=\"plotly-graph-div\" style=\"height:525px; width:100%;\"></div>            <script type=\"text/javascript\">                require([\"plotly\"], function(Plotly) {                    window.PLOTLYENV=window.PLOTLYENV || {};                                    if (document.getElementById(\"dec5b05f-a94e-4864-8acd-44573daf9114\")) {                    Plotly.newPlot(                        \"dec5b05f-a94e-4864-8acd-44573daf9114\",                        [{\"branchvalues\": \"total\", \"customdata\": [[\"PA\"], [\"NY\"], [\"NY\"], [\"NY\"], [\"NY\"], [\"NY\"], [\"PA\"], [\"NY\"], [\"GA\"], [\"NY\"], [\"NY\"], [\"PA\"], [\"NY\"], [\"NY\"], [\"GA\"], [\"GA\"], [\"PA\"], [\"NY\"], [\"NY\"], [\"NY\"], [\"GA\"], [\"GA\"], [\"GA\"], [\"NY\"], [\"NY\"], [\"NY\"], [\"GA\"], [\"NY\"], [\"NY\"], [\"NY\"], [\"NY\"], [\"NY\"], [\"NY\"], [\"GA\"], [\"NY\"], [\"NY\"], [\"PA\"], [\"NY\"], [\"PA\"], [\"PA\"], [\"GA\"], [\"GA\"], [\"NY\"], [\"NY\"], [\"GA\"], [\"NY\"], [\"PA\"], [\"NY\"], [\"GA\"], [\"NY\"], [\"PA\"], [\"NY\"], [\"GA\"], [\"NY\"], [\"GA\"], [\"NY\"], [\"GA\"], [\"NY\"], [\"NY\"], [\"GA\"], [\"GA\"], [\"GA\"], [\"GA\"], [\"GA\"], [\"GA\"], [\"GA\"], [\"NY\"], [\"NY\"], [\"NY\"], [\"PA\"], [\"PA\"], [\"NY\"], [\"PA\"], [\"PA\"], [\"NY\"], [\"PA\"], [\"NY\"], [\"GA\"], [\"GA\"], [\"GA\"], [\"NY\"], [\"PA\"], [\"GA\"], [\"NY\"], [\"PA\"], [\"GA\"], [\"NY\"], [\"PA\"]], \"domain\": {\"x\": [0.0, 1.0], \"y\": [0.0, 1.0]}, \"hovertemplate\": \"labels=%{label}<br>count=%{value}<br>parent=%{parent}<br>id=%{id}<br>state=%{customdata[0]}<extra></extra>\", \"ids\": [\"PA/Brewery/Harrisburg/Millbock Brewing Company\", \"NY/Brewery, Bar/Brooklyn/Five Boroughs Brewing Co\", \"NY/Brewery/Brooklyn/Cuzett Libations\", \"NY/Brewery/New York/Radiant Pig Craft Beers\", \"NY/Brewery/Rochester/Genesee Brewing Co. / Dundee Brewing Co.\", \"NY/Brewery, Bar/Brooklyn/Greenpoint Beerworks / Kelso of Brooklyn\", \"PA/Brewery/Pittsburgh/Pittsburgh Brewing Co.\", \"NY/Brewery/New York/Harlem Brewing Company\", \"GA/Brewery/Athens/The Southern Brewing Company\", \"NY/Brewery/New York/Third Rail Beer\", \"NY/Brewery/Brooklyn/Park Slope Brewing Company\", \"PA/Brewery/Lancaster/Baldy Beard Brewing Company\", \"NY/Brewery/New York/Owl's Brew Radler\", \"NY/Brewery/Rochester/McCoy Brewery & Co\", \"GA/Brewery/Atlanta/Zuma Brewing Company\", \"GA/Brewery, Bar/Atlanta/Monday Night Brewing\", \"PA/Brewery/Lancaster/Fetish Brewing Company\", \"NY/Brewery/Rochester/Rogers Beer Company\", \"NY/Brewery/Brooklyn/Secret Engine Brewing\", \"NY/Brewery/New York/Ruckus Brewing\", \"GA/Brewery, Bar/Atlanta/Orpheus Brewing\", \"GA/Brewery/Savannah/Service Brewing Company\", \"GA/Brewery, Bar/Savannah/Southbound Brewing Company\", \"NY/Brewery/New York/Spring Street Brewing Company\", \"NY/Brewery, Bar/Brooklyn/Strong Rope Brewery\", \"NY/Brewery/Brooklyn/Sunday Beer Co\", \"GA/Brewery, Bar/Atlanta/SweetWater Brewing Company\", \"NY/Brewery, Bar/Rochester/Three Heads Brewing\", \"NY/Brewery/Rochester/Three Heads Brewing (DUPLICATE)\", \"NY/Brewery, Bar/Brooklyn/Vice Media\", \"NY/Brewery/Brooklyn/War Flag Ales & Lagers\", \"NY/Brewery, Bar/Brooklyn/Wartega\", \"NY/Brewery/Rochester/Roscoe's Hop House\", \"GA/Brewery/Savannah/Old Savannah Brewing Company\", \"NY/Brewery/New York/212 Brewing Company\", \"NY/Brewery/Brooklyn/_____ (Blank) Brewing\", \"PA/Brewery/Rochester/Brixton Brewing\", \"NY/Brewery, Bar/Brooklyn/Brooklyn Brewery\", \"PA/Brewery/Pittsburgh/CoStar Brewing\", \"PA/Brewery, Bar/Pittsburgh/Bitter Alchemist\", \"GA/Brewery, Bar/Athens/Creature Comforts\", \"GA/Brewery, Bar/Atlanta/Atlanta Brewing Company\", \"NY/Brewery/New York/Bomb Beer Company\", \"NY/Brewery/New York/Alphabet City Brewing Company\", \"GA/Brewery, Bar/Atlanta/Eventide Brewing\", \"NY/Brewery/Brooklyn/Evil Twin Brewing\", \"PA/Brewery/Pittsburgh/Allegheny City Brewing\", \"NY/Brewery, Bar/Brooklyn/Grimm Artisanal Ales\", \"GA/Brewery/Alpharetta/Jekyll Brewing\", \"NY/Brewery/Brooklyn/Lineup Brewing\", \"PA/Brewery/Pittsburgh/Duquesne Bottling Company\", \"NY/Brewery/Brooklyn/Braven Brewing Company\", \"GA/Brewery/Atlanta/Bad Monkey Brewing Company\", \"NY/Brewery/New York/New Amsterdam Brewing Company\", \"GA/Brewery/Atlanta/O'Dempsey's\", \"NY/Brewery/Rochester/Custom Tap Brews\", \"GA/Brewery/Atlanta/Dogwood Brewing Company\", \"NY/Brewery/Rochester/Double Take Brewing Company\", \"NY/Brewery, Bar/Buffalo/Flying Bison Brewing Company\", \"GA/Brewery, Bar/Athens/Terrapin Beer Company\", \"GA/Brewery/Atlanta/Steady Hand Beer Co.\", \"GA/Brewery/Alpharetta\", \"GA/Brewery/Athens\", \"GA/Brewery, Bar/Athens\", \"GA/Brewery/Atlanta\", \"GA/Brewery, Bar/Atlanta\", \"NY/Brewery/Brooklyn\", \"NY/Brewery, Bar/Brooklyn\", \"NY/Brewery, Bar/Buffalo\", \"PA/Brewery/Harrisburg\", \"PA/Brewery/Lancaster\", \"NY/Brewery/New York\", \"PA/Brewery/Pittsburgh\", \"PA/Brewery, Bar/Pittsburgh\", \"NY/Brewery/Rochester\", \"PA/Brewery/Rochester\", \"NY/Brewery, Bar/Rochester\", \"GA/Brewery/Savannah\", \"GA/Brewery, Bar/Savannah\", \"GA/Brewery\", \"NY/Brewery\", \"PA/Brewery\", \"GA/Brewery, Bar\", \"NY/Brewery, Bar\", \"PA/Brewery, Bar\", \"GA\", \"NY\", \"PA\"], \"labels\": [\"Millbock Brewing Company\", \"Five Boroughs Brewing Co\", \"Cuzett Libations\", \"Radiant Pig Craft Beers\", \"Genesee Brewing Co. / Dundee Brewing Co.\", \"Greenpoint Beerworks / Kelso of Brooklyn\", \"Pittsburgh Brewing Co.\", \"Harlem Brewing Company\", \"The Southern Brewing Company\", \"Third Rail Beer\", \"Park Slope Brewing Company\", \"Baldy Beard Brewing Company\", \"Owl's Brew Radler\", \"McCoy Brewery & Co\", \"Zuma Brewing Company\", \"Monday Night Brewing\", \"Fetish Brewing Company\", \"Rogers Beer Company\", \"Secret Engine Brewing\", \"Ruckus Brewing\", \"Orpheus Brewing\", \"Service Brewing Company\", \"Southbound Brewing Company\", \"Spring Street Brewing Company\", \"Strong Rope Brewery\", \"Sunday Beer Co\", \"SweetWater Brewing Company\", \"Three Heads Brewing\", \"Three Heads Brewing (DUPLICATE)\", \"Vice Media\", \"War Flag Ales & Lagers\", \"Wartega\", \"Roscoe's Hop House\", \"Old Savannah Brewing Company\", \"212 Brewing Company\", \"_____ (Blank) Brewing\", \"Brixton Brewing\", \"Brooklyn Brewery\", \"CoStar Brewing\", \"Bitter Alchemist\", \"Creature Comforts\", \"Atlanta Brewing Company\", \"Bomb Beer Company\", \"Alphabet City Brewing Company\", \"Eventide Brewing\", \"Evil Twin Brewing\", \"Allegheny City Brewing\", \"Grimm Artisanal Ales\", \"Jekyll Brewing\", \"Lineup Brewing\", \"Duquesne Bottling Company\", \"Braven Brewing Company\", \"Bad Monkey Brewing Company\", \"New Amsterdam Brewing Company\", \"O'Dempsey's\", \"Custom Tap Brews\", \"Dogwood Brewing Company\", \"Double Take Brewing Company\", \"Flying Bison Brewing Company\", \"Terrapin Beer Company\", \"Steady Hand Beer Co.\", \"Alpharetta\", \"Athens\", \"Athens\", \"Atlanta\", \"Atlanta\", \"Brooklyn\", \"Brooklyn\", \"Buffalo\", \"Harrisburg\", \"Lancaster\", \"New York\", \"Pittsburgh\", \"Pittsburgh\", \"Rochester\", \"Rochester\", \"Rochester\", \"Savannah\", \"Savannah\", \"Brewery\", \"Brewery\", \"Brewery\", \"Brewery, Bar\", \"Brewery, Bar\", \"Brewery, Bar\", \"GA\", \"NY\", \"PA\"], \"marker\": {\"colors\": [\"rgb(229, 134, 6)\", \"rgb(93, 105, 177)\", \"rgb(93, 105, 177)\", \"rgb(93, 105, 177)\", \"rgb(93, 105, 177)\", \"rgb(93, 105, 177)\", \"rgb(229, 134, 6)\", \"rgb(93, 105, 177)\", \"rgb(82, 188, 163)\", \"rgb(93, 105, 177)\", \"rgb(93, 105, 177)\", \"rgb(229, 134, 6)\", \"rgb(93, 105, 177)\", \"rgb(93, 105, 177)\", \"rgb(82, 188, 163)\", \"rgb(82, 188, 163)\", \"rgb(229, 134, 6)\", \"rgb(93, 105, 177)\", \"rgb(93, 105, 177)\", \"rgb(93, 105, 177)\", \"rgb(82, 188, 163)\", \"rgb(82, 188, 163)\", \"rgb(82, 188, 163)\", \"rgb(93, 105, 177)\", \"rgb(93, 105, 177)\", \"rgb(93, 105, 177)\", \"rgb(82, 188, 163)\", \"rgb(93, 105, 177)\", \"rgb(93, 105, 177)\", \"rgb(93, 105, 177)\", \"rgb(93, 105, 177)\", \"rgb(93, 105, 177)\", \"rgb(93, 105, 177)\", \"rgb(82, 188, 163)\", \"rgb(93, 105, 177)\", \"rgb(93, 105, 177)\", \"rgb(229, 134, 6)\", \"rgb(93, 105, 177)\", \"rgb(229, 134, 6)\", \"rgb(229, 134, 6)\", \"rgb(82, 188, 163)\", \"rgb(82, 188, 163)\", \"rgb(93, 105, 177)\", \"rgb(93, 105, 177)\", \"rgb(82, 188, 163)\", \"rgb(93, 105, 177)\", \"rgb(229, 134, 6)\", \"rgb(93, 105, 177)\", \"rgb(82, 188, 163)\", \"rgb(93, 105, 177)\", \"rgb(229, 134, 6)\", \"rgb(93, 105, 177)\", \"rgb(82, 188, 163)\", \"rgb(93, 105, 177)\", \"rgb(82, 188, 163)\", \"rgb(93, 105, 177)\", \"rgb(82, 188, 163)\", \"rgb(93, 105, 177)\", \"rgb(93, 105, 177)\", \"rgb(82, 188, 163)\", \"rgb(82, 188, 163)\", \"rgb(82, 188, 163)\", \"rgb(82, 188, 163)\", \"rgb(82, 188, 163)\", \"rgb(82, 188, 163)\", \"rgb(82, 188, 163)\", \"rgb(93, 105, 177)\", \"rgb(93, 105, 177)\", \"rgb(93, 105, 177)\", \"rgb(229, 134, 6)\", \"rgb(229, 134, 6)\", \"rgb(93, 105, 177)\", \"rgb(229, 134, 6)\", \"rgb(229, 134, 6)\", \"rgb(93, 105, 177)\", \"rgb(229, 134, 6)\", \"rgb(93, 105, 177)\", \"rgb(82, 188, 163)\", \"rgb(82, 188, 163)\", \"rgb(82, 188, 163)\", \"rgb(93, 105, 177)\", \"rgb(229, 134, 6)\", \"rgb(82, 188, 163)\", \"rgb(93, 105, 177)\", \"rgb(229, 134, 6)\", \"rgb(82, 188, 163)\", \"rgb(93, 105, 177)\", \"rgb(229, 134, 6)\"]}, \"maxdepth\": -1, \"name\": \"\", \"parents\": [\"PA/Brewery/Harrisburg\", \"NY/Brewery, Bar/Brooklyn\", \"NY/Brewery/Brooklyn\", \"NY/Brewery/New York\", \"NY/Brewery/Rochester\", \"NY/Brewery, Bar/Brooklyn\", \"PA/Brewery/Pittsburgh\", \"NY/Brewery/New York\", \"GA/Brewery/Athens\", \"NY/Brewery/New York\", \"NY/Brewery/Brooklyn\", \"PA/Brewery/Lancaster\", \"NY/Brewery/New York\", \"NY/Brewery/Rochester\", \"GA/Brewery/Atlanta\", \"GA/Brewery, Bar/Atlanta\", \"PA/Brewery/Lancaster\", \"NY/Brewery/Rochester\", \"NY/Brewery/Brooklyn\", \"NY/Brewery/New York\", \"GA/Brewery, Bar/Atlanta\", \"GA/Brewery/Savannah\", \"GA/Brewery, Bar/Savannah\", \"NY/Brewery/New York\", \"NY/Brewery, Bar/Brooklyn\", \"NY/Brewery/Brooklyn\", \"GA/Brewery, Bar/Atlanta\", \"NY/Brewery, Bar/Rochester\", \"NY/Brewery/Rochester\", \"NY/Brewery, Bar/Brooklyn\", \"NY/Brewery/Brooklyn\", \"NY/Brewery, Bar/Brooklyn\", \"NY/Brewery/Rochester\", \"GA/Brewery/Savannah\", \"NY/Brewery/New York\", \"NY/Brewery/Brooklyn\", \"PA/Brewery/Rochester\", \"NY/Brewery, Bar/Brooklyn\", \"PA/Brewery/Pittsburgh\", \"PA/Brewery, Bar/Pittsburgh\", \"GA/Brewery, Bar/Athens\", \"GA/Brewery, Bar/Atlanta\", \"NY/Brewery/New York\", \"NY/Brewery/New York\", \"GA/Brewery, Bar/Atlanta\", \"NY/Brewery/Brooklyn\", \"PA/Brewery/Pittsburgh\", \"NY/Brewery, Bar/Brooklyn\", \"GA/Brewery/Alpharetta\", \"NY/Brewery/Brooklyn\", \"PA/Brewery/Pittsburgh\", \"NY/Brewery/Brooklyn\", \"GA/Brewery/Atlanta\", \"NY/Brewery/New York\", \"GA/Brewery/Atlanta\", \"NY/Brewery/Rochester\", \"GA/Brewery/Atlanta\", \"NY/Brewery/Rochester\", \"NY/Brewery, Bar/Buffalo\", \"GA/Brewery, Bar/Athens\", \"GA/Brewery/Atlanta\", \"GA/Brewery\", \"GA/Brewery\", \"GA/Brewery, Bar\", \"GA/Brewery\", \"GA/Brewery, Bar\", \"NY/Brewery\", \"NY/Brewery, Bar\", \"NY/Brewery, Bar\", \"PA/Brewery\", \"PA/Brewery\", \"NY/Brewery\", \"PA/Brewery\", \"PA/Brewery, Bar\", \"NY/Brewery\", \"PA/Brewery\", \"NY/Brewery, Bar\", \"GA/Brewery\", \"GA/Brewery, Bar\", \"GA\", \"NY\", \"PA\", \"GA\", \"NY\", \"PA\", \"\", \"\", \"\"], \"textinfo\": \"label+percent entry\", \"type\": \"sunburst\", \"values\": [1, 1, 1, 1, 1, 1, 1, 1, 1, 1, 1, 1, 1, 1, 1, 1, 1, 1, 1, 1, 1, 1, 1, 1, 1, 1, 1, 1, 1, 1, 1, 1, 1, 1, 1, 1, 1, 1, 1, 1, 1, 1, 1, 1, 1, 1, 1, 1, 1, 1, 1, 1, 1, 1, 1, 1, 1, 1, 1, 1, 1, 1, 1, 2, 5, 5, 9, 7, 1, 1, 2, 10, 4, 1, 7, 1, 1, 2, 1, 9, 26, 8, 8, 9, 1, 17, 35, 9]}],                        {\"legend\": {\"tracegroupgap\": 0}, \"margin\": {\"b\": 0, \"l\": 0, \"r\": 0, \"t\": 0}, \"sunburstcolorway\": [\"rgb(229, 134, 6)\", \"rgb(93, 105, 177)\", \"rgb(82, 188, 163)\", \"rgb(153, 201, 69)\", \"rgb(204, 97, 176)\", \"rgb(36, 121, 108)\", \"rgb(218, 165, 27)\", \"rgb(47, 138, 196)\", \"rgb(118, 78, 159)\", \"rgb(237, 100, 90)\", \"rgb(165, 170, 153)\"], \"template\": {\"data\": {\"bar\": [{\"error_x\": {\"color\": \"#2a3f5f\"}, \"error_y\": {\"color\": \"#2a3f5f\"}, \"marker\": {\"line\": {\"color\": \"#E5ECF6\", \"width\": 0.5}}, \"type\": \"bar\"}], \"barpolar\": [{\"marker\": {\"line\": {\"color\": \"#E5ECF6\", \"width\": 0.5}}, \"type\": \"barpolar\"}], \"carpet\": [{\"aaxis\": {\"endlinecolor\": \"#2a3f5f\", \"gridcolor\": \"white\", \"linecolor\": \"white\", \"minorgridcolor\": \"white\", \"startlinecolor\": \"#2a3f5f\"}, \"baxis\": {\"endlinecolor\": \"#2a3f5f\", \"gridcolor\": \"white\", \"linecolor\": \"white\", \"minorgridcolor\": \"white\", \"startlinecolor\": \"#2a3f5f\"}, \"type\": \"carpet\"}], \"choropleth\": [{\"colorbar\": {\"outlinewidth\": 0, \"ticks\": \"\"}, \"type\": \"choropleth\"}], \"contour\": [{\"colorbar\": {\"outlinewidth\": 0, \"ticks\": \"\"}, \"colorscale\": [[0.0, \"#0d0887\"], [0.1111111111111111, \"#46039f\"], [0.2222222222222222, \"#7201a8\"], [0.3333333333333333, \"#9c179e\"], [0.4444444444444444, \"#bd3786\"], [0.5555555555555556, \"#d8576b\"], [0.6666666666666666, \"#ed7953\"], [0.7777777777777778, \"#fb9f3a\"], [0.8888888888888888, \"#fdca26\"], [1.0, \"#f0f921\"]], \"type\": \"contour\"}], \"contourcarpet\": [{\"colorbar\": {\"outlinewidth\": 0, \"ticks\": \"\"}, \"type\": \"contourcarpet\"}], \"heatmap\": [{\"colorbar\": {\"outlinewidth\": 0, \"ticks\": \"\"}, \"colorscale\": [[0.0, \"#0d0887\"], [0.1111111111111111, \"#46039f\"], [0.2222222222222222, \"#7201a8\"], [0.3333333333333333, \"#9c179e\"], [0.4444444444444444, \"#bd3786\"], [0.5555555555555556, \"#d8576b\"], [0.6666666666666666, \"#ed7953\"], [0.7777777777777778, \"#fb9f3a\"], [0.8888888888888888, \"#fdca26\"], [1.0, \"#f0f921\"]], \"type\": \"heatmap\"}], \"heatmapgl\": [{\"colorbar\": {\"outlinewidth\": 0, \"ticks\": \"\"}, \"colorscale\": [[0.0, \"#0d0887\"], [0.1111111111111111, \"#46039f\"], [0.2222222222222222, \"#7201a8\"], [0.3333333333333333, \"#9c179e\"], [0.4444444444444444, \"#bd3786\"], [0.5555555555555556, \"#d8576b\"], [0.6666666666666666, \"#ed7953\"], [0.7777777777777778, \"#fb9f3a\"], [0.8888888888888888, \"#fdca26\"], [1.0, \"#f0f921\"]], \"type\": \"heatmapgl\"}], \"histogram\": [{\"marker\": {\"colorbar\": {\"outlinewidth\": 0, \"ticks\": \"\"}}, \"type\": \"histogram\"}], \"histogram2d\": [{\"colorbar\": {\"outlinewidth\": 0, \"ticks\": \"\"}, \"colorscale\": [[0.0, \"#0d0887\"], [0.1111111111111111, \"#46039f\"], [0.2222222222222222, \"#7201a8\"], [0.3333333333333333, \"#9c179e\"], [0.4444444444444444, \"#bd3786\"], [0.5555555555555556, \"#d8576b\"], [0.6666666666666666, \"#ed7953\"], [0.7777777777777778, \"#fb9f3a\"], [0.8888888888888888, \"#fdca26\"], [1.0, \"#f0f921\"]], \"type\": \"histogram2d\"}], \"histogram2dcontour\": [{\"colorbar\": {\"outlinewidth\": 0, \"ticks\": \"\"}, \"colorscale\": [[0.0, \"#0d0887\"], [0.1111111111111111, \"#46039f\"], [0.2222222222222222, \"#7201a8\"], [0.3333333333333333, \"#9c179e\"], [0.4444444444444444, \"#bd3786\"], [0.5555555555555556, \"#d8576b\"], [0.6666666666666666, \"#ed7953\"], [0.7777777777777778, \"#fb9f3a\"], [0.8888888888888888, \"#fdca26\"], [1.0, \"#f0f921\"]], \"type\": \"histogram2dcontour\"}], \"mesh3d\": [{\"colorbar\": {\"outlinewidth\": 0, \"ticks\": \"\"}, \"type\": \"mesh3d\"}], \"parcoords\": [{\"line\": {\"colorbar\": {\"outlinewidth\": 0, \"ticks\": \"\"}}, \"type\": \"parcoords\"}], \"pie\": [{\"automargin\": true, \"type\": \"pie\"}], \"scatter\": [{\"marker\": {\"colorbar\": {\"outlinewidth\": 0, \"ticks\": \"\"}}, \"type\": \"scatter\"}], \"scatter3d\": [{\"line\": {\"colorbar\": {\"outlinewidth\": 0, \"ticks\": \"\"}}, \"marker\": {\"colorbar\": {\"outlinewidth\": 0, \"ticks\": \"\"}}, \"type\": \"scatter3d\"}], \"scattercarpet\": [{\"marker\": {\"colorbar\": {\"outlinewidth\": 0, \"ticks\": \"\"}}, \"type\": \"scattercarpet\"}], \"scattergeo\": [{\"marker\": {\"colorbar\": {\"outlinewidth\": 0, \"ticks\": \"\"}}, \"type\": \"scattergeo\"}], \"scattergl\": [{\"marker\": {\"colorbar\": {\"outlinewidth\": 0, \"ticks\": \"\"}}, \"type\": \"scattergl\"}], \"scattermapbox\": [{\"marker\": {\"colorbar\": {\"outlinewidth\": 0, \"ticks\": \"\"}}, \"type\": \"scattermapbox\"}], \"scatterpolar\": [{\"marker\": {\"colorbar\": {\"outlinewidth\": 0, \"ticks\": \"\"}}, \"type\": \"scatterpolar\"}], \"scatterpolargl\": [{\"marker\": {\"colorbar\": {\"outlinewidth\": 0, \"ticks\": \"\"}}, \"type\": \"scatterpolargl\"}], \"scatterternary\": [{\"marker\": {\"colorbar\": {\"outlinewidth\": 0, \"ticks\": \"\"}}, \"type\": \"scatterternary\"}], \"surface\": [{\"colorbar\": {\"outlinewidth\": 0, \"ticks\": \"\"}, \"colorscale\": [[0.0, \"#0d0887\"], [0.1111111111111111, \"#46039f\"], [0.2222222222222222, \"#7201a8\"], [0.3333333333333333, \"#9c179e\"], [0.4444444444444444, \"#bd3786\"], [0.5555555555555556, \"#d8576b\"], [0.6666666666666666, \"#ed7953\"], [0.7777777777777778, \"#fb9f3a\"], [0.8888888888888888, \"#fdca26\"], [1.0, \"#f0f921\"]], \"type\": \"surface\"}], \"table\": [{\"cells\": {\"fill\": {\"color\": \"#EBF0F8\"}, \"line\": {\"color\": \"white\"}}, \"header\": {\"fill\": {\"color\": \"#C8D4E3\"}, \"line\": {\"color\": \"white\"}}, \"type\": \"table\"}]}, \"layout\": {\"annotationdefaults\": {\"arrowcolor\": \"#2a3f5f\", \"arrowhead\": 0, \"arrowwidth\": 1}, \"autotypenumbers\": \"strict\", \"coloraxis\": {\"colorbar\": {\"outlinewidth\": 0, \"ticks\": \"\"}}, \"colorscale\": {\"diverging\": [[0, \"#8e0152\"], [0.1, \"#c51b7d\"], [0.2, \"#de77ae\"], [0.3, \"#f1b6da\"], [0.4, \"#fde0ef\"], [0.5, \"#f7f7f7\"], [0.6, \"#e6f5d0\"], [0.7, \"#b8e186\"], [0.8, \"#7fbc41\"], [0.9, \"#4d9221\"], [1, \"#276419\"]], \"sequential\": [[0.0, \"#0d0887\"], [0.1111111111111111, \"#46039f\"], [0.2222222222222222, \"#7201a8\"], [0.3333333333333333, \"#9c179e\"], [0.4444444444444444, \"#bd3786\"], [0.5555555555555556, \"#d8576b\"], [0.6666666666666666, \"#ed7953\"], [0.7777777777777778, \"#fb9f3a\"], [0.8888888888888888, \"#fdca26\"], [1.0, \"#f0f921\"]], \"sequentialminus\": [[0.0, \"#0d0887\"], [0.1111111111111111, \"#46039f\"], [0.2222222222222222, \"#7201a8\"], [0.3333333333333333, \"#9c179e\"], [0.4444444444444444, \"#bd3786\"], [0.5555555555555556, \"#d8576b\"], [0.6666666666666666, \"#ed7953\"], [0.7777777777777778, \"#fb9f3a\"], [0.8888888888888888, \"#fdca26\"], [1.0, \"#f0f921\"]]}, \"colorway\": [\"#636efa\", \"#EF553B\", \"#00cc96\", \"#ab63fa\", \"#FFA15A\", \"#19d3f3\", \"#FF6692\", \"#B6E880\", \"#FF97FF\", \"#FECB52\"], \"font\": {\"color\": \"#2a3f5f\"}, \"geo\": {\"bgcolor\": \"white\", \"lakecolor\": \"white\", \"landcolor\": \"#E5ECF6\", \"showlakes\": true, \"showland\": true, \"subunitcolor\": \"white\"}, \"hoverlabel\": {\"align\": \"left\"}, \"hovermode\": \"closest\", \"mapbox\": {\"style\": \"light\"}, \"paper_bgcolor\": \"white\", \"plot_bgcolor\": \"#E5ECF6\", \"polar\": {\"angularaxis\": {\"gridcolor\": \"white\", \"linecolor\": \"white\", \"ticks\": \"\"}, \"bgcolor\": \"#E5ECF6\", \"radialaxis\": {\"gridcolor\": \"white\", \"linecolor\": \"white\", \"ticks\": \"\"}}, \"scene\": {\"xaxis\": {\"backgroundcolor\": \"#E5ECF6\", \"gridcolor\": \"white\", \"gridwidth\": 2, \"linecolor\": \"white\", \"showbackground\": true, \"ticks\": \"\", \"zerolinecolor\": \"white\"}, \"yaxis\": {\"backgroundcolor\": \"#E5ECF6\", \"gridcolor\": \"white\", \"gridwidth\": 2, \"linecolor\": \"white\", \"showbackground\": true, \"ticks\": \"\", \"zerolinecolor\": \"white\"}, \"zaxis\": {\"backgroundcolor\": \"#E5ECF6\", \"gridcolor\": \"white\", \"gridwidth\": 2, \"linecolor\": \"white\", \"showbackground\": true, \"ticks\": \"\", \"zerolinecolor\": \"white\"}}, \"shapedefaults\": {\"line\": {\"color\": \"#2a3f5f\"}}, \"ternary\": {\"aaxis\": {\"gridcolor\": \"white\", \"linecolor\": \"white\", \"ticks\": \"\"}, \"baxis\": {\"gridcolor\": \"white\", \"linecolor\": \"white\", \"ticks\": \"\"}, \"bgcolor\": \"#E5ECF6\", \"caxis\": {\"gridcolor\": \"white\", \"linecolor\": \"white\", \"ticks\": \"\"}}, \"title\": {\"x\": 0.05}, \"xaxis\": {\"automargin\": true, \"gridcolor\": \"white\", \"linecolor\": \"white\", \"ticks\": \"\", \"title\": {\"standoff\": 15}, \"zerolinecolor\": \"white\", \"zerolinewidth\": 2}, \"yaxis\": {\"automargin\": true, \"gridcolor\": \"white\", \"linecolor\": \"white\", \"ticks\": \"\", \"title\": {\"standoff\": 15}, \"zerolinecolor\": \"white\", \"zerolinewidth\": 2}}}},                        {\"responsive\": true}                    ).then(function(){\n",
       "                            \n",
       "var gd = document.getElementById('dec5b05f-a94e-4864-8acd-44573daf9114');\n",
       "var x = new MutationObserver(function (mutations, observer) {{\n",
       "        var display = window.getComputedStyle(gd).display;\n",
       "        if (!display || display === 'none') {{\n",
       "            console.log([gd, 'removed!']);\n",
       "            Plotly.purge(gd);\n",
       "            observer.disconnect();\n",
       "        }}\n",
       "}});\n",
       "\n",
       "// Listen for the removal of the full notebook cells\n",
       "var notebookContainer = gd.closest('#notebook-container');\n",
       "if (notebookContainer) {{\n",
       "    x.observe(notebookContainer, {childList: true});\n",
       "}}\n",
       "\n",
       "// Listen for the clearing of the current output cell\n",
       "var outputEl = gd.closest('.output');\n",
       "if (outputEl) {{\n",
       "    x.observe(outputEl, {childList: true});\n",
       "}}\n",
       "\n",
       "                        })                };                });            </script>        </div>"
      ]
     },
     "metadata": {},
     "output_type": "display_data"
    }
   ],
   "source": [
    "fig.update_traces(textinfo='label+percent entry')\n",
    "fig.update_layout(margin=dict(t=0, l=0, r=0, b=0))\n",
    "\n",
    "fig.show()"
   ]
  },
  {
   "cell_type": "code",
   "execution_count": null,
   "metadata": {},
   "outputs": [],
   "source": []
  }
 ],
 "metadata": {
  "kernelspec": {
   "display_name": "Python [conda env:PyData] *",
   "language": "python",
   "name": "conda-env-PyData-py"
  },
  "language_info": {
   "codemirror_mode": {
    "name": "ipython",
    "version": 3
   },
   "file_extension": ".py",
   "mimetype": "text/x-python",
   "name": "python",
   "nbconvert_exporter": "python",
   "pygments_lexer": "ipython3",
   "version": "3.6.10"
  }
 },
 "nbformat": 4,
 "nbformat_minor": 4
}
